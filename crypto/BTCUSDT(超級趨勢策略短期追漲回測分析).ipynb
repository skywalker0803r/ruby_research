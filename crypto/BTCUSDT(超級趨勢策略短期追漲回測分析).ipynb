{
  "nbformat": 4,
  "nbformat_minor": 0,
  "metadata": {
    "colab": {
      "name": "分析虛擬貨幣.ipynb",
      "provenance": [],
      "authorship_tag": "ABX9TyOrTdofBWcBtFp+yhzCUi2z",
      "include_colab_link": true
    },
    "kernelspec": {
      "name": "python3",
      "display_name": "Python 3"
    }
  },
  "cells": [
    {
      "cell_type": "markdown",
      "metadata": {
        "id": "view-in-github",
        "colab_type": "text"
      },
      "source": [
        "<a href=\"https://colab.research.google.com/github/skywalker0803r/ruby_research/blob/main/crypto/BTCUSDT(%E8%B6%85%E7%B4%9A%E8%B6%A8%E5%8B%A2%E7%AD%96%E7%95%A5%E7%9F%AD%E6%9C%9F%E8%BF%BD%E6%BC%B2%E5%9B%9E%E6%B8%AC%E5%88%86%E6%9E%90).ipynb\" target=\"_parent\"><img src=\"https://colab.research.google.com/assets/colab-badge.svg\" alt=\"Open In Colab\"/></a>"
      ]
    },
    {
      "cell_type": "markdown",
      "metadata": {
        "id": "nUdRbHHLFWWJ"
      },
      "source": [
        "# 設定"
      ]
    },
    {
      "cell_type": "code",
      "metadata": {
        "id": "TqI8Uomw2sVj"
      },
      "source": [
        "!pip install finlab_crypto > log.txt\n",
        "!pip install pandas-ta > log.txt\n",
        "!pip install talib-binary > log.txt"
      ],
      "execution_count": 9,
      "outputs": []
    },
    {
      "cell_type": "code",
      "metadata": {
        "id": "is3lEI772vO1"
      },
      "source": [
        "import finlab_crypto\r\n",
        "finlab_crypto.setup()"
      ],
      "execution_count": 10,
      "outputs": []
    },
    {
      "cell_type": "code",
      "metadata": {
        "id": "AuPLJvJKi1Mn"
      },
      "source": [
        "from binance.client import Client\n",
        "\n",
        "api_key = 'aJOD1H8jl0396wDSo0k4PnZftjGWHQEDLoCh4T2OhbgljMBoAi8PTMRIPhsxHpDh'\n",
        "api_secret = 'VpdtNdN9j1ZnTu55NzmVGeffam0yZzoGAEs83gLct5y0WnEDH2y7C2Ptkkv0cuj0'\n",
        "pair = 'BTCUSDT'\n",
        "freq = '15m'\n",
        "nbars = 100000\n",
        "client = Client(api_key,api_secret)"
      ],
      "execution_count": 102,
      "outputs": []
    },
    {
      "cell_type": "markdown",
      "metadata": {
        "id": "_TALwbNWFZeT"
      },
      "source": [
        "# 載入歷史價格資料"
      ]
    },
    {
      "cell_type": "code",
      "metadata": {
        "colab": {
          "base_uri": "https://localhost:8080/",
          "height": 228
        },
        "id": "RQ2s2I_F25ei",
        "outputId": "d8f519c3-3e83-44f1-923a-0c9af725e90a"
      },
      "source": [
        "ohlcv = finlab_crypto.crawler.get_nbars_binance(pair,freq,nbars,client)\r\n",
        "ohlcv.tail()"
      ],
      "execution_count": 103,
      "outputs": [
        {
          "output_type": "execute_result",
          "data": {
            "text/html": [
              "<div>\n",
              "<style scoped>\n",
              "    .dataframe tbody tr th:only-of-type {\n",
              "        vertical-align: middle;\n",
              "    }\n",
              "\n",
              "    .dataframe tbody tr th {\n",
              "        vertical-align: top;\n",
              "    }\n",
              "\n",
              "    .dataframe thead th {\n",
              "        text-align: right;\n",
              "    }\n",
              "</style>\n",
              "<table border=\"1\" class=\"dataframe\">\n",
              "  <thead>\n",
              "    <tr style=\"text-align: right;\">\n",
              "      <th></th>\n",
              "      <th>timestamp</th>\n",
              "      <th>open</th>\n",
              "      <th>high</th>\n",
              "      <th>low</th>\n",
              "      <th>close</th>\n",
              "      <th>volume</th>\n",
              "      <th>close_time</th>\n",
              "      <th>quote_av</th>\n",
              "      <th>trades</th>\n",
              "      <th>tb_base_av</th>\n",
              "      <th>tb_quote_av</th>\n",
              "      <th>ignore</th>\n",
              "    </tr>\n",
              "    <tr>\n",
              "      <th>timestamp</th>\n",
              "      <th></th>\n",
              "      <th></th>\n",
              "      <th></th>\n",
              "      <th></th>\n",
              "      <th></th>\n",
              "      <th></th>\n",
              "      <th></th>\n",
              "      <th></th>\n",
              "      <th></th>\n",
              "      <th></th>\n",
              "      <th></th>\n",
              "      <th></th>\n",
              "    </tr>\n",
              "  </thead>\n",
              "  <tbody>\n",
              "    <tr>\n",
              "      <th>2021-01-20 13:15:00+00:00</th>\n",
              "      <td>1.611148e+12</td>\n",
              "      <td>34404.87</td>\n",
              "      <td>34614.21</td>\n",
              "      <td>34210.00</td>\n",
              "      <td>34464.92</td>\n",
              "      <td>913.687308</td>\n",
              "      <td>1.611149e+12</td>\n",
              "      <td>3.141392e+07</td>\n",
              "      <td>27401.0</td>\n",
              "      <td>414.182033</td>\n",
              "      <td>1.424271e+07</td>\n",
              "      <td>0.0</td>\n",
              "    </tr>\n",
              "    <tr>\n",
              "      <th>2021-01-20 13:30:00+00:00</th>\n",
              "      <td>1.611149e+12</td>\n",
              "      <td>34464.93</td>\n",
              "      <td>34800.00</td>\n",
              "      <td>34430.30</td>\n",
              "      <td>34755.43</td>\n",
              "      <td>977.033442</td>\n",
              "      <td>1.611150e+12</td>\n",
              "      <td>3.385478e+07</td>\n",
              "      <td>26703.0</td>\n",
              "      <td>561.236872</td>\n",
              "      <td>1.945456e+07</td>\n",
              "      <td>0.0</td>\n",
              "    </tr>\n",
              "    <tr>\n",
              "      <th>2021-01-20 13:45:00+00:00</th>\n",
              "      <td>1.611150e+12</td>\n",
              "      <td>34749.46</td>\n",
              "      <td>34983.77</td>\n",
              "      <td>34749.46</td>\n",
              "      <td>34958.56</td>\n",
              "      <td>1016.472434</td>\n",
              "      <td>1.611151e+12</td>\n",
              "      <td>3.547536e+07</td>\n",
              "      <td>26023.0</td>\n",
              "      <td>501.219767</td>\n",
              "      <td>1.749317e+07</td>\n",
              "      <td>0.0</td>\n",
              "    </tr>\n",
              "    <tr>\n",
              "      <th>2021-01-20 14:00:00+00:00</th>\n",
              "      <td>1.611151e+12</td>\n",
              "      <td>34958.56</td>\n",
              "      <td>35095.86</td>\n",
              "      <td>34836.72</td>\n",
              "      <td>34901.99</td>\n",
              "      <td>1126.119250</td>\n",
              "      <td>1.611152e+12</td>\n",
              "      <td>3.940387e+07</td>\n",
              "      <td>27494.0</td>\n",
              "      <td>484.711541</td>\n",
              "      <td>1.695954e+07</td>\n",
              "      <td>0.0</td>\n",
              "    </tr>\n",
              "    <tr>\n",
              "      <th>2021-01-20 14:15:00+00:00</th>\n",
              "      <td>1.611152e+12</td>\n",
              "      <td>34902.85</td>\n",
              "      <td>34936.13</td>\n",
              "      <td>34900.17</td>\n",
              "      <td>34923.51</td>\n",
              "      <td>83.800862</td>\n",
              "      <td>1.611153e+12</td>\n",
              "      <td>2.925880e+06</td>\n",
              "      <td>1935.0</td>\n",
              "      <td>38.860629</td>\n",
              "      <td>1.356813e+06</td>\n",
              "      <td>0.0</td>\n",
              "    </tr>\n",
              "  </tbody>\n",
              "</table>\n",
              "</div>"
            ],
            "text/plain": [
              "                              timestamp      open  ...   tb_quote_av  ignore\n",
              "timestamp                                          ...                      \n",
              "2021-01-20 13:15:00+00:00  1.611148e+12  34404.87  ...  1.424271e+07     0.0\n",
              "2021-01-20 13:30:00+00:00  1.611149e+12  34464.93  ...  1.945456e+07     0.0\n",
              "2021-01-20 13:45:00+00:00  1.611150e+12  34749.46  ...  1.749317e+07     0.0\n",
              "2021-01-20 14:00:00+00:00  1.611151e+12  34958.56  ...  1.695954e+07     0.0\n",
              "2021-01-20 14:15:00+00:00  1.611152e+12  34902.85  ...  1.356813e+06     0.0\n",
              "\n",
              "[5 rows x 12 columns]"
            ]
          },
          "metadata": {
            "tags": []
          },
          "execution_count": 103
        }
      ]
    },
    {
      "cell_type": "markdown",
      "metadata": {
        "id": "4yqrAEu1pJF3"
      },
      "source": [
        "# 超級趨勢指標"
      ]
    },
    {
      "cell_type": "code",
      "metadata": {
        "colab": {
          "base_uri": "https://localhost:8080/",
          "height": 437
        },
        "id": "rJenvWF9pJOQ",
        "outputId": "245bef5b-bdd1-439b-f932-a1f93c8fa05a"
      },
      "source": [
        "from pandas_ta.overlap.supertrend import supertrend\n",
        "supertrend(ohlcv['high'],ohlcv['low'],ohlcv['close'],length=3,multiplier=1)"
      ],
      "execution_count": 26,
      "outputs": [
        {
          "output_type": "execute_result",
          "data": {
            "text/html": [
              "<div>\n",
              "<style scoped>\n",
              "    .dataframe tbody tr th:only-of-type {\n",
              "        vertical-align: middle;\n",
              "    }\n",
              "\n",
              "    .dataframe tbody tr th {\n",
              "        vertical-align: top;\n",
              "    }\n",
              "\n",
              "    .dataframe thead th {\n",
              "        text-align: right;\n",
              "    }\n",
              "</style>\n",
              "<table border=\"1\" class=\"dataframe\">\n",
              "  <thead>\n",
              "    <tr style=\"text-align: right;\">\n",
              "      <th></th>\n",
              "      <th>SUPERT_3_1.0</th>\n",
              "      <th>SUPERTd_3_1.0</th>\n",
              "      <th>SUPERTl_3_1.0</th>\n",
              "      <th>SUPERTs_3_1.0</th>\n",
              "    </tr>\n",
              "    <tr>\n",
              "      <th>timestamp</th>\n",
              "      <th></th>\n",
              "      <th></th>\n",
              "      <th></th>\n",
              "      <th></th>\n",
              "    </tr>\n",
              "  </thead>\n",
              "  <tbody>\n",
              "    <tr>\n",
              "      <th>2020-10-07 00:00:00+00:00</th>\n",
              "      <td>0.000000</td>\n",
              "      <td>1</td>\n",
              "      <td>NaN</td>\n",
              "      <td>NaN</td>\n",
              "    </tr>\n",
              "    <tr>\n",
              "      <th>2020-10-07 00:15:00+00:00</th>\n",
              "      <td>10568.963000</td>\n",
              "      <td>1</td>\n",
              "      <td>10568.963000</td>\n",
              "      <td>NaN</td>\n",
              "    </tr>\n",
              "    <tr>\n",
              "      <th>2020-10-07 00:30:00+00:00</th>\n",
              "      <td>10568.963000</td>\n",
              "      <td>1</td>\n",
              "      <td>10568.963000</td>\n",
              "      <td>NaN</td>\n",
              "    </tr>\n",
              "    <tr>\n",
              "      <th>2020-10-07 00:45:00+00:00</th>\n",
              "      <td>10568.963000</td>\n",
              "      <td>1</td>\n",
              "      <td>10568.963000</td>\n",
              "      <td>NaN</td>\n",
              "    </tr>\n",
              "    <tr>\n",
              "      <th>2020-10-07 01:00:00+00:00</th>\n",
              "      <td>10568.963000</td>\n",
              "      <td>1</td>\n",
              "      <td>10568.963000</td>\n",
              "      <td>NaN</td>\n",
              "    </tr>\n",
              "    <tr>\n",
              "      <th>...</th>\n",
              "      <td>...</td>\n",
              "      <td>...</td>\n",
              "      <td>...</td>\n",
              "      <td>...</td>\n",
              "    </tr>\n",
              "    <tr>\n",
              "      <th>2021-01-20 12:00:00+00:00</th>\n",
              "      <td>34665.898962</td>\n",
              "      <td>-1</td>\n",
              "      <td>NaN</td>\n",
              "      <td>34665.898962</td>\n",
              "    </tr>\n",
              "    <tr>\n",
              "      <th>2021-01-20 12:15:00+00:00</th>\n",
              "      <td>34122.280390</td>\n",
              "      <td>1</td>\n",
              "      <td>34122.280390</td>\n",
              "      <td>NaN</td>\n",
              "    </tr>\n",
              "    <tr>\n",
              "      <th>2021-01-20 12:30:00+00:00</th>\n",
              "      <td>34304.875260</td>\n",
              "      <td>1</td>\n",
              "      <td>34304.875260</td>\n",
              "      <td>NaN</td>\n",
              "    </tr>\n",
              "    <tr>\n",
              "      <th>2021-01-20 12:45:00+00:00</th>\n",
              "      <td>34304.875260</td>\n",
              "      <td>1</td>\n",
              "      <td>34304.875260</td>\n",
              "      <td>NaN</td>\n",
              "    </tr>\n",
              "    <tr>\n",
              "      <th>2021-01-20 13:00:00+00:00</th>\n",
              "      <td>34421.353449</td>\n",
              "      <td>1</td>\n",
              "      <td>34421.353449</td>\n",
              "      <td>NaN</td>\n",
              "    </tr>\n",
              "  </tbody>\n",
              "</table>\n",
              "<p>10110 rows × 4 columns</p>\n",
              "</div>"
            ],
            "text/plain": [
              "                           SUPERT_3_1.0  ...  SUPERTs_3_1.0\n",
              "timestamp                                ...               \n",
              "2020-10-07 00:00:00+00:00      0.000000  ...            NaN\n",
              "2020-10-07 00:15:00+00:00  10568.963000  ...            NaN\n",
              "2020-10-07 00:30:00+00:00  10568.963000  ...            NaN\n",
              "2020-10-07 00:45:00+00:00  10568.963000  ...            NaN\n",
              "2020-10-07 01:00:00+00:00  10568.963000  ...            NaN\n",
              "...                                 ...  ...            ...\n",
              "2021-01-20 12:00:00+00:00  34665.898962  ...   34665.898962\n",
              "2021-01-20 12:15:00+00:00  34122.280390  ...            NaN\n",
              "2021-01-20 12:30:00+00:00  34304.875260  ...            NaN\n",
              "2021-01-20 12:45:00+00:00  34304.875260  ...            NaN\n",
              "2021-01-20 13:00:00+00:00  34421.353449  ...            NaN\n",
              "\n",
              "[10110 rows x 4 columns]"
            ]
          },
          "metadata": {
            "tags": []
          },
          "execution_count": 26
        }
      ]
    },
    {
      "cell_type": "code",
      "metadata": {
        "id": "OtCxZLZlAEJ3"
      },
      "source": [
        "import numbers\r\n",
        "import talib\r\n",
        "from finlab_crypto import Strategy\r\n",
        "\r\n",
        "fastperiod=12\r\n",
        "slowperiod=26\r\n",
        "signalperiod=9\r\n",
        "\r\n",
        "f1=1\r\n",
        "n1=3\r\n",
        "\r\n",
        "f2=3\r\n",
        "n2=10\r\n",
        "\r\n",
        "def crossover(s1, s2):\r\n",
        "  if isinstance(s2, numbers.Number):\r\n",
        "    return (s1 > s2) & (s1.shift() < s2)\r\n",
        "  return (s1 > s2) & (s1.shift() < s2.shift())\r\n",
        "\r\n",
        "def crossunder(s1, s2):\r\n",
        "  if isinstance(s2, numbers.Number):\r\n",
        "    return (s1 < s2) & (s1.shift() > s2) \r\n",
        "  return (s1 < s2) & (s1.shift() > s2.shift())\r\n",
        "\r\n",
        "\r\n",
        "SuperTrend1 = supertrend(ohlcv['high'],ohlcv['low'],ohlcv['close'],length=n1,multiplier=f1)['SUPERT_{}_{}.0'.format(n1,f1)]\r\n",
        "SuperTrend2 = supertrend(ohlcv['high'],ohlcv['low'],ohlcv['close'],length=n2,multiplier=f2)['SUPERT_{}_{}.0'.format(n2,f2)]\r\n",
        "    \r\n",
        "macdhist = talib.MACD(ohlcv.close,\r\n",
        "        fastperiod=fastperiod, \r\n",
        "        slowperiod=slowperiod, \r\n",
        "        signalperiod=signalperiod)[2]\r\n",
        "\r\n",
        "close = ohlcv.close\r\n",
        "entries = crossover(macdhist, 0) & (close > SuperTrend2) & (close.shift() < SuperTrend2.shift() )\r\n",
        "exits = crossunder(macdhist, 0) & (close < SuperTrend2) & (close.shift() > SuperTrend2.shift() )\r\n",
        "\r\n",
        "ohlcv['entries'] = entries\r\n",
        "ohlcv['exits'] = exits"
      ],
      "execution_count": 104,
      "outputs": []
    },
    {
      "cell_type": "code",
      "metadata": {
        "id": "6WA5fMOGB_X1",
        "outputId": "056d638d-a1ae-4191-91f8-00bdb5cb2f95",
        "colab": {
          "base_uri": "https://localhost:8080/",
          "height": 375
        }
      },
      "source": [
        "import datetime\r\n",
        "import seaborn as sb\r\n",
        "import numpy as np\r\n",
        "\r\n",
        "plst = []\r\n",
        "\r\n",
        "for buy_index in ohlcv[ohlcv.entries==True].index:\r\n",
        "  sell_index = buy_index + datetime.timedelta(minutes=30)\r\n",
        "  profit = ((ohlcv.loc[sell_index,'close']/ohlcv.loc[buy_index,'close']) - 1) * 100\r\n",
        "  plst.append(profit)\r\n",
        "\r\n",
        "print(plst)\r\n",
        "print(np.mean(plst))\r\n",
        "print(np.max(plst))\r\n",
        "print(np.min(plst))\r\n",
        "sb.boxplot(plst)"
      ],
      "execution_count": 105,
      "outputs": [
        {
          "output_type": "stream",
          "text": [
            "[0.9436160298229357, -0.19537169170111834, 0.18845997716792073, -0.2215384615384619, -0.2154313792035012, 0.23271889400922063, -0.23505483667035643, 1.2269938650306678, 0.2501888709910638, -0.27059055573757096, 0.4378723826471198, 0.038042543979743826, -0.49815516212062816, -0.06286261618219102, 0.3503680464341796, -0.16510797407612854, -0.11164124695097755, 1.1463458519727299, -0.18463869206368777, 0.5423762626223239, 0.07181467181467394, -0.32592450036550424, 0.27417320323033234, 0.8373778064012738, 0.5819344270116877, -1.080671519375076, -0.0007704089022286809, -0.24177139437462358, 0.21734395346613145, -0.16265824743862956, 0.44460176991150124, 0.024468085106388315, 0.06644927406092016, 0.9837230250054008, -0.05950271254756556, 1.3151865224028336, -1.5009272804764273, 0.05839416058395219, -0.04116288213900088, 0.9026294449067329, -0.05690376569037481, -0.000848620284854551, -0.31018230145180015, -0.1110419049174971, -0.2747403020402883, 0.17983996427470839, -0.10610673179690666, -0.09934928124029074, -0.061190148386125465, -0.08538683991748952, -0.17076695002720133, -0.18746564816559674, -1.2103423091499144, -0.2838366437220685, 0.03593969144459752, 0.5259681111720038, -0.1667005359819118, 2.0998137072262058, 0.5114224816108903, -0.149464093846996, 2.4631803997282375, 0.02875894649891908, -0.3127483880072224, -0.04277609576017749, 0.05221200377001356, 0.14008422479305782, -0.26222138977336495, 0.06714053390537433, -0.2059901333711478, -0.0845608610372528, 0.2703391937184607, -0.32860534983654155, 2.2700074110637125, -0.23948280354174623, 0.3442928736768769, -0.19525801952580135, -0.044943130191310576, -0.07768720307054222, 0.23722442000122523, 0.19448432439650443, 0.48465208903607504, -0.20542074781733088, -0.16422553225837744, -0.04331468482074996, -0.5605026344061903, -0.15540364524850858, -3.018878834311489, 0.529592189949768, 3.5422478071581276, -0.2095029239766122, -1.470328443922253, -0.12468514557305577, 0.0629286880784008, 1.7374021301924003, 0.09004752565733298, -0.25410804424873534, -0.07234786671123095, 0.353214603038432, 0.24602826047532833, -0.20447127346896465, -0.0008726003490444612, 0.005765083336028987, -0.10280512541432918, 0.24870139787003254, -0.0169375584275544, 0.1635563121744843, -0.0234383341768285, 0.11251402372198793, 0.39011858485766826, 2.385295727683312, -0.574881277879491, -0.02534992897577082]\n",
            "0.11641068004022574\n",
            "3.5422478071581276\n",
            "-3.018878834311489\n"
          ],
          "name": "stdout"
        },
        {
          "output_type": "execute_result",
          "data": {
            "text/plain": [
              "<matplotlib.axes._subplots.AxesSubplot at 0x7ff471839668>"
            ]
          },
          "metadata": {
            "tags": []
          },
          "execution_count": 105
        },
        {
          "output_type": "display_data",
          "data": {
            "image/png": "[encoded data removed]",
            "text/plain": [
              "<Figure size 432x288 with 1 Axes>"
            ]
          },
          "metadata": {
            "tags": [],
            "needs_background": "light"
          }
        }
      ]
    },
    {
      "cell_type": "code",
      "metadata": {
        "id": "X-FooCkrKrEd",
        "outputId": "c03f6175-42b4-4a1e-99cc-2407a6ff40f6",
        "colab": {
          "base_uri": "https://localhost:8080/"
        }
      },
      "source": [
        "win_p = np.count_nonzero(np.clip(plst,0,np.inf))/len(plst)\r\n",
        "win_p"
      ],
      "execution_count": 109,
      "outputs": [
        {
          "output_type": "execute_result",
          "data": {
            "text/plain": [
              "0.45535714285714285"
            ]
          },
          "metadata": {
            "tags": []
          },
          "execution_count": 109
        }
      ]
    },
    {
      "cell_type": "code",
      "metadata": {
        "id": "nuZyHFzrLCgM",
        "outputId": "7b2ef1ea-7439-4c2c-e303-664a8e7b9aec",
        "colab": {
          "base_uri": "https://localhost:8080/"
        }
      },
      "source": [
        "win_p*np.mean(plst)"
      ],
      "execution_count": 110,
      "outputs": [
        {
          "output_type": "execute_result",
          "data": {
            "text/plain": [
              "0.05300843466117422"
            ]
          },
          "metadata": {
            "tags": []
          },
          "execution_count": 110
        }
      ]
    },
    {
      "cell_type": "code",
      "metadata": {
        "id": "LsPjPeislOdr"
      },
      "source": [
        ""
      ],
      "execution_count": null,
      "outputs": []
    }
  ]
}