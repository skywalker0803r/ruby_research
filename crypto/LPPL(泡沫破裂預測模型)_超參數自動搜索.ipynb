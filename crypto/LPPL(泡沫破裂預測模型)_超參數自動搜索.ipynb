{
  "nbformat": 4,
  "nbformat_minor": 0,
  "metadata": {
    "colab": {
      "name": "LPPL(泡沫破裂預測模型)_超參數自動搜索.ipynb",
      "provenance": [],
      "authorship_tag": "ABX9TyPGKoMLwdMNAL5n+YG4Yr4p",
      "include_colab_link": true
    },
    "kernelspec": {
      "name": "python3",
      "display_name": "Python 3"
    }
  },
  "cells": [
    {
      "cell_type": "markdown",
      "metadata": {
        "id": "view-in-github",
        "colab_type": "text"
      },
      "source": [
        "<a href=\"https://colab.research.google.com/github/skywalker0803r/ruby_research/blob/main/crypto/LPPL(%E6%B3%A1%E6%B2%AB%E7%A0%B4%E8%A3%82%E9%A0%90%E6%B8%AC%E6%A8%A1%E5%9E%8B)_%E8%B6%85%E5%8F%83%E6%95%B8%E8%87%AA%E5%8B%95%E6%90%9C%E7%B4%A2.ipynb\" target=\"_parent\"><img src=\"https://colab.research.google.com/assets/colab-badge.svg\" alt=\"Open In Colab\"/></a>"
      ]
    },
    {
      "cell_type": "code",
      "metadata": {
        "id": "rbuGz9TThZZV"
      },
      "source": [
        "!pip install optuna >log.txt"
      ],
      "execution_count": 16,
      "outputs": []
    },
    {
      "cell_type": "code",
      "metadata": {
        "colab": {
          "base_uri": "https://localhost:8080/",
          "height": 297
        },
        "id": "4fLb-ogdhtBz",
        "outputId": "3e03ad77-bb0a-4d59-c4b4-81a841659d8f"
      },
      "source": [
        "try:\r\n",
        "    import yfinance as yf\r\n",
        "except:\r\n",
        "    !pip install lppls > log.txt\r\n",
        "    !pip install yfinance > log.txt\r\n",
        "\r\n",
        "asset_symbol = \"BTC-USD\"\r\n",
        "\r\n",
        "import yfinance as yf\r\n",
        "stock = yf.Ticker(asset_symbol)\r\n",
        "data = stock.history(period=\"max\")\r\n",
        "\r\n",
        "data.Close.plot()"
      ],
      "execution_count": 17,
      "outputs": [
        {
          "output_type": "execute_result",
          "data": {
            "text/plain": [
              "<matplotlib.axes._subplots.AxesSubplot at 0x7f36f221e748>"
            ]
          },
          "metadata": {
            "tags": []
          },
          "execution_count": 17
        },
        {
          "output_type": "display_data",
          "data": {
            "image/png": "[encoded data removed]",
            "text/plain": [
              "<Figure size 432x288 with 1 Axes>"
            ]
          },
          "metadata": {
            "tags": [],
            "needs_background": "light"
          }
        }
      ]
    },
    {
      "cell_type": "code",
      "metadata": {
        "colab": {
          "base_uri": "https://localhost:8080/"
        },
        "id": "cZt1oEc9h9rC",
        "outputId": "80cb59df-7929-486e-f182-19fcc13995e9"
      },
      "source": [
        "import optuna\r\n",
        "from lppls import lppls, data_loader\r\n",
        "import numpy as np\r\n",
        "import pandas as pd\r\n",
        "\r\n",
        "def objective(trial):\r\n",
        "    ndates = trial.suggest_uniform('ndates',1,500)\r\n",
        "    ndates = int(ndates)\r\n",
        "    variable_name = \"2021-01-14\"\r\n",
        "    latest_data = data.loc[:variable_name].iloc[-ndates:]\r\n",
        "    time = np.linspace(0, len(latest_data)-1, len(latest_data))\r\n",
        "    price = np.log(latest_data['Close'].values)\r\n",
        "    observations = np.array([time, price])\r\n",
        "    MAX_SEARCHES = 25\r\n",
        "    lppls_model = lppls.LPPLS(observations=observations)\r\n",
        "    tc, m, w, a, b, c, c1, c2 = lppls_model.fit(observations, MAX_SEARCHES, minimizer='Nelder-Mead')\r\n",
        "    loss1 = max(b,0) # b<0\r\n",
        "    loss2 = min(abs(c),1) # |c| < 1\r\n",
        "    loss3 = (m - 0.5)**2 #(0 < m < 1)\r\n",
        "    total_loss = loss1 + loss2 + loss3\r\n",
        "    return total_loss\r\n",
        "\r\n",
        "study = optuna.create_study()\r\n",
        "study.optimize(objective, n_trials=250)\r\n",
        "study.best_params"
      ],
      "execution_count": 18,
      "outputs": [
        {
          "output_type": "stream",
          "text": [
            "\u001b[32m[I 2021-01-14 11:10:27,910]\u001b[0m A new study created in memory with name: no-name-7cedb6e1-6c06-4506-be6c-03b66e62d3c8\u001b[0m\n",
            "\u001b[32m[I 2021-01-14 11:10:28,110]\u001b[0m Trial 0 finished with value: 117216.26566592877 and parameters: {'ndates': 405.0381088713153}. Best is trial 0 with value: 117216.26566592877.\u001b[0m\n",
            "\u001b[32m[I 2021-01-14 11:10:28,148]\u001b[0m Trial 1 finished with value: 0.20362888249792682 and parameters: {'ndates': 17.66640566426012}. Best is trial 1 with value: 0.20362888249792682.\u001b[0m\n",
            "\u001b[32m[I 2021-01-14 11:10:28,221]\u001b[0m Trial 2 finished with value: 0.05263640345645609 and parameters: {'ndates': 120.70514602868764}. Best is trial 2 with value: 0.05263640345645609.\u001b[0m\n",
            "\u001b[32m[I 2021-01-14 11:10:28,305]\u001b[0m Trial 3 finished with value: 64605354583.65965 and parameters: {'ndates': 131.09748114659342}. Best is trial 2 with value: 0.05263640345645609.\u001b[0m\n",
            "\u001b[32m[I 2021-01-14 11:10:28,407]\u001b[0m Trial 4 finished with value: 49950986497604.24 and parameters: {'ndates': 70.12922110882715}. Best is trial 2 with value: 0.05263640345645609.\u001b[0m\n",
            "\u001b[32m[I 2021-01-14 11:10:28,723]\u001b[0m Trial 5 finished with value: 135870.94774305698 and parameters: {'ndates': 358.50628404295486}. Best is trial 2 with value: 0.05263640345645609.\u001b[0m\n",
            "\u001b[32m[I 2021-01-14 11:10:28,996]\u001b[0m Trial 6 finished with value: 2.32051383333295 and parameters: {'ndates': 281.8397706751915}. Best is trial 2 with value: 0.05263640345645609.\u001b[0m\n",
            "\u001b[32m[I 2021-01-14 11:10:29,555]\u001b[0m Trial 7 finished with value: 67415665.37613083 and parameters: {'ndates': 210.96909301910878}. Best is trial 2 with value: 0.05263640345645609.\u001b[0m\n",
            "\u001b[32m[I 2021-01-14 11:10:30,015]\u001b[0m Trial 8 finished with value: 24908.98708295398 and parameters: {'ndates': 290.70252564048525}. Best is trial 2 with value: 0.05263640345645609.\u001b[0m\n",
            "\u001b[32m[I 2021-01-14 11:10:30,058]\u001b[0m Trial 9 finished with value: 14.191784709502175 and parameters: {'ndates': 46.58816016851606}. Best is trial 2 with value: 0.05263640345645609.\u001b[0m\n",
            "\u001b[32m[I 2021-01-14 11:10:30,235]\u001b[0m Trial 10 finished with value: 13.915542842077876 and parameters: {'ndates': 152.53406072722825}. Best is trial 2 with value: 0.05263640345645609.\u001b[0m\n",
            "\u001b[32m[I 2021-01-14 11:10:30,279]\u001b[0m Trial 11 finished with value: 4.659225126547949 and parameters: {'ndates': 10.099112403286327}. Best is trial 2 with value: 0.05263640345645609.\u001b[0m\n",
            "\u001b[32m[I 2021-01-14 11:10:30,307]\u001b[0m Trial 12 finished with value: 11.964284801132605 and parameters: {'ndates': 7.1627645043892585}. Best is trial 2 with value: 0.05263640345645609.\u001b[0m\n",
            "\u001b[32m[I 2021-01-14 11:10:30,369]\u001b[0m Trial 13 finished with value: 0.19992980637468358 and parameters: {'ndates': 111.92968419049637}. Best is trial 2 with value: 0.05263640345645609.\u001b[0m\n",
            "\u001b[32m[I 2021-01-14 11:10:30,530]\u001b[0m Trial 14 finished with value: 57197030687200.62 and parameters: {'ndates': 148.39861070596493}. Best is trial 2 with value: 0.05263640345645609.\u001b[0m\n",
            "\u001b[32m[I 2021-01-14 11:10:30,593]\u001b[0m Trial 15 finished with value: 23.86136511414699 and parameters: {'ndates': 96.17269672711119}. Best is trial 2 with value: 0.05263640345645609.\u001b[0m\n",
            "\u001b[32m[I 2021-01-14 11:10:30,791]\u001b[0m Trial 16 finished with value: 37079254555206.164 and parameters: {'ndates': 226.67049872748913}. Best is trial 2 with value: 0.05263640345645609.\u001b[0m\n",
            "\u001b[32m[I 2021-01-14 11:10:31,087]\u001b[0m Trial 17 finished with value: 3775213119.3216634 and parameters: {'ndates': 493.0385394127842}. Best is trial 2 with value: 0.05263640345645609.\u001b[0m\n",
            "\u001b[32m[I 2021-01-14 11:10:31,248]\u001b[0m Trial 18 finished with value: 29.400247525813292 and parameters: {'ndates': 182.8952760493936}. Best is trial 2 with value: 0.05263640345645609.\u001b[0m\n",
            "\u001b[32m[I 2021-01-14 11:10:31,308]\u001b[0m Trial 19 finished with value: 13.924228392907711 and parameters: {'ndates': 110.19254109731968}. Best is trial 2 with value: 0.05263640345645609.\u001b[0m\n",
            "\u001b[32m[I 2021-01-14 11:10:31,372]\u001b[0m Trial 20 finished with value: 0.18771437810112365 and parameters: {'ndates': 66.56285966275743}. Best is trial 2 with value: 0.05263640345645609.\u001b[0m\n",
            "\u001b[32m[I 2021-01-14 11:10:31,415]\u001b[0m Trial 21 finished with value: 0.2349090999776216 and parameters: {'ndates': 62.11713635480042}. Best is trial 2 with value: 0.05263640345645609.\u001b[0m\n",
            "\u001b[32m[I 2021-01-14 11:10:31,613]\u001b[0m Trial 22 finished with value: 41112273040697.0 and parameters: {'ndates': 178.90525308153087}. Best is trial 2 with value: 0.05263640345645609.\u001b[0m\n",
            "\u001b[32m[I 2021-01-14 11:10:31,677]\u001b[0m Trial 23 finished with value: 87186.99772605757 and parameters: {'ndates': 85.03803031951985}. Best is trial 2 with value: 0.05263640345645609.\u001b[0m\n",
            "\u001b[32m[I 2021-01-14 11:10:31,762]\u001b[0m Trial 24 finished with value: 1988323490688478.8 and parameters: {'ndates': 33.57214723818058}. Best is trial 2 with value: 0.05263640345645609.\u001b[0m\n",
            "\u001b[32m[I 2021-01-14 11:10:31,830]\u001b[0m Trial 25 finished with value: 26.06635770057549 and parameters: {'ndates': 121.58016385732171}. Best is trial 2 with value: 0.05263640345645609.\u001b[0m\n",
            "\u001b[32m[I 2021-01-14 11:10:32,017]\u001b[0m Trial 26 finished with value: 34666362564718.297 and parameters: {'ndates': 261.0254360303751}. Best is trial 2 with value: 0.05263640345645609.\u001b[0m\n",
            "\u001b[32m[I 2021-01-14 11:10:32,212]\u001b[0m Trial 27 finished with value: 281798224394.39703 and parameters: {'ndates': 191.7387188748914}. Best is trial 2 with value: 0.05263640345645609.\u001b[0m\n",
            "\u001b[32m[I 2021-01-14 11:10:32,274]\u001b[0m Trial 28 finished with value: 645505.2140611879 and parameters: {'ndates': 78.97071118267431}. Best is trial 2 with value: 0.05263640345645609.\u001b[0m\n",
            "\u001b[32m[I 2021-01-14 11:10:32,434]\u001b[0m Trial 29 finished with value: 855.6324786741827 and parameters: {'ndates': 312.4525388009194}. Best is trial 2 with value: 0.05263640345645609.\u001b[0m\n",
            "\u001b[32m[I 2021-01-14 11:10:32,563]\u001b[0m Trial 30 finished with value: 52782781831385.92 and parameters: {'ndates': 152.93273606697605}. Best is trial 2 with value: 0.05263640345645609.\u001b[0m\n",
            "\u001b[32m[I 2021-01-14 11:10:32,594]\u001b[0m Trial 31 finished with value: 0.8277619040316734 and parameters: {'ndates': 6.330111625027087}. Best is trial 2 with value: 0.05263640345645609.\u001b[0m\n",
            "\u001b[32m[I 2021-01-14 11:10:32,651]\u001b[0m Trial 32 finished with value: 0.6134777352990117 and parameters: {'ndates': 28.78821702107834}. Best is trial 2 with value: 0.05263640345645609.\u001b[0m\n",
            "\u001b[32m[I 2021-01-14 11:10:32,721]\u001b[0m Trial 33 finished with value: 18.27714742261416 and parameters: {'ndates': 45.946670251769305}. Best is trial 2 with value: 0.05263640345645609.\u001b[0m\n",
            "\u001b[32m[I 2021-01-14 11:10:32,783]\u001b[0m Trial 34 finished with value: 21.68471541348896 and parameters: {'ndates': 118.03169055856357}. Best is trial 2 with value: 0.05263640345645609.\u001b[0m\n",
            "\u001b[32m[I 2021-01-14 11:10:32,869]\u001b[0m Trial 35 finished with value: 3067034.2603737763 and parameters: {'ndates': 66.05470108455502}. Best is trial 2 with value: 0.05263640345645609.\u001b[0m\n",
            "\u001b[32m[I 2021-01-14 11:10:32,947]\u001b[0m Trial 36 finished with value: 45.8934849098577 and parameters: {'ndates': 95.65208598029054}. Best is trial 2 with value: 0.05263640345645609.\u001b[0m\n",
            "\u001b[32m[I 2021-01-14 11:10:33,058]\u001b[0m Trial 37 finished with value: 12.726274779133833 and parameters: {'ndates': 136.81562037241454}. Best is trial 2 with value: 0.05263640345645609.\u001b[0m\n",
            "\u001b[32m[I 2021-01-14 11:10:33,284]\u001b[0m Trial 38 finished with value: 116255.6858167625 and parameters: {'ndates': 412.91717270962044}. Best is trial 2 with value: 0.05263640345645609.\u001b[0m\n",
            "\u001b[32m[I 2021-01-14 11:10:33,448]\u001b[0m Trial 39 finished with value: 9.056453272248579 and parameters: {'ndates': 229.6027208776526}. Best is trial 2 with value: 0.05263640345645609.\u001b[0m\n",
            "\u001b[32m[I 2021-01-14 11:10:33,532]\u001b[0m Trial 40 finished with value: 0.25 and parameters: {'ndates': 26.513965705758903}. Best is trial 2 with value: 0.05263640345645609.\u001b[0m\n",
            "\u001b[32m[I 2021-01-14 11:10:33,577]\u001b[0m Trial 41 finished with value: 0.16039517991890084 and parameters: {'ndates': 70.14488541692185}. Best is trial 2 with value: 0.05263640345645609.\u001b[0m\n",
            "\u001b[32m[I 2021-01-14 11:10:33,622]\u001b[0m Trial 42 finished with value: 10069949349741.967 and parameters: {'ndates': 57.152462423015415}. Best is trial 2 with value: 0.05263640345645609.\u001b[0m\n",
            "\u001b[32m[I 2021-01-14 11:10:33,683]\u001b[0m Trial 43 finished with value: 25.216736179460362 and parameters: {'ndates': 97.05579140914175}. Best is trial 2 with value: 0.05263640345645609.\u001b[0m\n",
            "\u001b[32m[I 2021-01-14 11:10:33,700]\u001b[0m Trial 44 finished with value: 0.06137012080015769 and parameters: {'ndates': 6.378044652307594}. Best is trial 2 with value: 0.05263640345645609.\u001b[0m\n",
            "\u001b[32m[I 2021-01-14 11:10:33,723]\u001b[0m Trial 45 finished with value: 6.553277457141298 and parameters: {'ndates': 8.382470951436495}. Best is trial 2 with value: 0.05263640345645609.\u001b[0m\n",
            "\u001b[32m[I 2021-01-14 11:10:33,911]\u001b[0m Trial 46 finished with value: 44897856565351.38 and parameters: {'ndates': 159.55107761538}. Best is trial 2 with value: 0.05263640345645609.\u001b[0m\n",
            "\u001b[32m[I 2021-01-14 11:10:33,966]\u001b[0m Trial 47 finished with value: 18.277237274020035 and parameters: {'ndates': 45.95380860218049}. Best is trial 2 with value: 0.05263640345645609.\u001b[0m\n",
            "\u001b[32m[I 2021-01-14 11:10:34,224]\u001b[0m Trial 48 finished with value: 48899056530300.35 and parameters: {'ndates': 75.2568011709692}. Best is trial 2 with value: 0.05263640345645609.\u001b[0m\n",
            "\u001b[32m[I 2021-01-14 11:10:34,288]\u001b[0m Trial 49 finished with value: 289.8784233901183 and parameters: {'ndates': 100.55103254219725}. Best is trial 2 with value: 0.05263640345645609.\u001b[0m\n",
            "\u001b[32m[I 2021-01-14 11:10:34,348]\u001b[0m Trial 50 finished with value: 0.04980419880792763 and parameters: {'ndates': 131.45796920660064}. Best is trial 50 with value: 0.04980419880792763.\u001b[0m\n",
            "\u001b[32m[I 2021-01-14 11:10:34,436]\u001b[0m Trial 51 finished with value: 22.17622281484599 and parameters: {'ndates': 118.56778705904142}. Best is trial 50 with value: 0.04980419880792763.\u001b[0m\n",
            "\u001b[32m[I 2021-01-14 11:10:34,555]\u001b[0m Trial 52 finished with value: 13.59763324256836 and parameters: {'ndates': 138.56679549206683}. Best is trial 50 with value: 0.04980419880792763.\u001b[0m\n",
            "\u001b[32m[I 2021-01-14 11:10:34,706]\u001b[0m Trial 53 finished with value: 39567784662078.8 and parameters: {'ndates': 174.33998212013142}. Best is trial 50 with value: 0.04980419880792763.\u001b[0m\n",
            "\u001b[32m[I 2021-01-14 11:10:34,764]\u001b[0m Trial 54 finished with value: 802680424272.206 and parameters: {'ndates': 78.80205676344022}. Best is trial 50 with value: 0.04980419880792763.\u001b[0m\n",
            "\u001b[32m[I 2021-01-14 11:10:34,804]\u001b[0m Trial 55 finished with value: 13.559059193172644 and parameters: {'ndates': 48.48911254278583}. Best is trial 50 with value: 0.04980419880792763.\u001b[0m\n",
            "\u001b[32m[I 2021-01-14 11:10:34,924]\u001b[0m Trial 56 finished with value: 60628357.194595136 and parameters: {'ndates': 216.26249004566125}. Best is trial 50 with value: 0.04980419880792763.\u001b[0m\n",
            "\u001b[32m[I 2021-01-14 11:10:34,994]\u001b[0m Trial 57 finished with value: 27.231778810530862 and parameters: {'ndates': 128.2473917760608}. Best is trial 50 with value: 0.04980419880792763.\u001b[0m\n",
            "\u001b[32m[I 2021-01-14 11:10:35,100]\u001b[0m Trial 58 finished with value: 7.896778823922847 and parameters: {'ndates': 163.42984892811663}. Best is trial 50 with value: 0.04980419880792763.\u001b[0m\n",
            "\u001b[32m[I 2021-01-14 11:10:35,113]\u001b[0m Trial 59 finished with value: 0.21703731400234338 and parameters: {'ndates': 2.952160906351439}. Best is trial 50 with value: 0.04980419880792763.\u001b[0m\n",
            "\u001b[32m[I 2021-01-14 11:10:35,269]\u001b[0m Trial 60 finished with value: 42260294036693.69 and parameters: {'ndates': 197.37318518821775}. Best is trial 50 with value: 0.04980419880792763.\u001b[0m\n",
            "\u001b[32m[I 2021-01-14 11:10:35,303]\u001b[0m Trial 61 finished with value: 2.381265794557127 and parameters: {'ndates': 21.28426580930362}. Best is trial 50 with value: 0.04980419880792763.\u001b[0m\n",
            "\u001b[32m[I 2021-01-14 11:10:35,372]\u001b[0m Trial 62 finished with value: 1777371104.0411983 and parameters: {'ndates': 63.44248037718785}. Best is trial 50 with value: 0.04980419880792763.\u001b[0m\n",
            "\u001b[32m[I 2021-01-14 11:10:35,398]\u001b[0m Trial 63 finished with value: 0.409644974600982 and parameters: {'ndates': 34.47221766128021}. Best is trial 50 with value: 0.04980419880792763.\u001b[0m\n",
            "\u001b[32m[I 2021-01-14 11:10:35,455]\u001b[0m Trial 64 finished with value: 7504.1180381191225 and parameters: {'ndates': 87.3426668574214}. Best is trial 50 with value: 0.04980419880792763.\u001b[0m\n",
            "\u001b[32m[I 2021-01-14 11:10:35,510]\u001b[0m Trial 65 finished with value: 14.862362985853798 and parameters: {'ndates': 104.03987363851039}. Best is trial 50 with value: 0.04980419880792763.\u001b[0m\n",
            "\u001b[32m[I 2021-01-14 11:10:35,547]\u001b[0m Trial 66 finished with value: 0.25 and parameters: {'ndates': 20.709770404464678}. Best is trial 50 with value: 0.04980419880792763.\u001b[0m\n",
            "\u001b[32m[I 2021-01-14 11:10:35,606]\u001b[0m Trial 67 finished with value: 12595664.800679285 and parameters: {'ndates': 40.65450113031925}. Best is trial 50 with value: 0.04980419880792763.\u001b[0m\n",
            "\u001b[32m[I 2021-01-14 11:10:35,792]\u001b[0m Trial 68 finished with value: 40381726908306.08 and parameters: {'ndates': 63.09950309281838}. Best is trial 50 with value: 0.04980419880792763.\u001b[0m\n",
            "\u001b[32m[I 2021-01-14 11:10:35,860]\u001b[0m Trial 69 finished with value: 0.04172451690807932 and parameters: {'ndates': 142.50265397954686}. Best is trial 69 with value: 0.04172451690807932.\u001b[0m\n",
            "\u001b[32m[I 2021-01-14 11:10:35,938]\u001b[0m Trial 70 finished with value: 10.490682981138482 and parameters: {'ndates': 140.77433598243488}. Best is trial 69 with value: 0.04172451690807932.\u001b[0m\n",
            "\u001b[32m[I 2021-01-14 11:10:36,009]\u001b[0m Trial 71 finished with value: 18.436413895247977 and parameters: {'ndates': 112.32581190829801}. Best is trial 69 with value: 0.04172451690807932.\u001b[0m\n",
            "\u001b[32m[I 2021-01-14 11:10:36,153]\u001b[0m Trial 72 finished with value: 28.541486683482514 and parameters: {'ndates': 129.36466251677965}. Best is trial 69 with value: 0.04172451690807932.\u001b[0m\n",
            "\u001b[32m[I 2021-01-14 11:10:36,212]\u001b[0m Trial 73 finished with value: 7.612997424478258 and parameters: {'ndates': 82.12967685674637}. Best is trial 69 with value: 0.04172451690807932.\u001b[0m\n",
            "\u001b[32m[I 2021-01-14 11:10:36,283]\u001b[0m Trial 74 finished with value: 16.147005715805626 and parameters: {'ndates': 93.29839977667348}. Best is trial 69 with value: 0.04172451690807932.\u001b[0m\n",
            "\u001b[32m[I 2021-01-14 11:10:36,397]\u001b[0m Trial 75 finished with value: 9.419217063695372 and parameters: {'ndates': 163.88291657885122}. Best is trial 69 with value: 0.04172451690807932.\u001b[0m\n",
            "\u001b[32m[I 2021-01-14 11:10:36,512]\u001b[0m Trial 76 finished with value: 62802493655675.336 and parameters: {'ndates': 148.72847575692836}. Best is trial 69 with value: 0.04172451690807932.\u001b[0m\n",
            "\u001b[32m[I 2021-01-14 11:10:36,597]\u001b[0m Trial 77 finished with value: 53498248029041.08 and parameters: {'ndates': 55.26133364781897}. Best is trial 69 with value: 0.04172451690807932.\u001b[0m\n",
            "\u001b[32m[I 2021-01-14 11:10:36,684]\u001b[0m Trial 78 finished with value: 0.2102355943909371 and parameters: {'ndates': 107.90506011113904}. Best is trial 69 with value: 0.04172451690807932.\u001b[0m\n",
            "\u001b[32m[I 2021-01-14 11:10:36,748]\u001b[0m Trial 79 finished with value: 625470624.4167869 and parameters: {'ndates': 73.3386267606696}. Best is trial 69 with value: 0.04172451690807932.\u001b[0m\n",
            "\u001b[32m[I 2021-01-14 11:10:36,782]\u001b[0m Trial 80 finished with value: 5.034363429230504 and parameters: {'ndates': 14.300432630397324}. Best is trial 69 with value: 0.04172451690807932.\u001b[0m\n",
            "\u001b[32m[I 2021-01-14 11:10:36,848]\u001b[0m Trial 81 finished with value: 13.915984125360508 and parameters: {'ndates': 109.37660368951327}. Best is trial 69 with value: 0.04172451690807932.\u001b[0m\n",
            "\u001b[32m[I 2021-01-14 11:10:36,912]\u001b[0m Trial 82 finished with value: 0.13733013434938957 and parameters: {'ndates': 127.59759509890665}. Best is trial 69 with value: 0.04172451690807932.\u001b[0m\n",
            "\u001b[32m[I 2021-01-14 11:10:37,023]\u001b[0m Trial 83 finished with value: 8.353298265450245 and parameters: {'ndates': 182.52355648858946}. Best is trial 69 with value: 0.04172451690807932.\u001b[0m\n",
            "\u001b[32m[I 2021-01-14 11:10:37,136]\u001b[0m Trial 84 finished with value: 26.491316817725227 and parameters: {'ndates': 124.40837109159162}. Best is trial 69 with value: 0.04172451690807932.\u001b[0m\n",
            "\u001b[32m[I 2021-01-14 11:10:37,198]\u001b[0m Trial 85 finished with value: 10.92891908574818 and parameters: {'ndates': 144.54772009895123}. Best is trial 69 with value: 0.04172451690807932.\u001b[0m\n",
            "\u001b[32m[I 2021-01-14 11:10:37,271]\u001b[0m Trial 86 finished with value: 128.73210959685946 and parameters: {'ndates': 91.42786924878234}. Best is trial 69 with value: 0.04172451690807932.\u001b[0m\n",
            "\u001b[32m[I 2021-01-14 11:10:37,429]\u001b[0m Trial 87 finished with value: 120557.14581409571 and parameters: {'ndates': 348.81470373593845}. Best is trial 69 with value: 0.04172451690807932.\u001b[0m\n",
            "\u001b[32m[I 2021-01-14 11:10:37,578]\u001b[0m Trial 88 finished with value: 39974872807749.34 and parameters: {'ndates': 170.27167487141577}. Best is trial 69 with value: 0.04172451690807932.\u001b[0m\n",
            "\u001b[32m[I 2021-01-14 11:10:37,833]\u001b[0m Trial 89 finished with value: 40329841545824.484 and parameters: {'ndates': 197.20392846201946}. Best is trial 69 with value: 0.04172451690807932.\u001b[0m\n",
            "\u001b[32m[I 2021-01-14 11:10:37,931]\u001b[0m Trial 90 finished with value: 44460650284057.98 and parameters: {'ndates': 71.63588123930684}. Best is trial 69 with value: 0.04172451690807932.\u001b[0m\n",
            "\u001b[32m[I 2021-01-14 11:10:38,009]\u001b[0m Trial 91 finished with value: 13.76133251886963 and parameters: {'ndates': 115.52764404462664}. Best is trial 69 with value: 0.04172451690807932.\u001b[0m\n",
            "\u001b[32m[I 2021-01-14 11:10:38,096]\u001b[0m Trial 92 finished with value: 72965431562.04366 and parameters: {'ndates': 128.19755957649383}. Best is trial 69 with value: 0.04172451690807932.\u001b[0m\n",
            "\u001b[32m[I 2021-01-14 11:10:38,182]\u001b[0m Trial 93 finished with value: 0.21743834021865346 and parameters: {'ndates': 106.47466479154046}. Best is trial 69 with value: 0.04172451690807932.\u001b[0m\n",
            "\u001b[32m[I 2021-01-14 11:10:38,294]\u001b[0m Trial 94 finished with value: 1438030951.683802 and parameters: {'ndates': 151.7531406327618}. Best is trial 69 with value: 0.04172451690807932.\u001b[0m\n",
            "\u001b[32m[I 2021-01-14 11:10:38,303]\u001b[0m Trial 95 finished with value: 0.25 and parameters: {'ndates': 1.5688462019660108}. Best is trial 69 with value: 0.04172451690807932.\u001b[0m\n",
            "\u001b[32m[I 2021-01-14 11:10:38,370]\u001b[0m Trial 96 finished with value: 1982126415339157.8 and parameters: {'ndates': 35.94667269916342}. Best is trial 69 with value: 0.04172451690807932.\u001b[0m\n",
            "\u001b[32m[I 2021-01-14 11:10:38,439]\u001b[0m Trial 97 finished with value: 14.347405918996264 and parameters: {'ndates': 101.65026089294582}. Best is trial 69 with value: 0.04172451690807932.\u001b[0m\n",
            "\u001b[32m[I 2021-01-14 11:10:38,533]\u001b[0m Trial 98 finished with value: 41188.935884024824 and parameters: {'ndates': 138.8943260896732}. Best is trial 69 with value: 0.04172451690807932.\u001b[0m\n",
            "\u001b[32m[I 2021-01-14 11:10:38,595]\u001b[0m Trial 99 finished with value: 54946005979966.16 and parameters: {'ndates': 52.60868325456723}. Best is trial 69 with value: 0.04172451690807932.\u001b[0m\n",
            "\u001b[32m[I 2021-01-14 11:10:38,654]\u001b[0m Trial 100 finished with value: 7504.058011099632 and parameters: {'ndates': 87.523195863851}. Best is trial 69 with value: 0.04172451690807932.\u001b[0m\n",
            "\u001b[32m[I 2021-01-14 11:10:38,688]\u001b[0m Trial 101 finished with value: 2.0036475104167515 and parameters: {'ndates': 11.68024417423391}. Best is trial 69 with value: 0.04172451690807932.\u001b[0m\n",
            "\u001b[32m[I 2021-01-14 11:10:38,745]\u001b[0m Trial 102 finished with value: 569269960375950.0 and parameters: {'ndates': 25.786631119209375}. Best is trial 69 with value: 0.04172451690807932.\u001b[0m\n",
            "\u001b[32m[I 2021-01-14 11:10:38,761]\u001b[0m Trial 103 finished with value: 1.5041822955853656 and parameters: {'ndates': 2.8067115214409277}. Best is trial 69 with value: 0.04172451690807932.\u001b[0m\n",
            "\u001b[32m[I 2021-01-14 11:10:38,824]\u001b[0m Trial 104 finished with value: 13.813636430097715 and parameters: {'ndates': 117.35592218456028}. Best is trial 69 with value: 0.04172451690807932.\u001b[0m\n",
            "\u001b[32m[I 2021-01-14 11:10:38,886]\u001b[0m Trial 105 finished with value: 478868.5904284552 and parameters: {'ndates': 65.35052871714473}. Best is trial 69 with value: 0.04172451690807932.\u001b[0m\n",
            "\u001b[32m[I 2021-01-14 11:10:38,962]\u001b[0m Trial 106 finished with value: 52442910580.98718 and parameters: {'ndates': 130.07273629017766}. Best is trial 69 with value: 0.04172451690807932.\u001b[0m\n",
            "\u001b[32m[I 2021-01-14 11:10:39,040]\u001b[0m Trial 107 finished with value: 80348578191009.72 and parameters: {'ndates': 79.78767701983392}. Best is trial 69 with value: 0.04172451690807932.\u001b[0m\n",
            "\u001b[32m[I 2021-01-14 11:10:39,914]\u001b[0m Trial 108 finished with value: 55247658691297.16 and parameters: {'ndates': 262.1967226609168}. Best is trial 69 with value: 0.04172451690807932.\u001b[0m\n",
            "\u001b[32m[I 2021-01-14 11:10:39,955]\u001b[0m Trial 109 finished with value: 23.756028100017517 and parameters: {'ndates': 44.940557532190816}. Best is trial 69 with value: 0.04172451690807932.\u001b[0m\n",
            "\u001b[32m[I 2021-01-14 11:10:40,024]\u001b[0m Trial 110 finished with value: 767.6353182086453 and parameters: {'ndates': 104.39838457299268}. Best is trial 69 with value: 0.04172451690807932.\u001b[0m\n",
            "\u001b[32m[I 2021-01-14 11:10:40,107]\u001b[0m Trial 111 finished with value: 25720569.164918 and parameters: {'ndates': 157.19382132827775}. Best is trial 69 with value: 0.04172451690807932.\u001b[0m\n",
            "\u001b[32m[I 2021-01-14 11:10:40,167]\u001b[0m Trial 112 finished with value: 0.02221476101846182 and parameters: {'ndates': 109.11065521334886}. Best is trial 112 with value: 0.02221476101846182.\u001b[0m\n",
            "\u001b[32m[I 2021-01-14 11:10:40,223]\u001b[0m Trial 113 finished with value: 0.1663205418547244 and parameters: {'ndates': 120.09354048950719}. Best is trial 112 with value: 0.02221476101846182.\u001b[0m\n",
            "\u001b[32m[I 2021-01-14 11:10:40,322]\u001b[0m Trial 114 finished with value: 19.289142256994992 and parameters: {'ndates': 117.0711644927133}. Best is trial 112 with value: 0.02221476101846182.\u001b[0m\n",
            "\u001b[32m[I 2021-01-14 11:10:40,386]\u001b[0m Trial 115 finished with value: 21.57550172254208 and parameters: {'ndates': 95.70291914872303}. Best is trial 112 with value: 0.02221476101846182.\u001b[0m\n",
            "\u001b[32m[I 2021-01-14 11:10:40,468]\u001b[0m Trial 116 finished with value: 12.263622024144958 and parameters: {'ndates': 140.5844890758969}. Best is trial 112 with value: 0.02221476101846182.\u001b[0m\n",
            "\u001b[32m[I 2021-01-14 11:10:40,528]\u001b[0m Trial 117 finished with value: 0.19179006700877066 and parameters: {'ndates': 122.50226851010869}. Best is trial 112 with value: 0.02221476101846182.\u001b[0m\n",
            "\u001b[32m[I 2021-01-14 11:10:40,602]\u001b[0m Trial 118 finished with value: 131.81907519379575 and parameters: {'ndates': 124.18876246960247}. Best is trial 112 with value: 0.02221476101846182.\u001b[0m\n",
            "\u001b[32m[I 2021-01-14 11:10:40,923]\u001b[0m Trial 119 finished with value: 24947652600713.805 and parameters: {'ndates': 483.7330792803443}. Best is trial 112 with value: 0.02221476101846182.\u001b[0m\n",
            "\u001b[32m[I 2021-01-14 11:10:40,995]\u001b[0m Trial 120 finished with value: 13.31500377296385 and parameters: {'ndates': 133.45306467902932}. Best is trial 112 with value: 0.02221476101846182.\u001b[0m\n",
            "\u001b[32m[I 2021-01-14 11:10:41,057]\u001b[0m Trial 121 finished with value: 0.20045646436810688 and parameters: {'ndates': 110.63524060606309}. Best is trial 112 with value: 0.02221476101846182.\u001b[0m\n",
            "\u001b[32m[I 2021-01-14 11:10:41,112]\u001b[0m Trial 122 finished with value: 0.07659173473051024 and parameters: {'ndates': 88.10496167712037}. Best is trial 112 with value: 0.02221476101846182.\u001b[0m\n",
            "\u001b[32m[I 2021-01-14 11:10:41,171]\u001b[0m Trial 123 finished with value: 36151.61617456001 and parameters: {'ndates': 86.93449791011753}. Best is trial 112 with value: 0.02221476101846182.\u001b[0m\n",
            "\u001b[32m[I 2021-01-14 11:10:41,241]\u001b[0m Trial 124 finished with value: 23.861389902633714 and parameters: {'ndates': 96.92013766655572}. Best is trial 112 with value: 0.02221476101846182.\u001b[0m\n",
            "\u001b[32m[I 2021-01-14 11:10:41,321]\u001b[0m Trial 125 finished with value: 13.930632018386778 and parameters: {'ndates': 119.18002321058917}. Best is trial 112 with value: 0.02221476101846182.\u001b[0m\n",
            "\u001b[32m[I 2021-01-14 11:10:41,392]\u001b[0m Trial 126 finished with value: 16.829823617130053 and parameters: {'ndates': 110.49386782907273}. Best is trial 112 with value: 0.02221476101846182.\u001b[0m\n",
            "\u001b[32m[I 2021-01-14 11:10:41,513]\u001b[0m Trial 127 finished with value: 13.94007524400692 and parameters: {'ndates': 152.25828203479688}. Best is trial 112 with value: 0.02221476101846182.\u001b[0m\n",
            "\u001b[32m[I 2021-01-14 11:10:41,706]\u001b[0m Trial 128 finished with value: 40285927097428.44 and parameters: {'ndates': 167.10494355086888}. Best is trial 112 with value: 0.02221476101846182.\u001b[0m\n",
            "\u001b[32m[I 2021-01-14 11:10:41,799]\u001b[0m Trial 129 finished with value: 28.87525110489991 and parameters: {'ndates': 134.00105141166543}. Best is trial 112 with value: 0.02221476101846182.\u001b[0m\n",
            "\u001b[32m[I 2021-01-14 11:10:41,850]\u001b[0m Trial 130 finished with value: 0.06518514835939088 and parameters: {'ndates': 78.46892143493012}. Best is trial 112 with value: 0.02221476101846182.\u001b[0m\n",
            "\u001b[32m[I 2021-01-14 11:10:42,021]\u001b[0m Trial 131 finished with value: 167.89328050270686 and parameters: {'ndates': 71.0451070982665}. Best is trial 112 with value: 0.02221476101846182.\u001b[0m\n",
            "\u001b[32m[I 2021-01-14 11:10:42,069]\u001b[0m Trial 132 finished with value: 0.0813073133280464 and parameters: {'ndates': 83.86700585107879}. Best is trial 112 with value: 0.02221476101846182.\u001b[0m\n",
            "\u001b[32m[I 2021-01-14 11:10:42,130]\u001b[0m Trial 133 finished with value: 517060277.3907074 and parameters: {'ndates': 80.58411402324722}. Best is trial 112 with value: 0.02221476101846182.\u001b[0m\n",
            "\u001b[32m[I 2021-01-14 11:10:42,329]\u001b[0m Trial 134 finished with value: 40660581121969.41 and parameters: {'ndates': 58.9760351890647}. Best is trial 112 with value: 0.02221476101846182.\u001b[0m\n",
            "\u001b[32m[I 2021-01-14 11:10:42,379]\u001b[0m Trial 135 finished with value: 0.18736342972320422 and parameters: {'ndates': 91.5665985329979}. Best is trial 112 with value: 0.02221476101846182.\u001b[0m\n",
            "\u001b[32m[I 2021-01-14 11:10:42,426]\u001b[0m Trial 136 finished with value: 46.08227223328008 and parameters: {'ndates': 89.93730398816372}. Best is trial 112 with value: 0.02221476101846182.\u001b[0m\n",
            "\u001b[32m[I 2021-01-14 11:10:42,498]\u001b[0m Trial 137 finished with value: 45428167956938.125 and parameters: {'ndates': 72.42793849645092}. Best is trial 112 with value: 0.02221476101846182.\u001b[0m\n",
            "\u001b[32m[I 2021-01-14 11:10:42,564]\u001b[0m Trial 138 finished with value: 3240.8008032822468 and parameters: {'ndates': 102.29889448065123}. Best is trial 112 with value: 0.02221476101846182.\u001b[0m\n",
            "\u001b[32m[I 2021-01-14 11:10:42,626]\u001b[0m Trial 139 finished with value: 7.331822232095845 and parameters: {'ndates': 81.03926633845083}. Best is trial 112 with value: 0.02221476101846182.\u001b[0m\n",
            "\u001b[32m[I 2021-01-14 11:10:42,709]\u001b[0m Trial 140 finished with value: 51289070593014.85 and parameters: {'ndates': 54.89662765116353}. Best is trial 112 with value: 0.02221476101846182.\u001b[0m\n",
            "\u001b[32m[I 2021-01-14 11:10:42,782]\u001b[0m Trial 141 finished with value: 0.23446954610337647 and parameters: {'ndates': 124.08433331190626}. Best is trial 112 with value: 0.02221476101846182.\u001b[0m\n",
            "\u001b[32m[I 2021-01-14 11:10:42,835]\u001b[0m Trial 142 finished with value: 4185.277012905545 and parameters: {'ndates': 95.07252047101795}. Best is trial 112 with value: 0.02221476101846182.\u001b[0m\n",
            "\u001b[32m[I 2021-01-14 11:10:43,180]\u001b[0m Trial 143 finished with value: 61901344882813.555 and parameters: {'ndates': 144.7253582848229}. Best is trial 112 with value: 0.02221476101846182.\u001b[0m\n",
            "\u001b[32m[I 2021-01-14 11:10:43,248]\u001b[0m Trial 144 finished with value: 13.406308300210705 and parameters: {'ndates': 106.17411416528908}. Best is trial 112 with value: 0.02221476101846182.\u001b[0m\n",
            "\u001b[32m[I 2021-01-14 11:10:43,318]\u001b[0m Trial 145 finished with value: 30.84227159783371 and parameters: {'ndates': 90.10807590840473}. Best is trial 112 with value: 0.02221476101846182.\u001b[0m\n",
            "\u001b[32m[I 2021-01-14 11:10:43,376]\u001b[0m Trial 146 finished with value: 487034.94344375335 and parameters: {'ndates': 67.26276686116964}. Best is trial 112 with value: 0.02221476101846182.\u001b[0m\n",
            "\u001b[32m[I 2021-01-14 11:10:43,452]\u001b[0m Trial 147 finished with value: 0.26633657598885124 and parameters: {'ndates': 131.88048681484233}. Best is trial 112 with value: 0.02221476101846182.\u001b[0m\n",
            "\u001b[32m[I 2021-01-14 11:10:43,572]\u001b[0m Trial 148 finished with value: 21.684732552502773 and parameters: {'ndates': 118.94426476635422}. Best is trial 112 with value: 0.02221476101846182.\u001b[0m\n",
            "\u001b[32m[I 2021-01-14 11:10:43,641]\u001b[0m Trial 149 finished with value: 22.929035449707218 and parameters: {'ndates': 98.60386136917035}. Best is trial 112 with value: 0.02221476101846182.\u001b[0m\n",
            "\u001b[32m[I 2021-01-14 11:10:43,756]\u001b[0m Trial 150 finished with value: 88401470514668.73 and parameters: {'ndates': 82.76437647264561}. Best is trial 112 with value: 0.02221476101846182.\u001b[0m\n",
            "\u001b[32m[I 2021-01-14 11:10:43,840]\u001b[0m Trial 151 finished with value: 17.531535292409462 and parameters: {'ndates': 116.33133283379016}. Best is trial 112 with value: 0.02221476101846182.\u001b[0m\n",
            "\u001b[32m[I 2021-01-14 11:10:43,919]\u001b[0m Trial 152 finished with value: 0.04003624342274868 and parameters: {'ndates': 109.73954735195345}. Best is trial 112 with value: 0.02221476101846182.\u001b[0m\n",
            "\u001b[32m[I 2021-01-14 11:10:43,982]\u001b[0m Trial 153 finished with value: 0.049205082255555664 and parameters: {'ndates': 104.77221847986279}. Best is trial 112 with value: 0.02221476101846182.\u001b[0m\n",
            "\u001b[32m[I 2021-01-14 11:10:44,033]\u001b[0m Trial 154 finished with value: 0.0019893991266286583 and parameters: {'ndates': 105.71706516917195}. Best is trial 154 with value: 0.0019893991266286583.\u001b[0m\n",
            "\u001b[32m[I 2021-01-14 11:10:44,094]\u001b[0m Trial 155 finished with value: 13.974497624569258 and parameters: {'ndates': 103.73165801297893}. Best is trial 154 with value: 0.0019893991266286583.\u001b[0m\n",
            "\u001b[32m[I 2021-01-14 11:10:44,165]\u001b[0m Trial 156 finished with value: 47850374669929.45 and parameters: {'ndates': 74.72017112787654}. Best is trial 154 with value: 0.0019893991266286583.\u001b[0m\n",
            "\u001b[32m[I 2021-01-14 11:10:44,276]\u001b[0m Trial 157 finished with value: 84673262540775.12 and parameters: {'ndates': 85.97200398939303}. Best is trial 154 with value: 0.0019893991266286583.\u001b[0m\n",
            "\u001b[32m[I 2021-01-14 11:10:44,365]\u001b[0m Trial 158 finished with value: 40350550746619.04 and parameters: {'ndates': 64.54576361159371}. Best is trial 154 with value: 0.0019893991266286583.\u001b[0m\n",
            "\u001b[32m[I 2021-01-14 11:10:44,430]\u001b[0m Trial 159 finished with value: 0.11715211939817399 and parameters: {'ndates': 97.10800660010156}. Best is trial 154 with value: 0.0019893991266286583.\u001b[0m\n",
            "\u001b[32m[I 2021-01-14 11:10:44,473]\u001b[0m Trial 160 finished with value: 0.02140498211709945 and parameters: {'ndates': 108.85370368693272}. Best is trial 154 with value: 0.0019893991266286583.\u001b[0m\n",
            "\u001b[32m[I 2021-01-14 11:10:44,541]\u001b[0m Trial 161 finished with value: 25.216811203896043 and parameters: {'ndates': 97.60100898436727}. Best is trial 154 with value: 0.0019893991266286583.\u001b[0m\n",
            "\u001b[32m[I 2021-01-14 11:10:44,608]\u001b[0m Trial 162 finished with value: 13.934605299311219 and parameters: {'ndates': 111.62825953166428}. Best is trial 154 with value: 0.0019893991266286583.\u001b[0m\n",
            "\u001b[32m[I 2021-01-14 11:10:44,682]\u001b[0m Trial 163 finished with value: 0.0966056592990171 and parameters: {'ndates': 125.3711504746518}. Best is trial 154 with value: 0.0019893991266286583.\u001b[0m\n",
            "\u001b[32m[I 2021-01-14 11:10:44,759]\u001b[0m Trial 164 finished with value: 28.87519950607318 and parameters: {'ndates': 134.08406920650768}. Best is trial 154 with value: 0.0019893991266286583.\u001b[0m\n",
            "\u001b[32m[I 2021-01-14 11:10:44,927]\u001b[0m Trial 165 finished with value: 13.303013891856335 and parameters: {'ndates': 149.37495858858532}. Best is trial 154 with value: 0.0019893991266286583.\u001b[0m\n",
            "\u001b[32m[I 2021-01-14 11:10:45,014]\u001b[0m Trial 166 finished with value: 26.77335878302257 and parameters: {'ndates': 123.93474567799001}. Best is trial 154 with value: 0.0019893991266286583.\u001b[0m\n",
            "\u001b[32m[I 2021-01-14 11:10:45,099]\u001b[0m Trial 167 finished with value: 13.924238307110995 and parameters: {'ndates': 110.62172974679274}. Best is trial 154 with value: 0.0019893991266286583.\u001b[0m\n",
            "\u001b[32m[I 2021-01-14 11:10:45,194]\u001b[0m Trial 168 finished with value: 28.54155389055821 and parameters: {'ndates': 129.56796726060642}. Best is trial 154 with value: 0.0019893991266286583.\u001b[0m\n",
            "\u001b[32m[I 2021-01-14 11:10:45,368]\u001b[0m Trial 169 finished with value: 9.412112058837561 and parameters: {'ndates': 142.61643331602667}. Best is trial 154 with value: 0.0019893991266286583.\u001b[0m\n",
            "\u001b[32m[I 2021-01-14 11:10:45,464]\u001b[0m Trial 170 finished with value: 13.761322324746956 and parameters: {'ndates': 115.44712769661061}. Best is trial 154 with value: 0.0019893991266286583.\u001b[0m\n",
            "\u001b[32m[I 2021-01-14 11:10:45,531]\u001b[0m Trial 171 finished with value: 11.746920299410883 and parameters: {'ndates': 98.97335563189215}. Best is trial 154 with value: 0.0019893991266286583.\u001b[0m\n",
            "\u001b[32m[I 2021-01-14 11:10:45,574]\u001b[0m Trial 172 finished with value: 264.16769887959066 and parameters: {'ndates': 87.70156385605904}. Best is trial 154 with value: 0.0019893991266286583.\u001b[0m\n",
            "\u001b[32m[I 2021-01-14 11:10:45,637]\u001b[0m Trial 173 finished with value: 0.25701299437333586 and parameters: {'ndates': 104.47246493008994}. Best is trial 154 with value: 0.0019893991266286583.\u001b[0m\n",
            "\u001b[32m[I 2021-01-14 11:10:45,702]\u001b[0m Trial 174 finished with value: 65.59498433486519 and parameters: {'ndates': 93.0621933299064}. Best is trial 154 with value: 0.0019893991266286583.\u001b[0m\n",
            "\u001b[32m[I 2021-01-14 11:10:45,791]\u001b[0m Trial 175 finished with value: 26.49126069672879 and parameters: {'ndates': 124.37925015668483}. Best is trial 154 with value: 0.0019893991266286583.\u001b[0m\n",
            "\u001b[32m[I 2021-01-14 11:10:45,847]\u001b[0m Trial 176 finished with value: 0.0326704793593128 and parameters: {'ndates': 110.3504739155686}. Best is trial 154 with value: 0.0019893991266286583.\u001b[0m\n",
            "\u001b[32m[I 2021-01-14 11:10:45,908]\u001b[0m Trial 177 finished with value: 13.934609039261689 and parameters: {'ndates': 111.74974217940556}. Best is trial 154 with value: 0.0019893991266286583.\u001b[0m\n",
            "\u001b[32m[I 2021-01-14 11:10:46,006]\u001b[0m Trial 178 finished with value: 12.2636213134816 and parameters: {'ndates': 140.32520679710555}. Best is trial 154 with value: 0.0019893991266286583.\u001b[0m\n",
            "\u001b[32m[I 2021-01-14 11:10:46,115]\u001b[0m Trial 179 finished with value: 24.784288859957122 and parameters: {'ndates': 120.63120858682505}. Best is trial 154 with value: 0.0019893991266286583.\u001b[0m\n",
            "\u001b[32m[I 2021-01-14 11:10:46,172]\u001b[0m Trial 180 finished with value: 0.07828705402968285 and parameters: {'ndates': 79.01585400448985}. Best is trial 154 with value: 0.0019893991266286583.\u001b[0m\n",
            "\u001b[32m[I 2021-01-14 11:10:46,246]\u001b[0m Trial 181 finished with value: 23906.624292823577 and parameters: {'ndates': 81.80031216298224}. Best is trial 154 with value: 0.0019893991266286583.\u001b[0m\n",
            "\u001b[32m[I 2021-01-14 11:10:46,311]\u001b[0m Trial 182 finished with value: 77.79996319308013 and parameters: {'ndates': 103.42140427558209}. Best is trial 154 with value: 0.0019893991266286583.\u001b[0m\n",
            "\u001b[32m[I 2021-01-14 11:10:46,420]\u001b[0m Trial 183 finished with value: 47836386028365.95 and parameters: {'ndates': 74.72220122694972}. Best is trial 154 with value: 0.0019893991266286583.\u001b[0m\n",
            "\u001b[32m[I 2021-01-14 11:10:46,512]\u001b[0m Trial 184 finished with value: 18.436433832352975 and parameters: {'ndates': 112.80767524684451}. Best is trial 154 with value: 0.0019893991266286583.\u001b[0m\n",
            "\u001b[32m[I 2021-01-14 11:10:46,571]\u001b[0m Trial 185 finished with value: 0.09494086308908643 and parameters: {'ndates': 134.00088453153222}. Best is trial 154 with value: 0.0019893991266286583.\u001b[0m\n",
            "\u001b[32m[I 2021-01-14 11:10:46,702]\u001b[0m Trial 186 finished with value: 3.9218202442539285 and parameters: {'ndates': 158.7508837299974}. Best is trial 154 with value: 0.0019893991266286583.\u001b[0m\n",
            "\u001b[32m[I 2021-01-14 11:10:46,854]\u001b[0m Trial 187 finished with value: 9362.992015709697 and parameters: {'ndates': 133.22723909841315}. Best is trial 154 with value: 0.0019893991266286583.\u001b[0m\n",
            "\u001b[32m[I 2021-01-14 11:10:46,932]\u001b[0m Trial 188 finished with value: 914.7550822251193 and parameters: {'ndates': 98.00463207780388}. Best is trial 154 with value: 0.0019893991266286583.\u001b[0m\n",
            "\u001b[32m[I 2021-01-14 11:10:47,013]\u001b[0m Trial 189 finished with value: 28.54154194249927 and parameters: {'ndates': 129.89281720982697}. Best is trial 154 with value: 0.0019893991266286583.\u001b[0m\n",
            "\u001b[32m[I 2021-01-14 11:10:47,077]\u001b[0m Trial 190 finished with value: 0.045787912957187094 and parameters: {'ndates': 106.84063652521172}. Best is trial 154 with value: 0.0019893991266286583.\u001b[0m\n",
            "\u001b[32m[I 2021-01-14 11:10:47,152]\u001b[0m Trial 191 finished with value: 13.312794220464173 and parameters: {'ndates': 105.84745603445009}. Best is trial 154 with value: 0.0019893991266286583.\u001b[0m\n",
            "\u001b[32m[I 2021-01-14 11:10:47,247]\u001b[0m Trial 192 finished with value: 145812.9351443381 and parameters: {'ndates': 90.97167295926167}. Best is trial 154 with value: 0.0019893991266286583.\u001b[0m\n",
            "\u001b[32m[I 2021-01-14 11:10:47,306]\u001b[0m Trial 193 finished with value: 255.40546267947863 and parameters: {'ndates': 108.62629163584492}. Best is trial 154 with value: 0.0019893991266286583.\u001b[0m\n",
            "\u001b[32m[I 2021-01-14 11:10:47,359]\u001b[0m Trial 194 finished with value: 7.6130038754547495 and parameters: {'ndates': 82.35677697792678}. Best is trial 154 with value: 0.0019893991266286583.\u001b[0m\n",
            "\u001b[32m[I 2021-01-14 11:10:47,425]\u001b[0m Trial 195 finished with value: 126.08680507032315 and parameters: {'ndates': 121.74525206399694}. Best is trial 154 with value: 0.0019893991266286583.\u001b[0m\n",
            "\u001b[32m[I 2021-01-14 11:10:47,504]\u001b[0m Trial 196 finished with value: 323066.7934788572 and parameters: {'ndates': 138.4982085994423}. Best is trial 154 with value: 0.0019893991266286583.\u001b[0m\n",
            "\u001b[32m[I 2021-01-14 11:10:47,560]\u001b[0m Trial 197 finished with value: 530.6323056522789 and parameters: {'ndates': 99.89701510600526}. Best is trial 154 with value: 0.0019893991266286583.\u001b[0m\n",
            "\u001b[32m[I 2021-01-14 11:10:47,612]\u001b[0m Trial 198 finished with value: 7368.096135845124 and parameters: {'ndates': 72.47639906156522}. Best is trial 154 with value: 0.0019893991266286583.\u001b[0m\n",
            "\u001b[32m[I 2021-01-14 11:10:47,684]\u001b[0m Trial 199 finished with value: 42662166404961.875 and parameters: {'ndates': 56.91251492889582}. Best is trial 154 with value: 0.0019893991266286583.\u001b[0m\n",
            "\u001b[32m[I 2021-01-14 11:10:47,758]\u001b[0m Trial 200 finished with value: 226.74964486633084 and parameters: {'ndates': 113.97382638875476}. Best is trial 154 with value: 0.0019893991266286583.\u001b[0m\n",
            "\u001b[32m[I 2021-01-14 11:10:47,856]\u001b[0m Trial 201 finished with value: 0.05724658168808747 and parameters: {'ndates': 124.61975523031668}. Best is trial 154 with value: 0.0019893991266286583.\u001b[0m\n",
            "\u001b[32m[I 2021-01-14 11:10:47,928]\u001b[0m Trial 202 finished with value: 1053.3001614604345 and parameters: {'ndates': 130.70427961902985}. Best is trial 154 with value: 0.0019893991266286583.\u001b[0m\n",
            "\u001b[32m[I 2021-01-14 11:10:48,041]\u001b[0m Trial 203 finished with value: 8.910403802563193 and parameters: {'ndates': 151.44873475223093}. Best is trial 154 with value: 0.0019893991266286583.\u001b[0m\n",
            "\u001b[32m[I 2021-01-14 11:10:48,164]\u001b[0m Trial 204 finished with value: 2425095261236.2974 and parameters: {'ndates': 122.53375197173466}. Best is trial 154 with value: 0.0019893991266286583.\u001b[0m\n",
            "\u001b[32m[I 2021-01-14 11:10:48,230]\u001b[0m Trial 205 finished with value: 0.2451889837311496 and parameters: {'ndates': 92.09198410715119}. Best is trial 154 with value: 0.0019893991266286583.\u001b[0m\n",
            "\u001b[32m[I 2021-01-14 11:10:48,293]\u001b[0m Trial 206 finished with value: 14.304096611321947 and parameters: {'ndates': 105.84268585735191}. Best is trial 154 with value: 0.0019893991266286583.\u001b[0m\n",
            "\u001b[32m[I 2021-01-14 11:10:48,354]\u001b[0m Trial 207 finished with value: 13.761323414362337 and parameters: {'ndates': 115.42337276403869}. Best is trial 154 with value: 0.0019893991266286583.\u001b[0m\n",
            "\u001b[32m[I 2021-01-14 11:10:48,494]\u001b[0m Trial 208 finished with value: 12.263631272288807 and parameters: {'ndates': 140.11145576539462}. Best is trial 154 with value: 0.0019893991266286583.\u001b[0m\n",
            "\u001b[32m[I 2021-01-14 11:10:48,553]\u001b[0m Trial 209 finished with value: 517059935.76053846 and parameters: {'ndates': 80.3072024165424}. Best is trial 154 with value: 0.0019893991266286583.\u001b[0m\n",
            "\u001b[32m[I 2021-01-14 11:10:48,607]\u001b[0m Trial 210 finished with value: 0.02387803827426816 and parameters: {'ndates': 99.79303688675482}. Best is trial 154 with value: 0.0019893991266286583.\u001b[0m\n",
            "\u001b[32m[I 2021-01-14 11:10:48,664]\u001b[0m Trial 211 finished with value: 29.199964752379866 and parameters: {'ndates': 98.31711241158038}. Best is trial 154 with value: 0.0019893991266286583.\u001b[0m\n",
            "\u001b[32m[I 2021-01-14 11:10:48,743]\u001b[0m Trial 212 finished with value: 0.14775480453487583 and parameters: {'ndates': 125.75560064981575}. Best is trial 154 with value: 0.0019893991266286583.\u001b[0m\n",
            "\u001b[32m[I 2021-01-14 11:10:48,899]\u001b[0m Trial 213 finished with value: 26.66552991605205 and parameters: {'ndates': 127.81207972328652}. Best is trial 154 with value: 0.0019893991266286583.\u001b[0m\n",
            "\u001b[32m[I 2021-01-14 11:10:48,959]\u001b[0m Trial 214 finished with value: 0.19859976409478375 and parameters: {'ndates': 114.9542432187593}. Best is trial 154 with value: 0.0019893991266286583.\u001b[0m\n",
            "\u001b[32m[I 2021-01-14 11:10:49,417]\u001b[0m Trial 215 finished with value: 2.19997336165304 and parameters: {'ndates': 303.8821014936631}. Best is trial 154 with value: 0.0019893991266286583.\u001b[0m\n",
            "\u001b[32m[I 2021-01-14 11:10:49,491]\u001b[0m Trial 216 finished with value: 10.34626127823035 and parameters: {'ndates': 145.05744281194163}. Best is trial 154 with value: 0.0019893991266286583.\u001b[0m\n",
            "\u001b[32m[I 2021-01-14 11:10:49,566]\u001b[0m Trial 217 finished with value: 12.839177335391037 and parameters: {'ndates': 124.4831134759695}. Best is trial 154 with value: 0.0019893991266286583.\u001b[0m\n",
            "\u001b[32m[I 2021-01-14 11:10:49,648]\u001b[0m Trial 218 finished with value: 0.046221790062046825 and parameters: {'ndates': 107.41862619526833}. Best is trial 154 with value: 0.0019893991266286583.\u001b[0m\n",
            "\u001b[32m[I 2021-01-14 11:10:49,717]\u001b[0m Trial 219 finished with value: 0.21743840523591262 and parameters: {'ndates': 106.4622133216256}. Best is trial 154 with value: 0.0019893991266286583.\u001b[0m\n",
            "\u001b[32m[I 2021-01-14 11:10:49,795]\u001b[0m Trial 220 finished with value: 211090704.6381902 and parameters: {'ndates': 94.00654955950486}. Best is trial 154 with value: 0.0019893991266286583.\u001b[0m\n",
            "\u001b[32m[I 2021-01-14 11:10:49,870]\u001b[0m Trial 221 finished with value: 226.74960256001287 and parameters: {'ndates': 113.88470857169939}. Best is trial 154 with value: 0.0019893991266286583.\u001b[0m\n",
            "\u001b[32m[I 2021-01-14 11:10:50,026]\u001b[0m Trial 222 finished with value: 116.25973448206345 and parameters: {'ndates': 242.459503366557}. Best is trial 154 with value: 0.0019893991266286583.\u001b[0m\n",
            "\u001b[32m[I 2021-01-14 11:10:50,128]\u001b[0m Trial 223 finished with value: 29.401351963412804 and parameters: {'ndates': 131.2807386998229}. Best is trial 154 with value: 0.0019893991266286583.\u001b[0m\n",
            "\u001b[32m[I 2021-01-14 11:10:50,202]\u001b[0m Trial 224 finished with value: 0.21023689722587302 and parameters: {'ndates': 107.06869199061751}. Best is trial 154 with value: 0.0019893991266286583.\u001b[0m\n",
            "\u001b[32m[I 2021-01-14 11:10:50,311]\u001b[0m Trial 225 finished with value: 24.7843078890816 and parameters: {'ndates': 120.80285191355905}. Best is trial 154 with value: 0.0019893991266286583.\u001b[0m\n",
            "\u001b[32m[I 2021-01-14 11:10:50,381]\u001b[0m Trial 226 finished with value: 0.07568715415001477 and parameters: {'ndates': 100.9435107249332}. Best is trial 154 with value: 0.0019893991266286583.\u001b[0m\n",
            "\u001b[32m[I 2021-01-14 11:10:50,442]\u001b[0m Trial 227 finished with value: 719.3781840113649 and parameters: {'ndates': 86.94019566622569}. Best is trial 154 with value: 0.0019893991266286583.\u001b[0m\n",
            "\u001b[32m[I 2021-01-14 11:10:50,503]\u001b[0m Trial 228 finished with value: 112.92759110435883 and parameters: {'ndates': 102.78430145140642}. Best is trial 154 with value: 0.0019893991266286583.\u001b[0m\n",
            "\u001b[32m[I 2021-01-14 11:10:50,546]\u001b[0m Trial 229 finished with value: 0.03455799324431336 and parameters: {'ndates': 96.95081253860533}. Best is trial 154 with value: 0.0019893991266286583.\u001b[0m\n",
            "\u001b[32m[I 2021-01-14 11:10:50,627]\u001b[0m Trial 230 finished with value: 21.57554147877524 and parameters: {'ndates': 95.26096541970425}. Best is trial 154 with value: 0.0019893991266286583.\u001b[0m\n",
            "\u001b[32m[I 2021-01-14 11:10:50,694]\u001b[0m Trial 231 finished with value: 14.34738630606869 and parameters: {'ndates': 101.81112734924989}. Best is trial 154 with value: 0.0019893991266286583.\u001b[0m\n",
            "\u001b[32m[I 2021-01-14 11:10:50,792]\u001b[0m Trial 232 finished with value: 15009.48670507586 and parameters: {'ndates': 88.86202694046405}. Best is trial 154 with value: 0.0019893991266286583.\u001b[0m\n",
            "\u001b[32m[I 2021-01-14 11:10:50,872]\u001b[0m Trial 233 finished with value: 0.200455912890712 and parameters: {'ndates': 110.04344165964594}. Best is trial 154 with value: 0.0019893991266286583.\u001b[0m\n",
            "\u001b[32m[I 2021-01-14 11:10:50,943]\u001b[0m Trial 234 finished with value: 19.90849353570418 and parameters: {'ndates': 99.43871651512794}. Best is trial 154 with value: 0.0019893991266286583.\u001b[0m\n",
            "\u001b[32m[I 2021-01-14 11:10:50,992]\u001b[0m Trial 235 finished with value: 0.020244235746029952 and parameters: {'ndates': 116.89801797878098}. Best is trial 154 with value: 0.0019893991266286583.\u001b[0m\n",
            "\u001b[32m[I 2021-01-14 11:10:51,045]\u001b[0m Trial 236 finished with value: 0.2012855556787468 and parameters: {'ndates': 113.9560328287819}. Best is trial 154 with value: 0.0019893991266286583.\u001b[0m\n",
            "\u001b[32m[I 2021-01-14 11:10:51,110]\u001b[0m Trial 237 finished with value: 28713059.02953605 and parameters: {'ndates': 81.48579757866901}. Best is trial 154 with value: 0.0019893991266286583.\u001b[0m\n",
            "\u001b[32m[I 2021-01-14 11:10:51,167]\u001b[0m Trial 238 finished with value: 0.10188379848137089 and parameters: {'ndates': 91.79137614153576}. Best is trial 154 with value: 0.0019893991266286583.\u001b[0m\n",
            "\u001b[32m[I 2021-01-14 11:10:51,227]\u001b[0m Trial 239 finished with value: 13.94393207465368 and parameters: {'ndates': 107.48287490736004}. Best is trial 154 with value: 0.0019893991266286583.\u001b[0m\n",
            "\u001b[32m[I 2021-01-14 11:10:51,301]\u001b[0m Trial 240 finished with value: 60.00668253490875 and parameters: {'ndates': 88.82990481382103}. Best is trial 154 with value: 0.0019893991266286583.\u001b[0m\n",
            "\u001b[32m[I 2021-01-14 11:10:51,371]\u001b[0m Trial 241 finished with value: 2542.491178398789 and parameters: {'ndates': 96.53762244235404}. Best is trial 154 with value: 0.0019893991266286583.\u001b[0m\n",
            "\u001b[32m[I 2021-01-14 11:10:51,421]\u001b[0m Trial 242 finished with value: 0.1990934758349036 and parameters: {'ndates': 115.35833746120244}. Best is trial 154 with value: 0.0019893991266286583.\u001b[0m\n",
            "\u001b[32m[I 2021-01-14 11:10:51,479]\u001b[0m Trial 243 finished with value: 625469115.6613554 and parameters: {'ndates': 73.52629435680018}. Best is trial 154 with value: 0.0019893991266286583.\u001b[0m\n",
            "\u001b[32m[I 2021-01-14 11:10:51,546]\u001b[0m Trial 244 finished with value: 18.133574163452632 and parameters: {'ndates': 101.10209578312413}. Best is trial 154 with value: 0.0019893991266286583.\u001b[0m\n",
            "\u001b[32m[I 2021-01-14 11:10:51,588]\u001b[0m Trial 245 finished with value: 0.13492677561811575 and parameters: {'ndates': 90.83434619393886}. Best is trial 154 with value: 0.0019893991266286583.\u001b[0m\n",
            "\u001b[32m[I 2021-01-14 11:10:51,646]\u001b[0m Trial 246 finished with value: 174.46447122338088 and parameters: {'ndates': 117.78777814280654}. Best is trial 154 with value: 0.0019893991266286583.\u001b[0m\n",
            "\u001b[32m[I 2021-01-14 11:10:51,704]\u001b[0m Trial 247 finished with value: 23906.44490093614 and parameters: {'ndates': 81.43683499837564}. Best is trial 154 with value: 0.0019893991266286583.\u001b[0m\n",
            "\u001b[32m[I 2021-01-14 11:10:51,770]\u001b[0m Trial 248 finished with value: 3290.382605513101 and parameters: {'ndates': 107.8559468870572}. Best is trial 154 with value: 0.0019893991266286583.\u001b[0m\n",
            "\u001b[32m[I 2021-01-14 11:10:51,833]\u001b[0m Trial 249 finished with value: 9854971.097753458 and parameters: {'ndates': 96.59779208259181}. Best is trial 154 with value: 0.0019893991266286583.\u001b[0m\n"
          ],
          "name": "stderr"
        },
        {
          "output_type": "execute_result",
          "data": {
            "text/plain": [
              "{'ndates': 105.71706516917195}"
            ]
          },
          "metadata": {
            "tags": []
          },
          "execution_count": 18
        }
      ]
    },
    {
      "cell_type": "code",
      "metadata": {
        "colab": {
          "base_uri": "https://localhost:8080/"
        },
        "id": "0PHU4vAbhgSH",
        "outputId": "7b61d37a-a2f7-40c2-902a-15dcc5824404"
      },
      "source": [
        "study.best_params"
      ],
      "execution_count": 19,
      "outputs": [
        {
          "output_type": "execute_result",
          "data": {
            "text/plain": [
              "{'ndates': 105.71706516917195}"
            ]
          },
          "metadata": {
            "tags": []
          },
          "execution_count": 19
        }
      ]
    },
    {
      "cell_type": "code",
      "metadata": {
        "id": "KQXUO_HSkjf_"
      },
      "source": [
        ""
      ],
      "execution_count": null,
      "outputs": []
    }
  ]
}