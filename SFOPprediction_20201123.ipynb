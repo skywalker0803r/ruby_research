{
  "nbformat": 4,
  "nbformat_minor": 0,
  "metadata": {
    "kernelspec": {
      "display_name": "Python 3",
      "language": "python",
      "name": "python3"
    },
    "language_info": {
      "codemirror_mode": {
        "name": "ipython",
        "version": 3
      },
      "file_extension": ".py",
      "mimetype": "text/x-python",
      "name": "python",
      "nbconvert_exporter": "python",
      "pygments_lexer": "ipython3",
      "version": "3.7.4"
    },
    "colab": {
      "name": "SFOPprediction.ipynb",
      "provenance": [],
      "collapsed_sections": [
        "gwQbv_YPWDTt",
        "v4lmrQEKWDUw"
      ],
      "include_colab_link": true
    },
    "accelerator": "GPU"
  },
  "cells": [
    {
      "cell_type": "markdown",
      "metadata": {
        "id": "view-in-github",
        "colab_type": "text"
      },
      "source": [
        "<a href=\"https://colab.research.google.com/github/skywalker0803r/ruby_research/blob/main/SFOPprediction_20201123.ipynb\" target=\"_parent\"><img src=\"https://colab.research.google.com/assets/colab-badge.svg\" alt=\"Open In Colab\"/></a>"
      ]
    },
    {
      "cell_type": "code",
      "metadata": {
        "id": "yTXRNj8PW-8h",
        "colab": {
          "base_uri": "https://localhost:8080/"
        },
        "outputId": "e067d220-87a5-4bd4-9d21-e0e056145ba9"
      },
      "source": [
        "from google.colab import drive\n",
        "drive.mount('/gdrive')"
      ],
      "execution_count": 1,
      "outputs": [
        {
          "output_type": "stream",
          "text": [
            "Drive already mounted at /gdrive; to attempt to forcibly remount, call drive.mount(\"/gdrive\", force_remount=True).\n"
          ],
          "name": "stdout"
        }
      ]
    },
    {
      "cell_type": "code",
      "metadata": {
        "id": "g3MtssUy6CPq"
      },
      "source": [
        "from torch.utils.data import TensorDataset,DataLoader\n",
        "from copy import deepcopy\n",
        "import matplotlib.pyplot as plt"
      ],
      "execution_count": 2,
      "outputs": []
    },
    {
      "cell_type": "code",
      "metadata": {
        "scrolled": true,
        "id": "ha0h4_WQWDSf",
        "colab": {
          "base_uri": "https://localhost:8080/"
        },
        "outputId": "7ef5d8d9-19b9-4eb5-eeed-94d782d4da7e"
      },
      "source": [
        "import torch\n",
        "from torch import nn\n",
        "import torch.nn.functional as F\n",
        "from torch import tensor\n",
        "from torch.nn import Linear,ReLU,Sigmoid,Tanh\n",
        "import torch.optim as optim\n",
        "import pandas as pd\n",
        "from sklearn.model_selection import train_test_split\n",
        "from sklearn.preprocessing import StandardScaler,MinMaxScaler\n",
        "import numpy as np\n",
        "import matplotlib.pyplot as plt\n",
        "import seaborn as sns\n",
        "import plotly.express as px\n",
        "from sklearn.metrics import r2_score,mean_squared_error\n",
        "from math import sqrt\n",
        "import joblib\n",
        "from torch.utils.tensorboard import SummaryWriter\n",
        "import warnings;warnings.simplefilter('ignore')\n",
        "from tqdm import tqdm_notebook as tqdm\n",
        "import os\n",
        "from sklearn.utils import shuffle\n",
        "import random\n",
        "\n",
        "# config\n",
        "seed = 168\n",
        "np.random.seed(seed)\n",
        "random.seed(seed)\n",
        "torch.manual_seed(seed)\n",
        "\n",
        "root = '/gdrive/My Drive/for Ruby'\n",
        "excel_list=os.listdir(root)\n",
        "excel_list"
      ],
      "execution_count": 3,
      "outputs": [
        {
          "output_type": "execute_result",
          "data": {
            "text/plain": [
              "['淡水河流域.csv', '淡水河流域final_0429.ipynb', '驗證淡水河流域03_15.ipynb', '2.xlsx']"
            ]
          },
          "metadata": {
            "tags": []
          },
          "execution_count": 3
        }
      ]
    },
    {
      "cell_type": "code",
      "metadata": {
        "id": "zlDEZklNW89Y",
        "colab": {
          "base_uri": "https://localhost:8080/"
        },
        "outputId": "6bb3a6b0-37f0-40cd-ce16-5e6cc90e748f"
      },
      "source": [
        "with open('/gdrive/My Drive/foo.txt', 'w') as f:\n",
        "  f.write('Hello Google Drive!')\n",
        "!cat '/gdrive/My Drive/foo.txt'"
      ],
      "execution_count": 4,
      "outputs": [
        {
          "output_type": "stream",
          "text": [
            "Hello Google Drive!"
          ],
          "name": "stdout"
        }
      ]
    },
    {
      "cell_type": "markdown",
      "metadata": {
        "id": "-BnkYQueWDSj"
      },
      "source": [
        "# some function"
      ]
    },
    {
      "cell_type": "code",
      "metadata": {
        "id": "XzVD6cnCWDSj"
      },
      "source": [
        "def mape(y_true, y_pred): \n",
        "    y_true, y_pred = np.array(y_true), np.array(y_pred)\n",
        "    return np.mean(np.abs((y_true - y_pred) / y_true)) * 100\n",
        "\n",
        "def get_group_col(df,name):\n",
        "    condition = df.columns.str.contains(name)\n",
        "    return df.columns[condition].tolist()\n",
        "\n",
        "def split_data(df,x_col,y_col):\n",
        "  df = shuffle(df).astype('float32')\n",
        "  X,Y = df[x_col],df[y_col]\n",
        "  sp1 = int(len(df)*0.8)\n",
        "  sp2 = int(len(df)*0.9)\n",
        "  data = {}\n",
        "  data['X_train'],data['Y_train'] = X.iloc[:sp1,:],Y.iloc[:sp1,:]\n",
        "  data['X_vaild'],data['Y_vaild'] = X.iloc[sp1:sp2,:],Y.iloc[sp1:sp2,:]\n",
        "  data['X_test'],data['Y_test'] = X.iloc[sp2:,:],Y.iloc[sp2:,:]\n",
        "  return data\n",
        "\n",
        "def show_metrics(y_pred,y_real):\n",
        "  res = pd.DataFrame(index=y_pred.columns,columns=['R2','MSE','MAPE'])\n",
        "  for i in y_pred.columns:\n",
        "    res.loc[i,'R2'] = r2_score(y_real[i],y_pred[i])\n",
        "    res.loc[i,'MSE'] = mean_squared_error(y_real[i],y_pred[i])\n",
        "    res.loc[i,'MAPE'] = mape(y_real[i],y_pred[i])\n",
        "  res.loc['AVG'] = res.mean(axis=0)\n",
        "  return res\n",
        "\n",
        "def init_weights(m):\n",
        "  if hasattr(m,'weight'):\n",
        "    torch.nn.init.xavier_uniform(m.weight)\n",
        "  if hasattr(m,'bias'):\n",
        "    m.bias.data.fill_(0)\n",
        "\n",
        "def normalize(x):\n",
        "  '''\n",
        "  x : pandas.DataFrame()\n",
        "  return : normalize x\n",
        "  '''\n",
        "  x_idx,x_col = x.index,x.columns\n",
        "  x = x.values\n",
        "  x = x / x.sum(axis=1).reshape(-1,1)\n",
        "  return pd.DataFrame(x,index=x_idx,columns=x_col)"
      ],
      "execution_count": 5,
      "outputs": []
    },
    {
      "cell_type": "markdown",
      "metadata": {
        "id": "LFNtBmqeWDSm"
      },
      "source": [
        "# Part1：預測塔頂塔底組成"
      ]
    },
    {
      "cell_type": "markdown",
      "metadata": {
        "id": "1AtQ4T0aWDSn"
      },
      "source": [
        "# load data"
      ]
    },
    {
      "cell_type": "code",
      "metadata": {
        "id": "6EFZLabUWDSn",
        "colab": {
          "base_uri": "https://localhost:8080/",
          "height": 360
        },
        "outputId": "fddf2e0e-8cc1-45eb-9ab6-be9ca5478dd4"
      },
      "source": [
        "df = pd.read_excel(root+'/2.xlsx') #讀取excel檔\n",
        "df = df.drop(['Unnamed: 1', 'Unnamed: 2'], axis=1)\n",
        "df = df.drop(index=1)\n",
        "col_name = df.iloc[0,:]\n",
        "df.columns = col_name\n",
        "df = df.iloc[1:,:] \n",
        "df.index = df.iloc[:,0].values\n",
        "df = df.drop(df.columns[0],axis=1)\n",
        "print(df.shape)\n",
        "for i in df.columns:\n",
        "    df[i] = pd.to_numeric(df[i],errors='coerce')\n",
        "\n",
        "df['Condenser Duty'] = df['Condenser Duty'].apply(lambda x: x*-1)\n",
        "df.head()"
      ],
      "execution_count": 6,
      "outputs": [
        {
          "output_type": "stream",
          "text": [
            "(1458, 18)\n"
          ],
          "name": "stdout"
        },
        {
          "output_type": "execute_result",
          "data": {
            "text/html": [
              "<div>\n",
              "<style scoped>\n",
              "    .dataframe tbody tr th:only-of-type {\n",
              "        vertical-align: middle;\n",
              "    }\n",
              "\n",
              "    .dataframe tbody tr th {\n",
              "        vertical-align: top;\n",
              "    }\n",
              "\n",
              "    .dataframe thead th {\n",
              "        text-align: right;\n",
              "    }\n",
              "</style>\n",
              "<table border=\"1\" class=\"dataframe\">\n",
              "  <thead>\n",
              "    <tr style=\"text-align: right;\">\n",
              "      <th></th>\n",
              "      <th>F.TEMP.MIXED</th>\n",
              "      <th>Feed Flow</th>\n",
              "      <th>F.FLOW.BENZENE</th>\n",
              "      <th>F.FLOW.TOLUENE</th>\n",
              "      <th>Total stage</th>\n",
              "      <th>Reflux ratio</th>\n",
              "      <th>D/F</th>\n",
              "      <th>Feed stage</th>\n",
              "      <th>Stage-2 Efficiencies</th>\n",
              "      <th>Stage-45 Efficiencies</th>\n",
              "      <th>Condenser Temperature</th>\n",
              "      <th>Condenser Duty</th>\n",
              "      <th>D stream BENZENE</th>\n",
              "      <th>D stream TOLUENE</th>\n",
              "      <th>Reboiler Temp</th>\n",
              "      <th>Reboiler Duty</th>\n",
              "      <th>W stream BENZENE</th>\n",
              "      <th>W stream TOLUENE</th>\n",
              "    </tr>\n",
              "  </thead>\n",
              "  <tbody>\n",
              "    <tr>\n",
              "      <th>Case 1</th>\n",
              "      <td>103</td>\n",
              "      <td>50</td>\n",
              "      <td>40</td>\n",
              "      <td>60</td>\n",
              "      <td>46</td>\n",
              "      <td>2.5</td>\n",
              "      <td>0.33</td>\n",
              "      <td>14</td>\n",
              "      <td>0.7</td>\n",
              "      <td>0.7</td>\n",
              "      <td>82.961772</td>\n",
              "      <td>5712.749075</td>\n",
              "      <td>0.991645</td>\n",
              "      <td>0.008355</td>\n",
              "      <td>112.480976</td>\n",
              "      <td>5503.283448</td>\n",
              "      <td>0.146149</td>\n",
              "      <td>0.853851</td>\n",
              "    </tr>\n",
              "    <tr>\n",
              "      <th>Case 2</th>\n",
              "      <td>103</td>\n",
              "      <td>50</td>\n",
              "      <td>50</td>\n",
              "      <td>50</td>\n",
              "      <td>46</td>\n",
              "      <td>2.5</td>\n",
              "      <td>0.33</td>\n",
              "      <td>14</td>\n",
              "      <td>0.7</td>\n",
              "      <td>0.7</td>\n",
              "      <td>82.990896</td>\n",
              "      <td>5809.514269</td>\n",
              "      <td>0.989946</td>\n",
              "      <td>0.010054</td>\n",
              "      <td>106.774195</td>\n",
              "      <td>3042.561970</td>\n",
              "      <td>0.284634</td>\n",
              "      <td>0.715366</td>\n",
              "    </tr>\n",
              "    <tr>\n",
              "      <th>Case 3</th>\n",
              "      <td>103</td>\n",
              "      <td>50</td>\n",
              "      <td>60</td>\n",
              "      <td>40</td>\n",
              "      <td>46</td>\n",
              "      <td>2.5</td>\n",
              "      <td>0.33</td>\n",
              "      <td>14</td>\n",
              "      <td>0.7</td>\n",
              "      <td>0.7</td>\n",
              "      <td>83.029809</td>\n",
              "      <td>5906.674859</td>\n",
              "      <td>0.987682</td>\n",
              "      <td>0.012318</td>\n",
              "      <td>101.915000</td>\n",
              "      <td>593.089652</td>\n",
              "      <td>0.425427</td>\n",
              "      <td>0.574573</td>\n",
              "    </tr>\n",
              "    <tr>\n",
              "      <th>Case 4</th>\n",
              "      <td>103</td>\n",
              "      <td>50</td>\n",
              "      <td>40</td>\n",
              "      <td>60</td>\n",
              "      <td>46</td>\n",
              "      <td>2.5</td>\n",
              "      <td>0.33</td>\n",
              "      <td>19</td>\n",
              "      <td>0.7</td>\n",
              "      <td>0.7</td>\n",
              "      <td>82.845927</td>\n",
              "      <td>5708.665107</td>\n",
              "      <td>0.998416</td>\n",
              "      <td>0.001584</td>\n",
              "      <td>112.594861</td>\n",
              "      <td>5500.205696</td>\n",
              "      <td>0.143621</td>\n",
              "      <td>0.856379</td>\n",
              "    </tr>\n",
              "    <tr>\n",
              "      <th>Case 5</th>\n",
              "      <td>103</td>\n",
              "      <td>50</td>\n",
              "      <td>50</td>\n",
              "      <td>50</td>\n",
              "      <td>46</td>\n",
              "      <td>2.5</td>\n",
              "      <td>0.33</td>\n",
              "      <td>19</td>\n",
              "      <td>0.7</td>\n",
              "      <td>0.7</td>\n",
              "      <td>82.851761</td>\n",
              "      <td>5804.515753</td>\n",
              "      <td>0.998074</td>\n",
              "      <td>0.001926</td>\n",
              "      <td>106.894313</td>\n",
              "      <td>3038.549282</td>\n",
              "      <td>0.281451</td>\n",
              "      <td>0.718549</td>\n",
              "    </tr>\n",
              "  </tbody>\n",
              "</table>\n",
              "</div>"
            ],
            "text/plain": [
              "0       F.TEMP.MIXED  Feed Flow  ...  W stream BENZENE  W stream TOLUENE\n",
              "Case 1           103         50  ...          0.146149          0.853851\n",
              "Case 2           103         50  ...          0.284634          0.715366\n",
              "Case 3           103         50  ...          0.425427          0.574573\n",
              "Case 4           103         50  ...          0.143621          0.856379\n",
              "Case 5           103         50  ...          0.281451          0.718549\n",
              "\n",
              "[5 rows x 18 columns]"
            ]
          },
          "metadata": {
            "tags": []
          },
          "execution_count": 6
        }
      ]
    },
    {
      "cell_type": "code",
      "metadata": {
        "id": "ZvKtkQ773Vu3"
      },
      "source": [
        "class part(object):\n",
        "  def __init__(\n",
        "      self,\n",
        "      df,\n",
        "      x_col,\n",
        "      y_col,\n",
        "      hidden_size=256,\n",
        "      lr=0.01,\n",
        "      max_epochs=500,\n",
        "      robust_loss=False,\n",
        "      log_interval=50,\n",
        "      normalize_idx_list=None,\n",
        "      ):\n",
        "    \n",
        "    '''\n",
        "    config\n",
        "    '''\n",
        "    self.normalize_idx_list = normalize_idx_list\n",
        "    self.log_interval = log_interval\n",
        "    self.robust_loss = robust_loss\n",
        "    self.x_col = x_col\n",
        "    self.y_col = y_col\n",
        "    self.hidden_size = hidden_size\n",
        "    self.lr = lr\n",
        "    self.max_epochs = max_epochs\n",
        "    self.ss_x = MinMaxScaler().fit(df[x_col])\n",
        "    self.ss_y = MinMaxScaler().fit(df[y_col])\n",
        "    \n",
        "    # net\n",
        "    self.net = nn.Sequential(\n",
        "        nn.Linear(len(self.x_col),self.hidden_size),nn.ReLU(),\n",
        "        nn.Linear(self.hidden_size,self.hidden_size),nn.ReLU(),\n",
        "        nn.Linear(self.hidden_size,len(self.y_col)),nn.Sigmoid(),\n",
        "                  ).apply(init_weights)\n",
        "    \n",
        "    # loss_function\n",
        "    if self.robust_loss == True:\n",
        "      adaptive = robust_loss_pytorch.adaptive.AdaptiveLossFunction(\n",
        "          num_dims = len(self.y_col),\n",
        "          float_dtype = np.float32,\n",
        "          device = 'cpu')\n",
        "      params = list(self.net.parameters())+list(adaptive.parameters())\n",
        "      self.loss_fn = lambda y_i,y:torch.mean(adaptive.lossfun((y_i - y)))\n",
        "    else:\n",
        "      params = list(self.net.parameters())\n",
        "      self.loss_fn = lambda y_i,y:torch.mean((y_i-y)**2)\n",
        "    \n",
        "    # optimizer\n",
        "    self.optimizer = torch.optim.Adam(params,lr=self.lr)\n",
        "    \n",
        "    # dataset\n",
        "    self.data = split_data(df,self.x_col,self.y_col)\n",
        "    \n",
        "    # data_iter\n",
        "    self.train_data = TensorDataset(\n",
        "        torch.FloatTensor(self.ss_x.transform(self.data['X_train'])),\n",
        "        torch.FloatTensor(self.ss_y.transform(self.data['Y_train'])),\n",
        "        )\n",
        "    self.train_iter = DataLoader(self.train_data,batch_size=64)\n",
        "    \n",
        "    self.vaild_data = TensorDataset(\n",
        "        torch.FloatTensor(self.ss_x.transform(self.data['X_vaild'])),\n",
        "        torch.FloatTensor(self.ss_y.transform(self.data['Y_vaild'])),\n",
        "        )\n",
        "    self.vaild_iter = DataLoader(self.vaild_data,batch_size=64)\n",
        "\n",
        "  def train_step(self):\n",
        "    self.net.train()\n",
        "    total_loss = 0\n",
        "    for t,(x,y) in enumerate(self.train_iter):\n",
        "      y_hat = self.net(x)\n",
        "      loss = self.loss_fn(y_hat,y)\n",
        "      loss.backward()\n",
        "      self.optimizer.step()\n",
        "      self.optimizer.zero_grad()\n",
        "      total_loss += loss.item()\n",
        "    return total_loss/t\n",
        "  \n",
        "  def valid_step(self):\n",
        "    self.net.eval()\n",
        "    total_loss = 0\n",
        "    for t,(x,y) in enumerate(self.vaild_iter):\n",
        "      y_hat = self.net(x)\n",
        "      loss = self.loss_fn(y_hat,y)\n",
        "      total_loss += loss.item()\n",
        "    return total_loss/t\n",
        "\n",
        "  \n",
        "  def train(self):\n",
        "    '''\n",
        "    train and eval model many epochs\n",
        "    return best model and plot train_history\n",
        "    '''   \n",
        "    history = {\n",
        "        'train_loss':[],\n",
        "        'valid_loss':[]\n",
        "        }\n",
        "    current_loss = np.inf\n",
        "    best_model = None\n",
        "    \n",
        "    for i in range(self.max_epochs):\n",
        "      history['train_loss'].append(self.train_step())\n",
        "      history['valid_loss'].append(self.valid_step())\n",
        "      \n",
        "      # pring info\n",
        "      if i%self.log_interval == 0:\n",
        "       print(\"epoch:{} train_loss:{:.4f} valid_loss:{:.4f}\".format(\n",
        "           i,\n",
        "           history['train_loss'][-1],\n",
        "           history['valid_loss'][-1]))\n",
        "      \n",
        "      # keep the best model\n",
        "      if history['valid_loss'][-1] <= current_loss:\n",
        "        best_model = deepcopy(self.net.eval())\n",
        "        current_loss = history['valid_loss'][-1]\n",
        "        #print('save best model')\n",
        "    \n",
        "    # plot history and return best_model\n",
        "    self.net = deepcopy(best_model.eval())\n",
        "    plt.plot(history['train_loss'],label='train_loss')\n",
        "    plt.plot(history['valid_loss'],label='valid_loss')\n",
        "    plt.legend()\n",
        "    plt.show()\n",
        "    return best_model\n",
        "\n",
        "  def test(self):\n",
        "    '''\n",
        "    show model metrics\n",
        "    '''\n",
        "    predict = self.get_predict(self.data['X_test'])\n",
        "    res = show_metrics(predict,self.data['Y_test'])\n",
        "    return res\n",
        "\n",
        "  def get_predict(self,x):\n",
        "    '''\n",
        "    input :pandas.DataFrame()\n",
        "    return :pandas.DataFrame()\n",
        "    '''\n",
        "    data_index = x.index\n",
        "    predict = self.net(torch.FloatTensor(self.ss_x.transform(x)))\n",
        "    predict = self.ss_y.inverse_transform(predict.detach().numpy())\n",
        "    predict = pd.DataFrame(predict,index=data_index,columns=self.y_col)\n",
        "    \n",
        "    # normalize\n",
        "    if self.normalize_idx_list != None:\n",
        "      for idx in self.normalize_idx_list:\n",
        "        predict.iloc[:,idx] = normalize(predict.iloc[:,idx])\n",
        "    \n",
        "    return predict"
      ],
      "execution_count": 7,
      "outputs": []
    },
    {
      "cell_type": "markdown",
      "metadata": {
        "id": "tBMLJH3e8YNC"
      },
      "source": [
        "# PART1"
      ]
    },
    {
      "cell_type": "code",
      "metadata": {
        "id": "P0YHYde8w9RV",
        "colab": {
          "base_uri": "https://localhost:8080/",
          "height": 571
        },
        "outputId": "048486b6-65bb-4951-b7bd-363c5b85ad20"
      },
      "source": [
        "part1 = part(df,df.columns[:10],df.columns[[12,13,16,17]])\n",
        "part1.normalize_idx_list = [[0,1],[2,3]]\n",
        "part1.train()"
      ],
      "execution_count": 8,
      "outputs": [
        {
          "output_type": "stream",
          "text": [
            "epoch:0 train_loss:0.0519 valid_loss:0.0355\n",
            "epoch:50 train_loss:0.0001 valid_loss:0.0003\n",
            "epoch:100 train_loss:0.0001 valid_loss:0.0004\n",
            "epoch:150 train_loss:0.0000 valid_loss:0.0000\n",
            "epoch:200 train_loss:0.0000 valid_loss:0.0000\n",
            "epoch:250 train_loss:0.0000 valid_loss:0.0001\n",
            "epoch:300 train_loss:0.0000 valid_loss:0.0000\n",
            "epoch:350 train_loss:0.0001 valid_loss:0.0003\n",
            "epoch:400 train_loss:0.0000 valid_loss:0.0000\n",
            "epoch:450 train_loss:0.0000 valid_loss:0.0000\n"
          ],
          "name": "stdout"
        },
        {
          "output_type": "display_data",
          "data": {
            "image/png": "[encoded data removed]",
            "text/plain": [
              "<Figure size 432x288 with 1 Axes>"
            ]
          },
          "metadata": {
            "tags": [],
            "needs_background": "light"
          }
        },
        {
          "output_type": "execute_result",
          "data": {
            "text/plain": [
              "Sequential(\n",
              "  (0): Linear(in_features=10, out_features=256, bias=True)\n",
              "  (1): ReLU()\n",
              "  (2): Linear(in_features=256, out_features=256, bias=True)\n",
              "  (3): ReLU()\n",
              "  (4): Linear(in_features=256, out_features=4, bias=True)\n",
              "  (5): Sigmoid()\n",
              ")"
            ]
          },
          "metadata": {
            "tags": []
          },
          "execution_count": 8
        }
      ]
    },
    {
      "cell_type": "code",
      "metadata": {
        "colab": {
          "base_uri": "https://localhost:8080/",
          "height": 235
        },
        "id": "4ud5NnbW-pOM",
        "outputId": "2d88b387-5824-4aef-84d1-e800fe1d4a52"
      },
      "source": [
        "part1.test()"
      ],
      "execution_count": 9,
      "outputs": [
        {
          "output_type": "execute_result",
          "data": {
            "text/html": [
              "<div>\n",
              "<style scoped>\n",
              "    .dataframe tbody tr th:only-of-type {\n",
              "        vertical-align: middle;\n",
              "    }\n",
              "\n",
              "    .dataframe tbody tr th {\n",
              "        vertical-align: top;\n",
              "    }\n",
              "\n",
              "    .dataframe thead th {\n",
              "        text-align: right;\n",
              "    }\n",
              "</style>\n",
              "<table border=\"1\" class=\"dataframe\">\n",
              "  <thead>\n",
              "    <tr style=\"text-align: right;\">\n",
              "      <th></th>\n",
              "      <th>R2</th>\n",
              "      <th>MSE</th>\n",
              "      <th>MAPE</th>\n",
              "    </tr>\n",
              "    <tr>\n",
              "      <th>0</th>\n",
              "      <th></th>\n",
              "      <th></th>\n",
              "      <th></th>\n",
              "    </tr>\n",
              "  </thead>\n",
              "  <tbody>\n",
              "    <tr>\n",
              "      <th>D stream BENZENE</th>\n",
              "      <td>0.999962</td>\n",
              "      <td>2.20229e-07</td>\n",
              "      <td>0.0353019</td>\n",
              "    </tr>\n",
              "    <tr>\n",
              "      <th>D stream TOLUENE</th>\n",
              "      <td>0.999962</td>\n",
              "      <td>2.20232e-07</td>\n",
              "      <td>97.0055</td>\n",
              "    </tr>\n",
              "    <tr>\n",
              "      <th>W stream BENZENE</th>\n",
              "      <td>0.999973</td>\n",
              "      <td>5.88262e-07</td>\n",
              "      <td>7934.91</td>\n",
              "    </tr>\n",
              "    <tr>\n",
              "      <th>W stream TOLUENE</th>\n",
              "      <td>0.999973</td>\n",
              "      <td>5.88257e-07</td>\n",
              "      <td>0.0689911</td>\n",
              "    </tr>\n",
              "    <tr>\n",
              "      <th>AVG</th>\n",
              "      <td>0.999968</td>\n",
              "      <td>4.04245e-07</td>\n",
              "      <td>2008</td>\n",
              "    </tr>\n",
              "  </tbody>\n",
              "</table>\n",
              "</div>"
            ],
            "text/plain": [
              "                        R2          MSE       MAPE\n",
              "0                                                 \n",
              "D stream BENZENE  0.999962  2.20229e-07  0.0353019\n",
              "D stream TOLUENE  0.999962  2.20232e-07    97.0055\n",
              "W stream BENZENE  0.999973  5.88262e-07    7934.91\n",
              "W stream TOLUENE  0.999973  5.88257e-07  0.0689911\n",
              "AVG               0.999968  4.04245e-07       2008"
            ]
          },
          "metadata": {
            "tags": []
          },
          "execution_count": 9
        }
      ]
    },
    {
      "cell_type": "code",
      "metadata": {
        "id": "_wuddgOqu2Tp",
        "colab": {
          "base_uri": "https://localhost:8080/",
          "height": 204
        },
        "outputId": "ab575a5b-91bf-4882-da46-95d2afea9b4d"
      },
      "source": [
        "part1.get_predict(part1.data['X_test']).head()"
      ],
      "execution_count": 10,
      "outputs": [
        {
          "output_type": "execute_result",
          "data": {
            "text/html": [
              "<div>\n",
              "<style scoped>\n",
              "    .dataframe tbody tr th:only-of-type {\n",
              "        vertical-align: middle;\n",
              "    }\n",
              "\n",
              "    .dataframe tbody tr th {\n",
              "        vertical-align: top;\n",
              "    }\n",
              "\n",
              "    .dataframe thead th {\n",
              "        text-align: right;\n",
              "    }\n",
              "</style>\n",
              "<table border=\"1\" class=\"dataframe\">\n",
              "  <thead>\n",
              "    <tr style=\"text-align: right;\">\n",
              "      <th></th>\n",
              "      <th>D stream BENZENE</th>\n",
              "      <th>D stream TOLUENE</th>\n",
              "      <th>W stream BENZENE</th>\n",
              "      <th>W stream TOLUENE</th>\n",
              "    </tr>\n",
              "  </thead>\n",
              "  <tbody>\n",
              "    <tr>\n",
              "      <th>Case 1163</th>\n",
              "      <td>0.981554</td>\n",
              "      <td>0.018446</td>\n",
              "      <td>1.924453e-04</td>\n",
              "      <td>0.999808</td>\n",
              "    </tr>\n",
              "    <tr>\n",
              "      <th>Case 874</th>\n",
              "      <td>0.994622</td>\n",
              "      <td>0.005378</td>\n",
              "      <td>3.345501e-03</td>\n",
              "      <td>0.996655</td>\n",
              "    </tr>\n",
              "    <tr>\n",
              "      <th>Case 235</th>\n",
              "      <td>0.996693</td>\n",
              "      <td>0.003307</td>\n",
              "      <td>1.450594e-01</td>\n",
              "      <td>0.854941</td>\n",
              "    </tr>\n",
              "    <tr>\n",
              "      <th>Case 404</th>\n",
              "      <td>0.999809</td>\n",
              "      <td>0.000191</td>\n",
              "      <td>2.819387e-01</td>\n",
              "      <td>0.718061</td>\n",
              "    </tr>\n",
              "    <tr>\n",
              "      <th>Case 1456</th>\n",
              "      <td>0.772976</td>\n",
              "      <td>0.227024</td>\n",
              "      <td>6.358754e-09</td>\n",
              "      <td>1.000000</td>\n",
              "    </tr>\n",
              "  </tbody>\n",
              "</table>\n",
              "</div>"
            ],
            "text/plain": [
              "0          D stream BENZENE  ...  W stream TOLUENE\n",
              "Case 1163          0.981554  ...          0.999808\n",
              "Case 874           0.994622  ...          0.996655\n",
              "Case 235           0.996693  ...          0.854941\n",
              "Case 404           0.999809  ...          0.718061\n",
              "Case 1456          0.772976  ...          1.000000\n",
              "\n",
              "[5 rows x 4 columns]"
            ]
          },
          "metadata": {
            "tags": []
          },
          "execution_count": 10
        }
      ]
    },
    {
      "cell_type": "code",
      "metadata": {
        "id": "s8GLEKIgvO-6",
        "colab": {
          "base_uri": "https://localhost:8080/",
          "height": 204
        },
        "outputId": "67128ff6-2dc4-4b75-c5c1-66f80a1a38e8"
      },
      "source": [
        "part1.data['Y_test'].head()"
      ],
      "execution_count": 11,
      "outputs": [
        {
          "output_type": "execute_result",
          "data": {
            "text/html": [
              "<div>\n",
              "<style scoped>\n",
              "    .dataframe tbody tr th:only-of-type {\n",
              "        vertical-align: middle;\n",
              "    }\n",
              "\n",
              "    .dataframe tbody tr th {\n",
              "        vertical-align: top;\n",
              "    }\n",
              "\n",
              "    .dataframe thead th {\n",
              "        text-align: right;\n",
              "    }\n",
              "</style>\n",
              "<table border=\"1\" class=\"dataframe\">\n",
              "  <thead>\n",
              "    <tr style=\"text-align: right;\">\n",
              "      <th></th>\n",
              "      <th>D stream BENZENE</th>\n",
              "      <th>D stream TOLUENE</th>\n",
              "      <th>W stream BENZENE</th>\n",
              "      <th>W stream TOLUENE</th>\n",
              "    </tr>\n",
              "  </thead>\n",
              "  <tbody>\n",
              "    <tr>\n",
              "      <th>Case 1163</th>\n",
              "      <td>0.981167</td>\n",
              "      <td>0.018833</td>\n",
              "      <td>9.870162e-07</td>\n",
              "      <td>0.999999</td>\n",
              "    </tr>\n",
              "    <tr>\n",
              "      <th>Case 874</th>\n",
              "      <td>0.995045</td>\n",
              "      <td>0.004955</td>\n",
              "      <td>3.117851e-03</td>\n",
              "      <td>0.996882</td>\n",
              "    </tr>\n",
              "    <tr>\n",
              "      <th>Case 235</th>\n",
              "      <td>0.996804</td>\n",
              "      <td>0.003196</td>\n",
              "      <td>1.442225e-01</td>\n",
              "      <td>0.855778</td>\n",
              "    </tr>\n",
              "    <tr>\n",
              "      <th>Case 404</th>\n",
              "      <td>0.999905</td>\n",
              "      <td>0.000095</td>\n",
              "      <td>2.807354e-01</td>\n",
              "      <td>0.719265</td>\n",
              "    </tr>\n",
              "    <tr>\n",
              "      <th>Case 1456</th>\n",
              "      <td>0.772681</td>\n",
              "      <td>0.227319</td>\n",
              "      <td>9.624943e-07</td>\n",
              "      <td>0.999999</td>\n",
              "    </tr>\n",
              "  </tbody>\n",
              "</table>\n",
              "</div>"
            ],
            "text/plain": [
              "0          D stream BENZENE  ...  W stream TOLUENE\n",
              "Case 1163          0.981167  ...          0.999999\n",
              "Case 874           0.995045  ...          0.996882\n",
              "Case 235           0.996804  ...          0.855778\n",
              "Case 404           0.999905  ...          0.719265\n",
              "Case 1456          0.772681  ...          0.999999\n",
              "\n",
              "[5 rows x 4 columns]"
            ]
          },
          "metadata": {
            "tags": []
          },
          "execution_count": 11
        }
      ]
    },
    {
      "cell_type": "markdown",
      "metadata": {
        "id": "4aadwibjClcc"
      },
      "source": [
        "# PART2"
      ]
    },
    {
      "cell_type": "code",
      "metadata": {
        "colab": {
          "base_uri": "https://localhost:8080/",
          "height": 571
        },
        "id": "udm6e1rUC4LO",
        "outputId": "081a2e4e-dbff-4eeb-b316-9ed386b0b27c"
      },
      "source": [
        "part2 = part(df,df.columns[:10],df.columns[[11,15]])\n",
        "part2.train()"
      ],
      "execution_count": 12,
      "outputs": [
        {
          "output_type": "stream",
          "text": [
            "epoch:0 train_loss:0.0259 valid_loss:0.0064\n",
            "epoch:50 train_loss:0.0001 valid_loss:0.0001\n",
            "epoch:100 train_loss:0.0001 valid_loss:0.0002\n",
            "epoch:150 train_loss:0.0000 valid_loss:0.0000\n",
            "epoch:200 train_loss:0.0000 valid_loss:0.0000\n",
            "epoch:250 train_loss:0.0000 valid_loss:0.0000\n",
            "epoch:300 train_loss:0.0000 valid_loss:0.0000\n",
            "epoch:350 train_loss:0.0000 valid_loss:0.0000\n",
            "epoch:400 train_loss:0.0000 valid_loss:0.0000\n",
            "epoch:450 train_loss:0.0000 valid_loss:0.0000\n"
          ],
          "name": "stdout"
        },
        {
          "output_type": "display_data",
          "data": {
            "image/png": "[encoded data removed]",
            "text/plain": [
              "<Figure size 432x288 with 1 Axes>"
            ]
          },
          "metadata": {
            "tags": [],
            "needs_background": "light"
          }
        },
        {
          "output_type": "execute_result",
          "data": {
            "text/plain": [
              "Sequential(\n",
              "  (0): Linear(in_features=10, out_features=256, bias=True)\n",
              "  (1): ReLU()\n",
              "  (2): Linear(in_features=256, out_features=256, bias=True)\n",
              "  (3): ReLU()\n",
              "  (4): Linear(in_features=256, out_features=2, bias=True)\n",
              "  (5): Sigmoid()\n",
              ")"
            ]
          },
          "metadata": {
            "tags": []
          },
          "execution_count": 12
        }
      ]
    },
    {
      "cell_type": "code",
      "metadata": {
        "colab": {
          "base_uri": "https://localhost:8080/",
          "height": 173
        },
        "id": "hI_LVnSuDV9Q",
        "outputId": "6b1d6f4c-737f-4b54-d712-4e63ca265a45"
      },
      "source": [
        "part2.test()"
      ],
      "execution_count": 13,
      "outputs": [
        {
          "output_type": "execute_result",
          "data": {
            "text/html": [
              "<div>\n",
              "<style scoped>\n",
              "    .dataframe tbody tr th:only-of-type {\n",
              "        vertical-align: middle;\n",
              "    }\n",
              "\n",
              "    .dataframe tbody tr th {\n",
              "        vertical-align: top;\n",
              "    }\n",
              "\n",
              "    .dataframe thead th {\n",
              "        text-align: right;\n",
              "    }\n",
              "</style>\n",
              "<table border=\"1\" class=\"dataframe\">\n",
              "  <thead>\n",
              "    <tr style=\"text-align: right;\">\n",
              "      <th></th>\n",
              "      <th>R2</th>\n",
              "      <th>MSE</th>\n",
              "      <th>MAPE</th>\n",
              "    </tr>\n",
              "    <tr>\n",
              "      <th>0</th>\n",
              "      <th></th>\n",
              "      <th></th>\n",
              "      <th></th>\n",
              "    </tr>\n",
              "  </thead>\n",
              "  <tbody>\n",
              "    <tr>\n",
              "      <th>Condenser Duty</th>\n",
              "      <td>0.999971</td>\n",
              "      <td>5784.36</td>\n",
              "      <td>0.296836</td>\n",
              "    </tr>\n",
              "    <tr>\n",
              "      <th>Reboiler Duty</th>\n",
              "      <td>0.99995</td>\n",
              "      <td>5633.25</td>\n",
              "      <td>0.986745</td>\n",
              "    </tr>\n",
              "    <tr>\n",
              "      <th>AVG</th>\n",
              "      <td>0.999961</td>\n",
              "      <td>5708.81</td>\n",
              "      <td>0.641791</td>\n",
              "    </tr>\n",
              "  </tbody>\n",
              "</table>\n",
              "</div>"
            ],
            "text/plain": [
              "                      R2      MSE      MAPE\n",
              "0                                          \n",
              "Condenser Duty  0.999971  5784.36  0.296836\n",
              "Reboiler Duty    0.99995  5633.25  0.986745\n",
              "AVG             0.999961  5708.81  0.641791"
            ]
          },
          "metadata": {
            "tags": []
          },
          "execution_count": 13
        }
      ]
    },
    {
      "cell_type": "code",
      "metadata": {
        "id": "1y3Bxonvvguo",
        "colab": {
          "base_uri": "https://localhost:8080/",
          "height": 204
        },
        "outputId": "66bc585a-d3c9-43ce-d72f-f1594c56b827"
      },
      "source": [
        "part2.get_predict(part2.data['X_test']).head()"
      ],
      "execution_count": 14,
      "outputs": [
        {
          "output_type": "execute_result",
          "data": {
            "text/html": [
              "<div>\n",
              "<style scoped>\n",
              "    .dataframe tbody tr th:only-of-type {\n",
              "        vertical-align: middle;\n",
              "    }\n",
              "\n",
              "    .dataframe tbody tr th {\n",
              "        vertical-align: top;\n",
              "    }\n",
              "\n",
              "    .dataframe thead th {\n",
              "        text-align: right;\n",
              "    }\n",
              "</style>\n",
              "<table border=\"1\" class=\"dataframe\">\n",
              "  <thead>\n",
              "    <tr style=\"text-align: right;\">\n",
              "      <th></th>\n",
              "      <th>Condenser Duty</th>\n",
              "      <th>Reboiler Duty</th>\n",
              "    </tr>\n",
              "  </thead>\n",
              "  <tbody>\n",
              "    <tr>\n",
              "      <th>Case 110</th>\n",
              "      <td>5832.266113</td>\n",
              "      <td>593.916199</td>\n",
              "    </tr>\n",
              "    <tr>\n",
              "      <th>Case 1301</th>\n",
              "      <td>38743.464844</td>\n",
              "      <td>27813.050781</td>\n",
              "    </tr>\n",
              "    <tr>\n",
              "      <th>Case 435</th>\n",
              "      <td>23719.250000</td>\n",
              "      <td>1748.852173</td>\n",
              "    </tr>\n",
              "    <tr>\n",
              "      <th>Case 776</th>\n",
              "      <td>24235.724609</td>\n",
              "      <td>13517.381836</td>\n",
              "    </tr>\n",
              "    <tr>\n",
              "      <th>Case 832</th>\n",
              "      <td>47686.335938</td>\n",
              "      <td>47114.734375</td>\n",
              "    </tr>\n",
              "  </tbody>\n",
              "</table>\n",
              "</div>"
            ],
            "text/plain": [
              "0          Condenser Duty  Reboiler Duty\n",
              "Case 110      5832.266113     593.916199\n",
              "Case 1301    38743.464844   27813.050781\n",
              "Case 435     23719.250000    1748.852173\n",
              "Case 776     24235.724609   13517.381836\n",
              "Case 832     47686.335938   47114.734375"
            ]
          },
          "metadata": {
            "tags": []
          },
          "execution_count": 14
        }
      ]
    },
    {
      "cell_type": "code",
      "metadata": {
        "id": "B_kM1IQgvlHM",
        "colab": {
          "base_uri": "https://localhost:8080/",
          "height": 204
        },
        "outputId": "1fd5f299-4fdb-4bb8-b4b7-0964103bd5c6"
      },
      "source": [
        "part2.data['Y_test'].head()"
      ],
      "execution_count": 15,
      "outputs": [
        {
          "output_type": "execute_result",
          "data": {
            "text/html": [
              "<div>\n",
              "<style scoped>\n",
              "    .dataframe tbody tr th:only-of-type {\n",
              "        vertical-align: middle;\n",
              "    }\n",
              "\n",
              "    .dataframe tbody tr th {\n",
              "        vertical-align: top;\n",
              "    }\n",
              "\n",
              "    .dataframe thead th {\n",
              "        text-align: right;\n",
              "    }\n",
              "</style>\n",
              "<table border=\"1\" class=\"dataframe\">\n",
              "  <thead>\n",
              "    <tr style=\"text-align: right;\">\n",
              "      <th></th>\n",
              "      <th>Condenser Duty</th>\n",
              "      <th>Reboiler Duty</th>\n",
              "    </tr>\n",
              "  </thead>\n",
              "  <tbody>\n",
              "    <tr>\n",
              "      <th>Case 110</th>\n",
              "      <td>5826.140625</td>\n",
              "      <td>490.310883</td>\n",
              "    </tr>\n",
              "    <tr>\n",
              "      <th>Case 1301</th>\n",
              "      <td>38766.339844</td>\n",
              "      <td>27751.275391</td>\n",
              "    </tr>\n",
              "    <tr>\n",
              "      <th>Case 435</th>\n",
              "      <td>23628.101562</td>\n",
              "      <td>1847.519775</td>\n",
              "    </tr>\n",
              "    <tr>\n",
              "      <th>Case 776</th>\n",
              "      <td>24326.687500</td>\n",
              "      <td>13670.611328</td>\n",
              "    </tr>\n",
              "    <tr>\n",
              "      <th>Case 832</th>\n",
              "      <td>47836.875000</td>\n",
              "      <td>47057.242188</td>\n",
              "    </tr>\n",
              "  </tbody>\n",
              "</table>\n",
              "</div>"
            ],
            "text/plain": [
              "0          Condenser Duty  Reboiler Duty\n",
              "Case 110      5826.140625     490.310883\n",
              "Case 1301    38766.339844   27751.275391\n",
              "Case 435     23628.101562    1847.519775\n",
              "Case 776     24326.687500   13670.611328\n",
              "Case 832     47836.875000   47057.242188"
            ]
          },
          "metadata": {
            "tags": []
          },
          "execution_count": 15
        }
      ]
    },
    {
      "cell_type": "markdown",
      "metadata": {
        "id": "v4lmrQEKWDUw"
      },
      "source": [
        "# Part 3：預測操作條件(temp)"
      ]
    },
    {
      "cell_type": "code",
      "metadata": {
        "colab": {
          "base_uri": "https://localhost:8080/",
          "height": 571
        },
        "id": "yhGTtrR7TfML",
        "outputId": "30cfd698-87b8-4fbf-cdd0-f606a5c6cd4f"
      },
      "source": [
        "part3 = part(df,df.columns[:10],df.columns[[10,14]])\n",
        "part3.train()"
      ],
      "execution_count": 16,
      "outputs": [
        {
          "output_type": "stream",
          "text": [
            "epoch:0 train_loss:0.0521 valid_loss:0.0337\n",
            "epoch:50 train_loss:0.0001 valid_loss:0.0002\n",
            "epoch:100 train_loss:0.0000 valid_loss:0.0000\n",
            "epoch:150 train_loss:0.0000 valid_loss:0.0000\n",
            "epoch:200 train_loss:0.0000 valid_loss:0.0001\n",
            "epoch:250 train_loss:0.0000 valid_loss:0.0000\n",
            "epoch:300 train_loss:0.0000 valid_loss:0.0000\n",
            "epoch:350 train_loss:0.0000 valid_loss:0.0001\n",
            "epoch:400 train_loss:0.0000 valid_loss:0.0000\n",
            "epoch:450 train_loss:0.0000 valid_loss:0.0000\n"
          ],
          "name": "stdout"
        },
        {
          "output_type": "display_data",
          "data": {
            "image/png": "[encoded data removed]",
            "text/plain": [
              "<Figure size 432x288 with 1 Axes>"
            ]
          },
          "metadata": {
            "tags": [],
            "needs_background": "light"
          }
        },
        {
          "output_type": "execute_result",
          "data": {
            "text/plain": [
              "Sequential(\n",
              "  (0): Linear(in_features=10, out_features=256, bias=True)\n",
              "  (1): ReLU()\n",
              "  (2): Linear(in_features=256, out_features=256, bias=True)\n",
              "  (3): ReLU()\n",
              "  (4): Linear(in_features=256, out_features=2, bias=True)\n",
              "  (5): Sigmoid()\n",
              ")"
            ]
          },
          "metadata": {
            "tags": []
          },
          "execution_count": 16
        }
      ]
    },
    {
      "cell_type": "code",
      "metadata": {
        "colab": {
          "base_uri": "https://localhost:8080/",
          "height": 173
        },
        "id": "eIlqZ-vJTr4D",
        "outputId": "c8df44cf-0465-40f0-c8d8-e78a438b4ccc"
      },
      "source": [
        "part3.test()"
      ],
      "execution_count": 17,
      "outputs": [
        {
          "output_type": "execute_result",
          "data": {
            "text/html": [
              "<div>\n",
              "<style scoped>\n",
              "    .dataframe tbody tr th:only-of-type {\n",
              "        vertical-align: middle;\n",
              "    }\n",
              "\n",
              "    .dataframe tbody tr th {\n",
              "        vertical-align: top;\n",
              "    }\n",
              "\n",
              "    .dataframe thead th {\n",
              "        text-align: right;\n",
              "    }\n",
              "</style>\n",
              "<table border=\"1\" class=\"dataframe\">\n",
              "  <thead>\n",
              "    <tr style=\"text-align: right;\">\n",
              "      <th></th>\n",
              "      <th>R2</th>\n",
              "      <th>MSE</th>\n",
              "      <th>MAPE</th>\n",
              "    </tr>\n",
              "    <tr>\n",
              "      <th>0</th>\n",
              "      <th></th>\n",
              "      <th></th>\n",
              "      <th></th>\n",
              "    </tr>\n",
              "  </thead>\n",
              "  <tbody>\n",
              "    <tr>\n",
              "      <th>Condenser Temperature</th>\n",
              "      <td>0.999914</td>\n",
              "      <td>0.000155345</td>\n",
              "      <td>0.00976271</td>\n",
              "    </tr>\n",
              "    <tr>\n",
              "      <th>Reboiler Temp</th>\n",
              "      <td>0.999969</td>\n",
              "      <td>0.00111817</td>\n",
              "      <td>0.0210559</td>\n",
              "    </tr>\n",
              "    <tr>\n",
              "      <th>AVG</th>\n",
              "      <td>0.999942</td>\n",
              "      <td>0.000636757</td>\n",
              "      <td>0.0154093</td>\n",
              "    </tr>\n",
              "  </tbody>\n",
              "</table>\n",
              "</div>"
            ],
            "text/plain": [
              "                             R2          MSE        MAPE\n",
              "0                                                       \n",
              "Condenser Temperature  0.999914  0.000155345  0.00976271\n",
              "Reboiler Temp          0.999969   0.00111817   0.0210559\n",
              "AVG                    0.999942  0.000636757   0.0154093"
            ]
          },
          "metadata": {
            "tags": []
          },
          "execution_count": 17
        }
      ]
    },
    {
      "cell_type": "code",
      "metadata": {
        "id": "d0KrxJx4MjpL",
        "colab": {
          "base_uri": "https://localhost:8080/",
          "height": 204
        },
        "outputId": "7a71efb2-239e-435d-aa90-7da63a073b27"
      },
      "source": [
        "part3.get_predict(part3.data['X_test']).head()"
      ],
      "execution_count": 18,
      "outputs": [
        {
          "output_type": "execute_result",
          "data": {
            "text/html": [
              "<div>\n",
              "<style scoped>\n",
              "    .dataframe tbody tr th:only-of-type {\n",
              "        vertical-align: middle;\n",
              "    }\n",
              "\n",
              "    .dataframe tbody tr th {\n",
              "        vertical-align: top;\n",
              "    }\n",
              "\n",
              "    .dataframe thead th {\n",
              "        text-align: right;\n",
              "    }\n",
              "</style>\n",
              "<table border=\"1\" class=\"dataframe\">\n",
              "  <thead>\n",
              "    <tr style=\"text-align: right;\">\n",
              "      <th></th>\n",
              "      <th>Condenser Temperature</th>\n",
              "      <th>Reboiler Temp</th>\n",
              "    </tr>\n",
              "  </thead>\n",
              "  <tbody>\n",
              "    <tr>\n",
              "      <th>Case 734</th>\n",
              "      <td>82.887535</td>\n",
              "      <td>111.820686</td>\n",
              "    </tr>\n",
              "    <tr>\n",
              "      <th>Case 468</th>\n",
              "      <td>82.823029</td>\n",
              "      <td>102.055214</td>\n",
              "    </tr>\n",
              "    <tr>\n",
              "      <th>Case 867</th>\n",
              "      <td>83.032066</td>\n",
              "      <td>105.232048</td>\n",
              "    </tr>\n",
              "    <tr>\n",
              "      <th>Case 652</th>\n",
              "      <td>82.871895</td>\n",
              "      <td>119.542084</td>\n",
              "    </tr>\n",
              "    <tr>\n",
              "      <th>Case 1270</th>\n",
              "      <td>87.100945</td>\n",
              "      <td>119.679596</td>\n",
              "    </tr>\n",
              "  </tbody>\n",
              "</table>\n",
              "</div>"
            ],
            "text/plain": [
              "0          Condenser Temperature  Reboiler Temp\n",
              "Case 734               82.887535     111.820686\n",
              "Case 468               82.823029     102.055214\n",
              "Case 867               83.032066     105.232048\n",
              "Case 652               82.871895     119.542084\n",
              "Case 1270              87.100945     119.679596"
            ]
          },
          "metadata": {
            "tags": []
          },
          "execution_count": 18
        }
      ]
    },
    {
      "cell_type": "code",
      "metadata": {
        "id": "au_LPCwXvwEq",
        "colab": {
          "base_uri": "https://localhost:8080/",
          "height": 204
        },
        "outputId": "99dfe8b9-3f78-4c13-a688-28aae55a5194"
      },
      "source": [
        "part3.data['Y_test'].head()"
      ],
      "execution_count": 19,
      "outputs": [
        {
          "output_type": "execute_result",
          "data": {
            "text/html": [
              "<div>\n",
              "<style scoped>\n",
              "    .dataframe tbody tr th:only-of-type {\n",
              "        vertical-align: middle;\n",
              "    }\n",
              "\n",
              "    .dataframe tbody tr th {\n",
              "        vertical-align: top;\n",
              "    }\n",
              "\n",
              "    .dataframe thead th {\n",
              "        text-align: right;\n",
              "    }\n",
              "</style>\n",
              "<table border=\"1\" class=\"dataframe\">\n",
              "  <thead>\n",
              "    <tr style=\"text-align: right;\">\n",
              "      <th></th>\n",
              "      <th>Condenser Temperature</th>\n",
              "      <th>Reboiler Temp</th>\n",
              "    </tr>\n",
              "  </thead>\n",
              "  <tbody>\n",
              "    <tr>\n",
              "      <th>Case 734</th>\n",
              "      <td>82.887619</td>\n",
              "      <td>111.866440</td>\n",
              "    </tr>\n",
              "    <tr>\n",
              "      <th>Case 468</th>\n",
              "      <td>82.822174</td>\n",
              "      <td>102.072800</td>\n",
              "    </tr>\n",
              "    <tr>\n",
              "      <th>Case 867</th>\n",
              "      <td>82.996880</td>\n",
              "      <td>105.295532</td>\n",
              "    </tr>\n",
              "    <tr>\n",
              "      <th>Case 652</th>\n",
              "      <td>82.844185</td>\n",
              "      <td>119.617882</td>\n",
              "    </tr>\n",
              "    <tr>\n",
              "      <th>Case 1270</th>\n",
              "      <td>87.108658</td>\n",
              "      <td>119.679123</td>\n",
              "    </tr>\n",
              "  </tbody>\n",
              "</table>\n",
              "</div>"
            ],
            "text/plain": [
              "0          Condenser Temperature  Reboiler Temp\n",
              "Case 734               82.887619     111.866440\n",
              "Case 468               82.822174     102.072800\n",
              "Case 867               82.996880     105.295532\n",
              "Case 652               82.844185     119.617882\n",
              "Case 1270              87.108658     119.679123"
            ]
          },
          "metadata": {
            "tags": []
          },
          "execution_count": 19
        }
      ]
    }
  ]
}