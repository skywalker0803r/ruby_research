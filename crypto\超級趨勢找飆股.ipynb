{
  "nbformat": 4,
  "nbformat_minor": 0,
  "metadata": {
    "colab": {
      "name": "超級趨勢找飆股",
      "provenance": [],
      "authorship_tag": "ABX9TyPQqASsvDuU1ALzQgR1zr3w",
      "include_colab_link": true
    },
    "kernelspec": {
      "name": "python3",
      "display_name": "Python 3"
    },
    "widgets": {
      "application/vnd.jupyter.widget-state+json": {
        "e12fc2d6e0b14c659b8d9c90f30bb79c": {
          "model_module": "@jupyter-widgets/controls",
          "model_name": "HBoxModel",
          "state": {
            "_view_name": "HBoxView",
            "_dom_classes": [],
            "_model_name": "HBoxModel",
            "_view_module": "@jupyter-widgets/controls",
            "_model_module_version": "1.5.0",
            "_view_count": null,
            "_view_module_version": "1.5.0",
            "box_style": "",
            "layout": "IPY_MODEL_98afb3327d7d433988d51c40afbeb8d4",
            "_model_module": "@jupyter-widgets/controls",
            "children": [
              "IPY_MODEL_8ff30815f2994b13ab54a4d89a280918",
              "IPY_MODEL_93c5647957904def963f86ffe9b0dcaf"
            ]
          }
        },
        "98afb3327d7d433988d51c40afbeb8d4": {
          "model_module": "@jupyter-widgets/base",
          "model_name": "LayoutModel",
          "state": {
            "_view_name": "LayoutView",
            "grid_template_rows": null,
            "right": null,
            "justify_content": null,
            "_view_module": "@jupyter-widgets/base",
            "overflow": null,
            "_model_module_version": "1.2.0",
            "_view_count": null,
            "flex_flow": null,
            "width": null,
            "min_width": null,
            "border": null,
            "align_items": null,
            "bottom": null,
            "_model_module": "@jupyter-widgets/base",
            "top": null,
            "grid_column": null,
            "overflow_y": null,
            "overflow_x": null,
            "grid_auto_flow": null,
            "grid_area": null,
            "grid_template_columns": null,
            "flex": null,
            "_model_name": "LayoutModel",
            "justify_items": null,
            "grid_row": null,
            "max_height": null,
            "align_content": null,
            "visibility": null,
            "align_self": null,
            "height": null,
            "min_height": null,
            "padding": null,
            "grid_auto_rows": null,
            "grid_gap": null,
            "max_width": null,
            "order": null,
            "_view_module_version": "1.2.0",
            "grid_template_areas": null,
            "object_position": null,
            "object_fit": null,
            "grid_auto_columns": null,
            "margin": null,
            "display": null,
            "left": null
          }
        },
        "8ff30815f2994b13ab54a4d89a280918": {
          "model_module": "@jupyter-widgets/controls",
          "model_name": "FloatProgressModel",
          "state": {
            "_view_name": "ProgressView",
            "style": "IPY_MODEL_40d19b91aede46e097a3de2a676aa197",
            "_dom_classes": [],
            "description": "100%",
            "_model_name": "FloatProgressModel",
            "bar_style": "success",
            "max": 259,
            "_view_module": "@jupyter-widgets/controls",
            "_model_module_version": "1.5.0",
            "value": 259,
            "_view_count": null,
            "_view_module_version": "1.5.0",
            "orientation": "horizontal",
            "min": 0,
            "description_tooltip": null,
            "_model_module": "@jupyter-widgets/controls",
            "layout": "IPY_MODEL_a9d59f9c5c5b4c6e8e0b95d920772397"
          }
        },
        "93c5647957904def963f86ffe9b0dcaf": {
          "model_module": "@jupyter-widgets/controls",
          "model_name": "HTMLModel",
          "state": {
            "_view_name": "HTMLView",
            "style": "IPY_MODEL_15fcd1dfb1a44d4ca4401d1120879b96",
            "_dom_classes": [],
            "description": "",
            "_model_name": "HTMLModel",
            "placeholder": "​",
            "_view_module": "@jupyter-widgets/controls",
            "_model_module_version": "1.5.0",
            "value": " 259/259 [02:09&lt;00:00,  2.00it/s]",
            "_view_count": null,
            "_view_module_version": "1.5.0",
            "description_tooltip": null,
            "_model_module": "@jupyter-widgets/controls",
            "layout": "IPY_MODEL_2f39f1043ec84cde96e9cda9a17cd0b3"
          }
        },
        "40d19b91aede46e097a3de2a676aa197": {
          "model_module": "@jupyter-widgets/controls",
          "model_name": "ProgressStyleModel",
          "state": {
            "_view_name": "StyleView",
            "_model_name": "ProgressStyleModel",
            "description_width": "initial",
            "_view_module": "@jupyter-widgets/base",
            "_model_module_version": "1.5.0",
            "_view_count": null,
            "_view_module_version": "1.2.0",
            "bar_color": null,
            "_model_module": "@jupyter-widgets/controls"
          }
        },
        "a9d59f9c5c5b4c6e8e0b95d920772397": {
          "model_module": "@jupyter-widgets/base",
          "model_name": "LayoutModel",
          "state": {
            "_view_name": "LayoutView",
            "grid_template_rows": null,
            "right": null,
            "justify_content": null,
            "_view_module": "@jupyter-widgets/base",
            "overflow": null,
            "_model_module_version": "1.2.0",
            "_view_count": null,
            "flex_flow": null,
            "width": null,
            "min_width": null,
            "border": null,
            "align_items": null,
            "bottom": null,
            "_model_module": "@jupyter-widgets/base",
            "top": null,
            "grid_column": null,
            "overflow_y": null,
            "overflow_x": null,
            "grid_auto_flow": null,
            "grid_area": null,
            "grid_template_columns": null,
            "flex": null,
            "_model_name": "LayoutModel",
            "justify_items": null,
            "grid_row": null,
            "max_height": null,
            "align_content": null,
            "visibility": null,
            "align_self": null,
            "height": null,
            "min_height": null,
            "padding": null,
            "grid_auto_rows": null,
            "grid_gap": null,
            "max_width": null,
            "order": null,
            "_view_module_version": "1.2.0",
            "grid_template_areas": null,
            "object_position": null,
            "object_fit": null,
            "grid_auto_columns": null,
            "margin": null,
            "display": null,
            "left": null
          }
        },
        "15fcd1dfb1a44d4ca4401d1120879b96": {
          "model_module": "@jupyter-widgets/controls",
          "model_name": "DescriptionStyleModel",
          "state": {
            "_view_name": "StyleView",
            "_model_name": "DescriptionStyleModel",
            "description_width": "",
            "_view_module": "@jupyter-widgets/base",
            "_model_module_version": "1.5.0",
            "_view_count": null,
            "_view_module_version": "1.2.0",
            "_model_module": "@jupyter-widgets/controls"
          }
        },
        "2f39f1043ec84cde96e9cda9a17cd0b3": {
          "model_module": "@jupyter-widgets/base",
          "model_name": "LayoutModel",
          "state": {
            "_view_name": "LayoutView",
            "grid_template_rows": null,
            "right": null,
            "justify_content": null,
            "_view_module": "@jupyter-widgets/base",
            "overflow": null,
            "_model_module_version": "1.2.0",
            "_view_count": null,
            "flex_flow": null,
            "width": null,
            "min_width": null,
            "border": null,
            "align_items": null,
            "bottom": null,
            "_model_module": "@jupyter-widgets/base",
            "top": null,
            "grid_column": null,
            "overflow_y": null,
            "overflow_x": null,
            "grid_auto_flow": null,
            "grid_area": null,
            "grid_template_columns": null,
            "flex": null,
            "_model_name": "LayoutModel",
            "justify_items": null,
            "grid_row": null,
            "max_height": null,
            "align_content": null,
            "visibility": null,
            "align_self": null,
            "height": null,
            "min_height": null,
            "padding": null,
            "grid_auto_rows": null,
            "grid_gap": null,
            "max_width": null,
            "order": null,
            "_view_module_version": "1.2.0",
            "grid_template_areas": null,
            "object_position": null,
            "object_fit": null,
            "grid_auto_columns": null,
            "margin": null,
            "display": null,
            "left": null
          }
        }
      }
    }
  },
  "cells": [
    {
      "cell_type": "markdown",
      "metadata": {
        "id": "view-in-github",
        "colab_type": "text"
      },
      "source": [
        "<a href=\"https://colab.research.google.com/github/skywalker0803r/ruby_research/blob/main/crypto%5C%E8%B6%85%E7%B4%9A%E8%B6%A8%E5%8B%A2%E6%89%BE%E9%A3%86%E8%82%A1.ipynb\" target=\"_parent\"><img src=\"https://colab.research.google.com/assets/colab-badge.svg\" alt=\"Open In Colab\"/></a>"
      ]
    },
    {
      "cell_type": "markdown",
      "metadata": {
        "id": "nUdRbHHLFWWJ"
      },
      "source": [
        "# install"
      ]
    },
    {
      "cell_type": "code",
      "metadata": {
        "id": "TqI8Uomw2sVj"
      },
      "source": [
        "!pip install finlab_crypto > log.txt\n",
        "!pip install pandas-ta > log.txt"
      ],
      "execution_count": 12,
      "outputs": []
    },
    {
      "cell_type": "markdown",
      "metadata": {
        "id": "rzbCERDAVUdu"
      },
      "source": [
        "# setting"
      ]
    },
    {
      "cell_type": "code",
      "metadata": {
        "id": "AuPLJvJKi1Mn"
      },
      "source": [
        "from binance.client import Client\n",
        "from tqdm import tqdm_notebook as tqdm\n",
        "import binance\n",
        "import finlab_crypto\n",
        "from pandas_ta.overlap.supertrend import supertrend\n",
        "\n",
        "# 胖的幣安api 只允許讀取功能 不允需交易功能 所以被知道也沒差\n",
        "api_key = 'aJOD1H8jl0396wDSo0k4PnZftjGWHQEDLoCh4T2OhbgljMBoAi8PTMRIPhsxHpDh'\n",
        "api_secret = 'VpdtNdN9j1ZnTu55NzmVGeffam0yZzoGAEs83gLct5y0WnEDH2y7C2Ptkkv0cuj0'\n",
        "freq = '1d' # 頻率可以自己依照喜好設定\n",
        "nbars = 1000 # 取得近1000根k線\n",
        "client = Client(api_key,api_secret)"
      ],
      "execution_count": 13,
      "outputs": []
    },
    {
      "cell_type": "markdown",
      "metadata": {
        "id": "MgV5tOQZVYc2"
      },
      "source": [
        "# functions"
      ]
    },
    {
      "cell_type": "code",
      "metadata": {
        "id": "ZLYVC1aTR7fY"
      },
      "source": [
        "def find_target(pair_lst):\r\n",
        "  long_lst = []\r\n",
        "  short_lst = []\r\n",
        "  for pair in tqdm(pair_lst):\r\n",
        "    # 取得開高低收量數據\r\n",
        "    ohlcv = finlab_crypto.crawler.get_nbars_binance(pair,freq,nbars,client)\r\n",
        "    # 這裡超級趨勢的length=3,multiplier=1 也可以依據喜好設定\r\n",
        "    df = supertrend(ohlcv['high'],ohlcv['low'],ohlcv['close'],length=3,multiplier=1)\r\n",
        "    # 今天的訊號\r\n",
        "    today_signal = df['SUPERTd_3_1.0'].tail(1).values[0]\r\n",
        "    # 昨天的訊號\r\n",
        "    yesterday_signal = df.shift()['SUPERTd_3_1.0'].tail(1).values[0]\r\n",
        "    # 如果昨天空頭 今天多頭 由空翻多 則做多\r\n",
        "    if (yesterday_signal == -1) and (today_signal == 1):\r\n",
        "      print(f'做多 {pair}')\r\n",
        "      long_lst.append(pair)\r\n",
        "    # 如果昨天多頭 今天空頭 由多翻空 則做空\r\n",
        "    elif (yesterday_signal == 1) and (today_signal == -1):\r\n",
        "      print(f'做空 {pair}')\r\n",
        "      short_lst.append(pair)\r\n",
        "    # 否則就pass\r\n",
        "    else:\r\n",
        "      print(f'pass {pair}')\r\n",
        "  return long_lst ,short_lst\r\n",
        "\r\n",
        "# 用幣安api撈取所有交易對\r\n",
        "def get_all_pair():\r\n",
        "  pair_lst = []\r\n",
        "  for i in client.get_exchange_info()['symbols']:\r\n",
        "    pair = i['symbol']\r\n",
        "    if pair[-4:] == 'USDT':\r\n",
        "      pair_lst.append(pair)\r\n",
        "  return pair_lst"
      ],
      "execution_count": 14,
      "outputs": []
    },
    {
      "cell_type": "markdown",
      "metadata": {
        "id": "pj1NxXyljGz4"
      },
      "source": [
        "# 主程式執行"
      ]
    },
    {
      "cell_type": "code",
      "metadata": {
        "id": "DJGqJi6OSbwy",
        "colab": {
          "base_uri": "https://localhost:8080/",
          "height": 1000,
          "referenced_widgets": [
            "e12fc2d6e0b14c659b8d9c90f30bb79c",
            "98afb3327d7d433988d51c40afbeb8d4",
            "8ff30815f2994b13ab54a4d89a280918",
            "93c5647957904def963f86ffe9b0dcaf",
            "40d19b91aede46e097a3de2a676aa197",
            "a9d59f9c5c5b4c6e8e0b95d920772397",
            "15fcd1dfb1a44d4ca4401d1120879b96",
            "2f39f1043ec84cde96e9cda9a17cd0b3"
          ]
        },
        "outputId": "c6e3bd8f-a267-42c8-ed5b-8f7168553db3"
      },
      "source": [
        "#撈取交易對\r\n",
        "pair_lst = get_all_pair()\r\n",
        "#尋找投資目標\r\n",
        "long_lst ,short_lst = find_target(pair_lst)"
      ],
      "execution_count": 15,
      "outputs": [
        {
          "output_type": "stream",
          "text": [
            "/usr/local/lib/python3.6/dist-packages/ipykernel_launcher.py:4: TqdmDeprecationWarning:\n",
            "\n",
            "This function will be removed in tqdm==5.0.0\n",
            "Please use `tqdm.notebook.tqdm` instead of `tqdm.tqdm_notebook`\n",
            "\n"
          ],
          "name": "stderr"
        },
        {
          "output_type": "display_data",
          "data": {
            "application/vnd.jupyter.widget-view+json": {
              "model_id": "e12fc2d6e0b14c659b8d9c90f30bb79c",
              "version_minor": 0,
              "version_major": 2
            },
            "text/plain": [
              "HBox(children=(FloatProgress(value=0.0, max=259.0), HTML(value='')))"
            ]
          },
          "metadata": {
            "tags": []
          }
        },
        {
          "output_type": "stream",
          "text": [
            "pass BTCUSDT\n",
            "pass ETHUSDT\n",
            "pass BNBUSDT\n",
            "pass BCCUSDT\n",
            "pass NEOUSDT\n",
            "pass LTCUSDT\n",
            "pass QTUMUSDT\n",
            "pass ADAUSDT\n",
            "pass XRPUSDT\n",
            "pass EOSUSDT\n",
            "pass TUSDUSDT\n",
            "pass IOTAUSDT\n",
            "pass XLMUSDT\n",
            "pass ONTUSDT\n",
            "pass TRXUSDT\n",
            "pass ETCUSDT\n",
            "pass ICXUSDT\n",
            "pass VENUSDT\n",
            "pass NULSUSDT\n",
            "pass VETUSDT\n",
            "pass PAXUSDT\n",
            "pass BCHABCUSDT\n",
            "pass BCHSVUSDT\n",
            "pass USDCUSDT\n",
            "pass LINKUSDT\n",
            "pass WAVESUSDT\n",
            "pass BTTUSDT\n",
            "pass USDSUSDT\n",
            "pass ONGUSDT\n",
            "pass HOTUSDT\n",
            "pass ZILUSDT\n",
            "pass ZRXUSDT\n",
            "pass FETUSDT\n",
            "pass BATUSDT\n",
            "pass XMRUSDT\n",
            "pass ZECUSDT\n",
            "pass IOSTUSDT\n",
            "pass CELRUSDT\n",
            "pass DASHUSDT\n",
            "pass NANOUSDT\n",
            "pass OMGUSDT\n",
            "pass THETAUSDT\n",
            "pass ENJUSDT\n",
            "pass MITHUSDT\n",
            "pass MATICUSDT\n",
            "pass ATOMUSDT\n",
            "pass TFUELUSDT\n",
            "pass ONEUSDT\n",
            "pass FTMUSDT\n",
            "pass ALGOUSDT\n",
            "pass USDSBUSDT\n",
            "pass GTOUSDT\n",
            "pass ERDUSDT\n",
            "pass DOGEUSDT\n",
            "pass DUSKUSDT\n",
            "pass ANKRUSDT\n",
            "pass WINUSDT\n",
            "pass COSUSDT\n",
            "pass NPXSUSDT\n",
            "pass COCOSUSDT\n",
            "pass MTLUSDT\n",
            "pass TOMOUSDT\n",
            "pass PERLUSDT\n",
            "pass DENTUSDT\n",
            "pass MFTUSDT\n",
            "pass KEYUSDT\n",
            "pass STORMUSDT\n",
            "pass DOCKUSDT\n",
            "pass WANUSDT\n",
            "pass FUNUSDT\n",
            "pass CVCUSDT\n",
            "pass CHZUSDT\n",
            "pass BANDUSDT\n",
            "pass BUSDUSDT\n",
            "pass BEAMUSDT\n",
            "pass XTZUSDT\n",
            "pass RENUSDT\n",
            "pass RVNUSDT\n",
            "pass HCUSDT\n",
            "pass HBARUSDT\n",
            "pass NKNUSDT\n",
            "pass STXUSDT\n",
            "pass KAVAUSDT\n",
            "pass ARPAUSDT\n",
            "pass IOTXUSDT\n",
            "pass RLCUSDT\n",
            "pass MCOUSDT\n",
            "pass CTXCUSDT\n",
            "pass BCHUSDT\n",
            "pass TROYUSDT\n",
            "pass VITEUSDT\n",
            "pass FTTUSDT\n",
            "pass EURUSDT\n",
            "pass OGNUSDT\n",
            "pass DREPUSDT\n",
            "pass BULLUSDT\n",
            "做空 BEARUSDT\n",
            "pass ETHBULLUSDT\n",
            "pass ETHBEARUSDT\n",
            "pass TCTUSDT\n",
            "pass WRXUSDT\n",
            "pass BTSUSDT\n",
            "pass LSKUSDT\n",
            "pass BNTUSDT\n",
            "pass LTOUSDT\n",
            "pass EOSBULLUSDT\n",
            "pass EOSBEARUSDT\n",
            "pass XRPBULLUSDT\n",
            "pass XRPBEARUSDT\n",
            "pass STRATUSDT\n",
            "pass AIONUSDT\n",
            "pass MBLUSDT\n",
            "pass COTIUSDT\n",
            "pass BNBBULLUSDT\n",
            "pass BNBBEARUSDT\n",
            "pass STPTUSDT\n",
            "pass WTCUSDT\n",
            "pass DATAUSDT\n",
            "pass XZCUSDT\n",
            "pass SOLUSDT\n",
            "pass CTSIUSDT\n",
            "pass HIVEUSDT\n",
            "pass CHRUSDT\n",
            "pass BTCUPUSDT\n",
            "pass BTCDOWNUSDT\n",
            "pass GXSUSDT\n",
            "pass ARDRUSDT\n",
            "pass LENDUSDT\n",
            "pass MDTUSDT\n",
            "pass STMXUSDT\n",
            "pass KNCUSDT\n",
            "pass REPUSDT\n",
            "pass LRCUSDT\n",
            "pass PNTUSDT\n",
            "pass COMPUSDT\n",
            "pass BKRWUSDT\n",
            "pass SCUSDT\n",
            "pass ZENUSDT\n",
            "pass SNXUSDT\n",
            "pass ETHUPUSDT\n",
            "pass ETHDOWNUSDT\n",
            "pass ADAUPUSDT\n",
            "pass ADADOWNUSDT\n",
            "pass LINKUPUSDT\n",
            "pass LINKDOWNUSDT\n",
            "pass VTHOUSDT\n",
            "pass DGBUSDT\n",
            "pass GBPUSDT\n",
            "pass SXPUSDT\n",
            "pass MKRUSDT\n",
            "pass DAIUSDT\n",
            "pass DCRUSDT\n",
            "pass STORJUSDT\n",
            "pass BNBUPUSDT\n",
            "pass BNBDOWNUSDT\n",
            "pass XTZUPUSDT\n",
            "pass XTZDOWNUSDT\n",
            "pass MANAUSDT\n",
            "pass AUDUSDT\n",
            "pass YFIUSDT\n",
            "pass BALUSDT\n",
            "pass BLZUSDT\n",
            "pass IRISUSDT\n",
            "pass KMDUSDT\n",
            "pass JSTUSDT\n",
            "pass SRMUSDT\n",
            "pass ANTUSDT\n",
            "pass CRVUSDT\n",
            "pass SANDUSDT\n",
            "pass OCEANUSDT\n",
            "pass NMRUSDT\n",
            "pass DOTUSDT\n",
            "pass LUNAUSDT\n",
            "pass RSRUSDT\n",
            "pass PAXGUSDT\n",
            "pass WNXMUSDT\n",
            "pass TRBUSDT\n",
            "pass BZRXUSDT\n",
            "pass SUSHIUSDT\n",
            "pass YFIIUSDT\n",
            "pass KSMUSDT\n",
            "pass EGLDUSDT\n",
            "pass DIAUSDT\n",
            "pass RUNEUSDT\n",
            "pass FIOUSDT\n",
            "pass UMAUSDT\n",
            "pass EOSUPUSDT\n",
            "pass EOSDOWNUSDT\n",
            "pass TRXUPUSDT\n",
            "pass TRXDOWNUSDT\n",
            "pass XRPUPUSDT\n",
            "pass XRPDOWNUSDT\n",
            "pass DOTUPUSDT\n",
            "pass DOTDOWNUSDT\n",
            "pass BELUSDT\n",
            "pass WINGUSDT\n",
            "pass LTCUPUSDT\n",
            "pass LTCDOWNUSDT\n",
            "pass UNIUSDT\n",
            "pass NBSUSDT\n",
            "pass OXTUSDT\n",
            "pass SUNUSDT\n",
            "pass AVAXUSDT\n",
            "pass HNTUSDT\n",
            "pass FLMUSDT\n",
            "pass UNIUPUSDT\n",
            "pass UNIDOWNUSDT\n",
            "pass ORNUSDT\n",
            "pass UTKUSDT\n",
            "pass XVSUSDT\n",
            "pass ALPHAUSDT\n",
            "pass AAVEUSDT\n",
            "pass NEARUSDT\n",
            "pass SXPUPUSDT\n",
            "pass SXPDOWNUSDT\n",
            "pass FILUSDT\n",
            "pass FILUPUSDT\n",
            "pass FILDOWNUSDT\n",
            "pass YFIUPUSDT\n",
            "pass YFIDOWNUSDT\n",
            "pass INJUSDT\n",
            "pass AUDIOUSDT\n",
            "pass CTKUSDT\n",
            "pass BCHUPUSDT\n",
            "pass BCHDOWNUSDT\n",
            "pass AKROUSDT\n",
            "pass AXSUSDT\n",
            "pass HARDUSDT\n",
            "pass DNTUSDT\n",
            "pass STRAXUSDT\n",
            "pass UNFIUSDT\n",
            "pass ROSEUSDT\n",
            "pass AVAUSDT\n",
            "pass XEMUSDT\n",
            "pass AAVEUPUSDT\n",
            "pass AAVEDOWNUSDT\n",
            "pass SKLUSDT\n",
            "pass SUSDUSDT\n",
            "pass SUSHIUPUSDT\n",
            "pass SUSHIDOWNUSDT\n",
            "pass XLMUPUSDT\n",
            "pass XLMDOWNUSDT\n",
            "pass GRTUSDT\n",
            "pass JUVUSDT\n",
            "pass PSGUSDT\n",
            "pass 1INCHUSDT\n",
            "pass REEFUSDT\n",
            "pass OGUSDT\n",
            "pass ATMUSDT\n",
            "pass ASRUSDT\n",
            "pass CELOUSDT\n",
            "pass RIFUSDT\n",
            "pass BTCSTUSDT\n",
            "pass TRUUSDT\n",
            "pass CKBUSDT\n",
            "pass TWTUSDT\n",
            "pass FIROUSDT\n",
            "pass LITUSDT\n",
            "pass SFPUSDT\n",
            "\n"
          ],
          "name": "stdout"
        }
      ]
    },
    {
      "cell_type": "code",
      "metadata": {
        "id": "hcjClrzRdln1",
        "colab": {
          "base_uri": "https://localhost:8080/"
        },
        "outputId": "37276c02-588d-408c-de2b-82dbba5ba9bd"
      },
      "source": [
        "long_lst ,short_lst"
      ],
      "execution_count": 16,
      "outputs": [
        {
          "output_type": "execute_result",
          "data": {
            "text/plain": [
              "([], ['BEARUSDT'])"
            ]
          },
          "metadata": {
            "tags": []
          },
          "execution_count": 16
        }
      ]
    },
    {
      "cell_type": "code",
      "metadata": {
        "id": "OUBQuivNg-VX"
      },
      "source": [
        ""
      ],
      "execution_count": 16,
      "outputs": []
    }
  ]
}