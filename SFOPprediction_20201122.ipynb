{
  "nbformat": 4,
  "nbformat_minor": 0,
  "metadata": {
    "kernelspec": {
      "display_name": "Python 3",
      "language": "python",
      "name": "python3"
    },
    "language_info": {
      "codemirror_mode": {
        "name": "ipython",
        "version": 3
      },
      "file_extension": ".py",
      "mimetype": "text/x-python",
      "name": "python",
      "nbconvert_exporter": "python",
      "pygments_lexer": "ipython3",
      "version": "3.7.4"
    },
    "colab": {
      "name": "SFOPprediction.ipynb",
      "provenance": [],
      "collapsed_sections": [
        "gwQbv_YPWDTt",
        "v4lmrQEKWDUw"
      ],
      "include_colab_link": true
    },
    "accelerator": "GPU"
  },
  "cells": [
    {
      "cell_type": "markdown",
      "metadata": {
        "id": "view-in-github",
        "colab_type": "text"
      },
      "source": [
        "<a href=\"https://colab.research.google.com/github/skywalker0803r/ruby_research/blob/main/SFOPprediction_20201122.ipynb\" target=\"_parent\"><img src=\"https://colab.research.google.com/assets/colab-badge.svg\" alt=\"Open In Colab\"/></a>"
      ]
    },
    {
      "cell_type": "code",
      "metadata": {
        "id": "yTXRNj8PW-8h",
        "colab": {
          "base_uri": "https://localhost:8080/"
        },
        "outputId": "3c4e8a60-41f6-4cb7-84fb-d710ca23e2ee"
      },
      "source": [
        "from google.colab import drive\n",
        "drive.mount('/gdrive')"
      ],
      "execution_count": 1,
      "outputs": [
        {
          "output_type": "stream",
          "text": [
            "Drive already mounted at /gdrive; to attempt to forcibly remount, call drive.mount(\"/gdrive\", force_remount=True).\n"
          ],
          "name": "stdout"
        }
      ]
    },
    {
      "cell_type": "code",
      "metadata": {
        "id": "g3MtssUy6CPq"
      },
      "source": [
        "from torch.utils.data import TensorDataset,DataLoader\n",
        "from copy import deepcopy\n",
        "import matplotlib.pyplot as plt"
      ],
      "execution_count": 2,
      "outputs": []
    },
    {
      "cell_type": "code",
      "metadata": {
        "scrolled": true,
        "id": "ha0h4_WQWDSf",
        "colab": {
          "base_uri": "https://localhost:8080/"
        },
        "outputId": "36ab5a2c-e956-46e6-ed8f-d71a65799d48"
      },
      "source": [
        "import torch\n",
        "from torch import nn\n",
        "import torch.nn.functional as F\n",
        "from torch import tensor\n",
        "from torch.nn import Linear,ReLU,Sigmoid,Tanh\n",
        "import torch.optim as optim\n",
        "import pandas as pd\n",
        "from sklearn.model_selection import train_test_split\n",
        "from sklearn.preprocessing import StandardScaler,MinMaxScaler\n",
        "import numpy as np\n",
        "import matplotlib.pyplot as plt\n",
        "import seaborn as sns\n",
        "import plotly.express as px\n",
        "from sklearn.metrics import r2_score,mean_squared_error\n",
        "from math import sqrt\n",
        "import joblib\n",
        "from torch.utils.tensorboard import SummaryWriter\n",
        "import warnings;warnings.simplefilter('ignore')\n",
        "from tqdm import tqdm_notebook as tqdm\n",
        "import os\n",
        "from sklearn.utils import shuffle\n",
        "import random\n",
        "random.seed(42)\n",
        "torch.manual_seed(42)\n",
        "root = '/gdrive/My Drive/for Ruby'\n",
        "excel_list=os.listdir(root)\n",
        "excel_list"
      ],
      "execution_count": 3,
      "outputs": [
        {
          "output_type": "execute_result",
          "data": {
            "text/plain": [
              "['淡水河流域.csv', '淡水河流域final_0429.ipynb', '驗證淡水河流域03_15.ipynb', '2.xlsx']"
            ]
          },
          "metadata": {
            "tags": []
          },
          "execution_count": 3
        }
      ]
    },
    {
      "cell_type": "code",
      "metadata": {
        "id": "zlDEZklNW89Y",
        "colab": {
          "base_uri": "https://localhost:8080/"
        },
        "outputId": "c1455c61-023b-4cb1-b38d-3f8ca0946480"
      },
      "source": [
        "with open('/gdrive/My Drive/foo.txt', 'w') as f:\n",
        "  f.write('Hello Google Drive!')\n",
        "!cat '/gdrive/My Drive/foo.txt'"
      ],
      "execution_count": 4,
      "outputs": [
        {
          "output_type": "stream",
          "text": [
            "Hello Google Drive!"
          ],
          "name": "stdout"
        }
      ]
    },
    {
      "cell_type": "markdown",
      "metadata": {
        "id": "-BnkYQueWDSj"
      },
      "source": [
        "# some function"
      ]
    },
    {
      "cell_type": "code",
      "metadata": {
        "id": "XzVD6cnCWDSj"
      },
      "source": [
        "def mape(y_true, y_pred): \n",
        "    y_true, y_pred = np.array(y_true), np.array(y_pred)\n",
        "    return np.mean(np.abs((y_true - y_pred) / y_true)) * 100\n",
        "\n",
        "def get_group_col(df,name):\n",
        "    condition = df.columns.str.contains(name)\n",
        "    return df.columns[condition].tolist()\n",
        "\n",
        "def split_data(df,x_col,y_col):\n",
        "  df = shuffle(df).astype('float32')\n",
        "  X,Y = df[x_col],df[y_col]\n",
        "  sp1 = int(len(df)*0.8)\n",
        "  sp2 = int(len(df)*0.9)\n",
        "  data = {}\n",
        "  data['X_train'],data['Y_train'] = X.iloc[:sp1,:],Y.iloc[:sp1,:]\n",
        "  data['X_vaild'],data['Y_vaild'] = X.iloc[sp1:sp2,:],Y.iloc[sp1:sp2,:]\n",
        "  data['X_test'],data['Y_test'] = X.iloc[sp2:,:],Y.iloc[sp2:,:]\n",
        "  return data\n",
        "\n",
        "def show_metrics(y_pred,y_real):\n",
        "  res = pd.DataFrame(index=y_pred.columns,columns=['R2','MSE','MAPE'])\n",
        "  for i in y_pred.columns:\n",
        "    res.loc[i,'R2'] = r2_score(y_real[i],y_pred[i])\n",
        "    res.loc[i,'MSE'] = mean_squared_error(y_real[i],y_pred[i])\n",
        "    res.loc[i,'MAPE'] = mape(y_real[i],y_pred[i])\n",
        "  res.loc['AVG'] = res.mean(axis=0)\n",
        "  return res\n",
        "\n",
        "def init_weights(m):\n",
        "  if hasattr(m,'weight'):\n",
        "    torch.nn.init.xavier_uniform(m.weight)\n",
        "  if hasattr(m,'bias'):\n",
        "    m.bias.data.fill_(0)\n",
        "\n",
        "def normalize(x):\n",
        "  '''\n",
        "  x : pandas.DataFrame()\n",
        "  return : normalize x\n",
        "  '''\n",
        "  x_idx,x_col = x.index,x.columns\n",
        "  x = x.values\n",
        "  x = x / x.sum(axis=1).reshape(-1,1)\n",
        "  return pd.DataFrame(x,index=x_idx,columns=x_col)"
      ],
      "execution_count": 5,
      "outputs": []
    },
    {
      "cell_type": "markdown",
      "metadata": {
        "id": "LFNtBmqeWDSm"
      },
      "source": [
        "# Part1：預測塔頂塔底組成"
      ]
    },
    {
      "cell_type": "markdown",
      "metadata": {
        "id": "1AtQ4T0aWDSn"
      },
      "source": [
        "# load data"
      ]
    },
    {
      "cell_type": "code",
      "metadata": {
        "id": "6EFZLabUWDSn",
        "colab": {
          "base_uri": "https://localhost:8080/",
          "height": 360
        },
        "outputId": "c5780670-580f-493c-c03c-8cb2e68c3811"
      },
      "source": [
        "df = pd.read_excel(root+'/2.xlsx') #讀取excel檔\n",
        "df = df.drop(['Unnamed: 1', 'Unnamed: 2'], axis=1)\n",
        "df = df.drop(index=1)\n",
        "col_name = df.iloc[0,:]\n",
        "df.columns = col_name\n",
        "df = df.iloc[1:,:] \n",
        "df.index = df.iloc[:,0].values\n",
        "df = df.drop(df.columns[0],axis=1)\n",
        "print(df.shape)\n",
        "for i in df.columns:\n",
        "    df[i] = pd.to_numeric(df[i],errors='coerce')\n",
        "\n",
        "df['Condenser Duty'] = df['Condenser Duty'].apply(lambda x: x*-1)\n",
        "df.head()"
      ],
      "execution_count": 6,
      "outputs": [
        {
          "output_type": "stream",
          "text": [
            "(1458, 18)\n"
          ],
          "name": "stdout"
        },
        {
          "output_type": "execute_result",
          "data": {
            "text/html": [
              "<div>\n",
              "<style scoped>\n",
              "    .dataframe tbody tr th:only-of-type {\n",
              "        vertical-align: middle;\n",
              "    }\n",
              "\n",
              "    .dataframe tbody tr th {\n",
              "        vertical-align: top;\n",
              "    }\n",
              "\n",
              "    .dataframe thead th {\n",
              "        text-align: right;\n",
              "    }\n",
              "</style>\n",
              "<table border=\"1\" class=\"dataframe\">\n",
              "  <thead>\n",
              "    <tr style=\"text-align: right;\">\n",
              "      <th></th>\n",
              "      <th>F.TEMP.MIXED</th>\n",
              "      <th>Feed Flow</th>\n",
              "      <th>F.FLOW.BENZENE</th>\n",
              "      <th>F.FLOW.TOLUENE</th>\n",
              "      <th>Total stage</th>\n",
              "      <th>Reflux ratio</th>\n",
              "      <th>D/F</th>\n",
              "      <th>Feed stage</th>\n",
              "      <th>Stage-2 Efficiencies</th>\n",
              "      <th>Stage-45 Efficiencies</th>\n",
              "      <th>Condenser Temperature</th>\n",
              "      <th>Condenser Duty</th>\n",
              "      <th>D stream BENZENE</th>\n",
              "      <th>D stream TOLUENE</th>\n",
              "      <th>Reboiler Temp</th>\n",
              "      <th>Reboiler Duty</th>\n",
              "      <th>W stream BENZENE</th>\n",
              "      <th>W stream TOLUENE</th>\n",
              "    </tr>\n",
              "  </thead>\n",
              "  <tbody>\n",
              "    <tr>\n",
              "      <th>Case 1</th>\n",
              "      <td>103</td>\n",
              "      <td>50</td>\n",
              "      <td>40</td>\n",
              "      <td>60</td>\n",
              "      <td>46</td>\n",
              "      <td>2.5</td>\n",
              "      <td>0.33</td>\n",
              "      <td>14</td>\n",
              "      <td>0.7</td>\n",
              "      <td>0.7</td>\n",
              "      <td>82.961772</td>\n",
              "      <td>5712.749075</td>\n",
              "      <td>0.991645</td>\n",
              "      <td>0.008355</td>\n",
              "      <td>112.480976</td>\n",
              "      <td>5503.283448</td>\n",
              "      <td>0.146149</td>\n",
              "      <td>0.853851</td>\n",
              "    </tr>\n",
              "    <tr>\n",
              "      <th>Case 2</th>\n",
              "      <td>103</td>\n",
              "      <td>50</td>\n",
              "      <td>50</td>\n",
              "      <td>50</td>\n",
              "      <td>46</td>\n",
              "      <td>2.5</td>\n",
              "      <td>0.33</td>\n",
              "      <td>14</td>\n",
              "      <td>0.7</td>\n",
              "      <td>0.7</td>\n",
              "      <td>82.990896</td>\n",
              "      <td>5809.514269</td>\n",
              "      <td>0.989946</td>\n",
              "      <td>0.010054</td>\n",
              "      <td>106.774195</td>\n",
              "      <td>3042.561970</td>\n",
              "      <td>0.284634</td>\n",
              "      <td>0.715366</td>\n",
              "    </tr>\n",
              "    <tr>\n",
              "      <th>Case 3</th>\n",
              "      <td>103</td>\n",
              "      <td>50</td>\n",
              "      <td>60</td>\n",
              "      <td>40</td>\n",
              "      <td>46</td>\n",
              "      <td>2.5</td>\n",
              "      <td>0.33</td>\n",
              "      <td>14</td>\n",
              "      <td>0.7</td>\n",
              "      <td>0.7</td>\n",
              "      <td>83.029809</td>\n",
              "      <td>5906.674859</td>\n",
              "      <td>0.987682</td>\n",
              "      <td>0.012318</td>\n",
              "      <td>101.915000</td>\n",
              "      <td>593.089652</td>\n",
              "      <td>0.425427</td>\n",
              "      <td>0.574573</td>\n",
              "    </tr>\n",
              "    <tr>\n",
              "      <th>Case 4</th>\n",
              "      <td>103</td>\n",
              "      <td>50</td>\n",
              "      <td>40</td>\n",
              "      <td>60</td>\n",
              "      <td>46</td>\n",
              "      <td>2.5</td>\n",
              "      <td>0.33</td>\n",
              "      <td>19</td>\n",
              "      <td>0.7</td>\n",
              "      <td>0.7</td>\n",
              "      <td>82.845927</td>\n",
              "      <td>5708.665107</td>\n",
              "      <td>0.998416</td>\n",
              "      <td>0.001584</td>\n",
              "      <td>112.594861</td>\n",
              "      <td>5500.205696</td>\n",
              "      <td>0.143621</td>\n",
              "      <td>0.856379</td>\n",
              "    </tr>\n",
              "    <tr>\n",
              "      <th>Case 5</th>\n",
              "      <td>103</td>\n",
              "      <td>50</td>\n",
              "      <td>50</td>\n",
              "      <td>50</td>\n",
              "      <td>46</td>\n",
              "      <td>2.5</td>\n",
              "      <td>0.33</td>\n",
              "      <td>19</td>\n",
              "      <td>0.7</td>\n",
              "      <td>0.7</td>\n",
              "      <td>82.851761</td>\n",
              "      <td>5804.515753</td>\n",
              "      <td>0.998074</td>\n",
              "      <td>0.001926</td>\n",
              "      <td>106.894313</td>\n",
              "      <td>3038.549282</td>\n",
              "      <td>0.281451</td>\n",
              "      <td>0.718549</td>\n",
              "    </tr>\n",
              "  </tbody>\n",
              "</table>\n",
              "</div>"
            ],
            "text/plain": [
              "0       F.TEMP.MIXED  Feed Flow  ...  W stream BENZENE  W stream TOLUENE\n",
              "Case 1           103         50  ...          0.146149          0.853851\n",
              "Case 2           103         50  ...          0.284634          0.715366\n",
              "Case 3           103         50  ...          0.425427          0.574573\n",
              "Case 4           103         50  ...          0.143621          0.856379\n",
              "Case 5           103         50  ...          0.281451          0.718549\n",
              "\n",
              "[5 rows x 18 columns]"
            ]
          },
          "metadata": {
            "tags": []
          },
          "execution_count": 6
        }
      ]
    },
    {
      "cell_type": "code",
      "metadata": {
        "id": "ZvKtkQ773Vu3"
      },
      "source": [
        "class part(object):\n",
        "  def __init__(\n",
        "      self,\n",
        "      df,\n",
        "      x_col,\n",
        "      y_col,\n",
        "      hidden_size=256,\n",
        "      lr=0.01,\n",
        "      max_epochs=500,\n",
        "      robust_loss=False,\n",
        "      log_interval=50,\n",
        "      normalize_idx_list=None,\n",
        "      ):\n",
        "    \n",
        "    '''\n",
        "    config\n",
        "    '''\n",
        "    self.normalize_idx_list = normalize_idx_list\n",
        "    self.log_interval = log_interval\n",
        "    self.robust_loss = robust_loss\n",
        "    self.x_col = x_col\n",
        "    self.y_col = y_col\n",
        "    self.hidden_size = hidden_size\n",
        "    self.lr = lr\n",
        "    self.max_epochs = max_epochs\n",
        "    self.ss_x = MinMaxScaler().fit(df[x_col])\n",
        "    self.ss_y = MinMaxScaler().fit(df[y_col])\n",
        "    \n",
        "    # net\n",
        "    self.net = nn.Sequential(\n",
        "        nn.Linear(len(self.x_col),self.hidden_size),nn.ReLU(),\n",
        "        nn.Linear(self.hidden_size,self.hidden_size),nn.ReLU(),\n",
        "        nn.Linear(self.hidden_size,len(self.y_col)),nn.Sigmoid(),\n",
        "                  ).apply(init_weights)\n",
        "    \n",
        "    # loss_function\n",
        "    if self.robust_loss == True:\n",
        "      adaptive = robust_loss_pytorch.adaptive.AdaptiveLossFunction(\n",
        "          num_dims = len(self.y_col),\n",
        "          float_dtype = np.float32,\n",
        "          device = 'cpu')\n",
        "      params = list(self.net.parameters())+list(adaptive.parameters())\n",
        "      self.loss_fn = lambda y_i,y:torch.mean(adaptive.lossfun((y_i - y)))\n",
        "    else:\n",
        "      params = list(self.net.parameters())\n",
        "      self.loss_fn = lambda y_i,y:torch.mean((y_i-y)**2)\n",
        "    \n",
        "    # optimizer\n",
        "    self.optimizer = torch.optim.Adam(params,lr=self.lr)\n",
        "    \n",
        "    # dataset\n",
        "    self.data = split_data(df,self.x_col,self.y_col)\n",
        "    \n",
        "    # data_iter\n",
        "    self.train_data = TensorDataset(\n",
        "        torch.FloatTensor(self.ss_x.transform(self.data['X_train'])),\n",
        "        torch.FloatTensor(self.ss_y.transform(self.data['Y_train'])),\n",
        "        )\n",
        "    self.train_iter = DataLoader(self.train_data,batch_size=64)\n",
        "    \n",
        "    self.vaild_data = TensorDataset(\n",
        "        torch.FloatTensor(self.ss_x.transform(self.data['X_vaild'])),\n",
        "        torch.FloatTensor(self.ss_y.transform(self.data['Y_vaild'])),\n",
        "        )\n",
        "    self.vaild_iter = DataLoader(self.vaild_data,batch_size=64)\n",
        "\n",
        "  def train_step(self):\n",
        "    self.net.train()\n",
        "    total_loss = 0\n",
        "    for t,(x,y) in enumerate(self.train_iter):\n",
        "      y_hat = self.net(x)\n",
        "      loss = self.loss_fn(y_hat,y)\n",
        "      loss.backward()\n",
        "      self.optimizer.step()\n",
        "      self.optimizer.zero_grad()\n",
        "      total_loss += loss.item()\n",
        "    return total_loss/t\n",
        "  \n",
        "  def valid_step(self):\n",
        "    self.net.eval()\n",
        "    total_loss = 0\n",
        "    for t,(x,y) in enumerate(self.vaild_iter):\n",
        "      y_hat = self.net(x)\n",
        "      loss = self.loss_fn(y_hat,y)\n",
        "      total_loss += loss.item()\n",
        "    return total_loss/t\n",
        "\n",
        "  \n",
        "  def train(self):\n",
        "    '''\n",
        "    train and eval model many epochs\n",
        "    return best model and plot train_history\n",
        "    '''   \n",
        "    history = {\n",
        "        'train_loss':[],\n",
        "        'valid_loss':[]\n",
        "        }\n",
        "    current_loss = np.inf\n",
        "    best_model = None\n",
        "    \n",
        "    for i in range(self.max_epochs):\n",
        "      history['train_loss'].append(self.train_step())\n",
        "      history['valid_loss'].append(self.valid_step())\n",
        "      \n",
        "      # pring info\n",
        "      if i%self.log_interval == 0:\n",
        "       print(\"epoch:{} train_loss:{:.4f} valid_loss:{:.4f}\".format(\n",
        "           i,\n",
        "           history['train_loss'][-1],\n",
        "           history['valid_loss'][-1]))\n",
        "      \n",
        "      # keep the best model\n",
        "      if history['valid_loss'][-1] <= current_loss:\n",
        "        best_model = deepcopy(self.net.eval())\n",
        "        current_loss = history['valid_loss'][-1]\n",
        "        print('save best model')\n",
        "    \n",
        "    # plot history and return best_model\n",
        "    self.net = deepcopy(best_model.eval())\n",
        "    plt.plot(history['train_loss'],label='train_loss')\n",
        "    plt.plot(history['valid_loss'],label='valid_loss')\n",
        "    plt.legend()\n",
        "    plt.show()\n",
        "    return best_model\n",
        "\n",
        "  def test(self):\n",
        "    '''\n",
        "    show model metrics\n",
        "    '''\n",
        "    predict = self.get_predict(self.data['X_test'])\n",
        "    res = show_metrics(predict,self.data['Y_test'])\n",
        "    return res\n",
        "\n",
        "  def get_predict(self,x):\n",
        "    '''\n",
        "    input :pandas.DataFrame()\n",
        "    return :pandas.DataFrame()\n",
        "    '''\n",
        "    data_index = x.index\n",
        "    predict = self.net(torch.FloatTensor(self.ss_x.transform(x)))\n",
        "    predict = self.ss_y.inverse_transform(predict.detach().numpy())\n",
        "    predict = pd.DataFrame(predict,index=data_index,columns=self.y_col)\n",
        "    \n",
        "    # normalize\n",
        "    if self.normalize_idx_list != None:\n",
        "      for idx in self.normalize_idx_list:\n",
        "        predict.iloc[:,idx] = normalize(predict.iloc[:,idx])\n",
        "    \n",
        "    return predict"
      ],
      "execution_count": 7,
      "outputs": []
    },
    {
      "cell_type": "markdown",
      "metadata": {
        "id": "tBMLJH3e8YNC"
      },
      "source": [
        "# PART1"
      ]
    },
    {
      "cell_type": "code",
      "metadata": {
        "id": "P0YHYde8w9RV",
        "colab": {
          "base_uri": "https://localhost:8080/",
          "height": 1000
        },
        "outputId": "7df767aa-4d4c-47c1-f536-1513bece7d91"
      },
      "source": [
        "part1 = part(df,df.columns[:10],df.columns[[12,13,16,17]])\n",
        "part1.normalize_idx_list = [[0,1],[2,3]]\n",
        "part1.train()"
      ],
      "execution_count": 8,
      "outputs": [
        {
          "output_type": "stream",
          "text": [
            "epoch:0 train_loss:0.0522 valid_loss:0.0318\n",
            "save best model\n",
            "save best model\n",
            "save best model\n",
            "save best model\n",
            "save best model\n",
            "save best model\n",
            "save best model\n",
            "save best model\n",
            "save best model\n",
            "save best model\n",
            "save best model\n",
            "save best model\n",
            "save best model\n",
            "save best model\n",
            "save best model\n",
            "save best model\n",
            "save best model\n",
            "save best model\n",
            "save best model\n",
            "save best model\n",
            "save best model\n",
            "save best model\n",
            "save best model\n",
            "save best model\n",
            "save best model\n",
            "save best model\n",
            "save best model\n",
            "save best model\n",
            "save best model\n",
            "save best model\n",
            "save best model\n",
            "epoch:50 train_loss:0.0001 valid_loss:0.0002\n",
            "save best model\n",
            "save best model\n",
            "save best model\n",
            "save best model\n",
            "save best model\n",
            "save best model\n",
            "save best model\n",
            "save best model\n",
            "save best model\n",
            "save best model\n",
            "save best model\n",
            "save best model\n",
            "save best model\n",
            "save best model\n",
            "save best model\n",
            "save best model\n",
            "save best model\n",
            "epoch:100 train_loss:0.0001 valid_loss:0.0001\n",
            "save best model\n",
            "save best model\n",
            "save best model\n",
            "save best model\n",
            "save best model\n",
            "save best model\n",
            "epoch:150 train_loss:0.0000 valid_loss:0.0001\n",
            "save best model\n",
            "epoch:200 train_loss:0.0001 valid_loss:0.0002\n",
            "save best model\n",
            "save best model\n",
            "epoch:250 train_loss:0.0000 valid_loss:0.0000\n",
            "save best model\n",
            "epoch:300 train_loss:0.0001 valid_loss:0.0002\n",
            "epoch:350 train_loss:0.0000 valid_loss:0.0001\n",
            "epoch:400 train_loss:0.0000 valid_loss:0.0001\n",
            "epoch:450 train_loss:0.0000 valid_loss:0.0001\n"
          ],
          "name": "stdout"
        },
        {
          "output_type": "display_data",
          "data": {
            "image/png": "[encoded data removed]",
            "text/plain": [
              "<Figure size 432x288 with 1 Axes>"
            ]
          },
          "metadata": {
            "tags": [],
            "needs_background": "light"
          }
        },
        {
          "output_type": "execute_result",
          "data": {
            "text/plain": [
              "Sequential(\n",
              "  (0): Linear(in_features=10, out_features=256, bias=True)\n",
              "  (1): ReLU()\n",
              "  (2): Linear(in_features=256, out_features=256, bias=True)\n",
              "  (3): ReLU()\n",
              "  (4): Linear(in_features=256, out_features=4, bias=True)\n",
              "  (5): Sigmoid()\n",
              ")"
            ]
          },
          "metadata": {
            "tags": []
          },
          "execution_count": 8
        }
      ]
    },
    {
      "cell_type": "code",
      "metadata": {
        "colab": {
          "base_uri": "https://localhost:8080/",
          "height": 234
        },
        "id": "4ud5NnbW-pOM",
        "outputId": "adcdaf76-08df-43a2-8f00-5f498961d8d6"
      },
      "source": [
        "part1.test()"
      ],
      "execution_count": 9,
      "outputs": [
        {
          "output_type": "execute_result",
          "data": {
            "text/html": [
              "<div>\n",
              "<style scoped>\n",
              "    .dataframe tbody tr th:only-of-type {\n",
              "        vertical-align: middle;\n",
              "    }\n",
              "\n",
              "    .dataframe tbody tr th {\n",
              "        vertical-align: top;\n",
              "    }\n",
              "\n",
              "    .dataframe thead th {\n",
              "        text-align: right;\n",
              "    }\n",
              "</style>\n",
              "<table border=\"1\" class=\"dataframe\">\n",
              "  <thead>\n",
              "    <tr style=\"text-align: right;\">\n",
              "      <th></th>\n",
              "      <th>R2</th>\n",
              "      <th>MSE</th>\n",
              "      <th>MAPE</th>\n",
              "    </tr>\n",
              "    <tr>\n",
              "      <th>0</th>\n",
              "      <th></th>\n",
              "      <th></th>\n",
              "      <th></th>\n",
              "    </tr>\n",
              "  </thead>\n",
              "  <tbody>\n",
              "    <tr>\n",
              "      <th>D stream BENZENE</th>\n",
              "      <td>0.999681</td>\n",
              "      <td>1.33564e-06</td>\n",
              "      <td>0.0706519</td>\n",
              "    </tr>\n",
              "    <tr>\n",
              "      <th>D stream TOLUENE</th>\n",
              "      <td>0.999681</td>\n",
              "      <td>1.33564e-06</td>\n",
              "      <td>253.373</td>\n",
              "    </tr>\n",
              "    <tr>\n",
              "      <th>W stream BENZENE</th>\n",
              "      <td>0.999829</td>\n",
              "      <td>3.10943e-06</td>\n",
              "      <td>4399.32</td>\n",
              "    </tr>\n",
              "    <tr>\n",
              "      <th>W stream TOLUENE</th>\n",
              "      <td>0.999829</td>\n",
              "      <td>3.10943e-06</td>\n",
              "      <td>0.15899</td>\n",
              "    </tr>\n",
              "    <tr>\n",
              "      <th>AVG</th>\n",
              "      <td>0.999755</td>\n",
              "      <td>2.22253e-06</td>\n",
              "      <td>1163.23</td>\n",
              "    </tr>\n",
              "  </tbody>\n",
              "</table>\n",
              "</div>"
            ],
            "text/plain": [
              "                        R2          MSE       MAPE\n",
              "0                                                 \n",
              "D stream BENZENE  0.999681  1.33564e-06  0.0706519\n",
              "D stream TOLUENE  0.999681  1.33564e-06    253.373\n",
              "W stream BENZENE  0.999829  3.10943e-06    4399.32\n",
              "W stream TOLUENE  0.999829  3.10943e-06    0.15899\n",
              "AVG               0.999755  2.22253e-06    1163.23"
            ]
          },
          "metadata": {
            "tags": []
          },
          "execution_count": 9
        }
      ]
    },
    {
      "cell_type": "code",
      "metadata": {
        "id": "_wuddgOqu2Tp",
        "outputId": "4753952c-9b8e-47a4-ccd6-d9c4aa50895f",
        "colab": {
          "base_uri": "https://localhost:8080/",
          "height": 203
        }
      },
      "source": [
        "part1.get_predict(part1.data['X_test']).head()"
      ],
      "execution_count": 10,
      "outputs": [
        {
          "output_type": "execute_result",
          "data": {
            "text/html": [
              "<div>\n",
              "<style scoped>\n",
              "    .dataframe tbody tr th:only-of-type {\n",
              "        vertical-align: middle;\n",
              "    }\n",
              "\n",
              "    .dataframe tbody tr th {\n",
              "        vertical-align: top;\n",
              "    }\n",
              "\n",
              "    .dataframe thead th {\n",
              "        text-align: right;\n",
              "    }\n",
              "</style>\n",
              "<table border=\"1\" class=\"dataframe\">\n",
              "  <thead>\n",
              "    <tr style=\"text-align: right;\">\n",
              "      <th></th>\n",
              "      <th>D stream BENZENE</th>\n",
              "      <th>D stream TOLUENE</th>\n",
              "      <th>W stream BENZENE</th>\n",
              "      <th>W stream TOLUENE</th>\n",
              "    </tr>\n",
              "  </thead>\n",
              "  <tbody>\n",
              "    <tr>\n",
              "      <th>Case 304</th>\n",
              "      <td>0.862530</td>\n",
              "      <td>0.137470</td>\n",
              "      <td>0.195408</td>\n",
              "      <td>0.804592</td>\n",
              "    </tr>\n",
              "    <tr>\n",
              "      <th>Case 1320</th>\n",
              "      <td>0.999003</td>\n",
              "      <td>0.000997</td>\n",
              "      <td>0.170876</td>\n",
              "      <td>0.829124</td>\n",
              "    </tr>\n",
              "    <tr>\n",
              "      <th>Case 182</th>\n",
              "      <td>0.997138</td>\n",
              "      <td>0.002862</td>\n",
              "      <td>0.285301</td>\n",
              "      <td>0.714700</td>\n",
              "    </tr>\n",
              "    <tr>\n",
              "      <th>Case 248</th>\n",
              "      <td>0.994455</td>\n",
              "      <td>0.005545</td>\n",
              "      <td>0.284234</td>\n",
              "      <td>0.715766</td>\n",
              "    </tr>\n",
              "    <tr>\n",
              "      <th>Case 1454</th>\n",
              "      <td>0.980744</td>\n",
              "      <td>0.019256</td>\n",
              "      <td>0.000081</td>\n",
              "      <td>0.999919</td>\n",
              "    </tr>\n",
              "  </tbody>\n",
              "</table>\n",
              "</div>"
            ],
            "text/plain": [
              "0          D stream BENZENE  ...  W stream TOLUENE\n",
              "Case 304           0.862530  ...          0.804592\n",
              "Case 1320          0.999003  ...          0.829124\n",
              "Case 182           0.997138  ...          0.714700\n",
              "Case 248           0.994455  ...          0.715766\n",
              "Case 1454          0.980744  ...          0.999919\n",
              "\n",
              "[5 rows x 4 columns]"
            ]
          },
          "metadata": {
            "tags": []
          },
          "execution_count": 10
        }
      ]
    },
    {
      "cell_type": "code",
      "metadata": {
        "id": "s8GLEKIgvO-6",
        "outputId": "23ab0815-0c8d-4b50-9881-a140c2f95315",
        "colab": {
          "base_uri": "https://localhost:8080/",
          "height": 203
        }
      },
      "source": [
        "part1.data['Y_test'].head()"
      ],
      "execution_count": 11,
      "outputs": [
        {
          "output_type": "execute_result",
          "data": {
            "text/html": [
              "<div>\n",
              "<style scoped>\n",
              "    .dataframe tbody tr th:only-of-type {\n",
              "        vertical-align: middle;\n",
              "    }\n",
              "\n",
              "    .dataframe tbody tr th {\n",
              "        vertical-align: top;\n",
              "    }\n",
              "\n",
              "    .dataframe thead th {\n",
              "        text-align: right;\n",
              "    }\n",
              "</style>\n",
              "<table border=\"1\" class=\"dataframe\">\n",
              "  <thead>\n",
              "    <tr style=\"text-align: right;\">\n",
              "      <th></th>\n",
              "      <th>D stream BENZENE</th>\n",
              "      <th>D stream TOLUENE</th>\n",
              "      <th>W stream BENZENE</th>\n",
              "      <th>W stream TOLUENE</th>\n",
              "    </tr>\n",
              "  </thead>\n",
              "  <tbody>\n",
              "    <tr>\n",
              "      <th>Case 304</th>\n",
              "      <td>0.862304</td>\n",
              "      <td>0.137696</td>\n",
              "      <td>1.958930e-01</td>\n",
              "      <td>0.804107</td>\n",
              "    </tr>\n",
              "    <tr>\n",
              "      <th>Case 1320</th>\n",
              "      <td>0.999809</td>\n",
              "      <td>0.000191</td>\n",
              "      <td>1.728629e-01</td>\n",
              "      <td>0.827137</td>\n",
              "    </tr>\n",
              "    <tr>\n",
              "      <th>Case 182</th>\n",
              "      <td>0.997897</td>\n",
              "      <td>0.002103</td>\n",
              "      <td>2.815200e-01</td>\n",
              "      <td>0.718480</td>\n",
              "    </tr>\n",
              "    <tr>\n",
              "      <th>Case 248</th>\n",
              "      <td>0.994920</td>\n",
              "      <td>0.005080</td>\n",
              "      <td>2.826844e-01</td>\n",
              "      <td>0.717316</td>\n",
              "    </tr>\n",
              "    <tr>\n",
              "      <th>Case 1454</th>\n",
              "      <td>0.981168</td>\n",
              "      <td>0.018832</td>\n",
              "      <td>2.463459e-07</td>\n",
              "      <td>1.000000</td>\n",
              "    </tr>\n",
              "  </tbody>\n",
              "</table>\n",
              "</div>"
            ],
            "text/plain": [
              "0          D stream BENZENE  ...  W stream TOLUENE\n",
              "Case 304           0.862304  ...          0.804107\n",
              "Case 1320          0.999809  ...          0.827137\n",
              "Case 182           0.997897  ...          0.718480\n",
              "Case 248           0.994920  ...          0.717316\n",
              "Case 1454          0.981168  ...          1.000000\n",
              "\n",
              "[5 rows x 4 columns]"
            ]
          },
          "metadata": {
            "tags": []
          },
          "execution_count": 11
        }
      ]
    },
    {
      "cell_type": "markdown",
      "metadata": {
        "id": "4aadwibjClcc"
      },
      "source": [
        "# PART2"
      ]
    },
    {
      "cell_type": "code",
      "metadata": {
        "colab": {
          "base_uri": "https://localhost:8080/",
          "height": 1000
        },
        "id": "udm6e1rUC4LO",
        "outputId": "76886492-754b-4cf1-fcc4-70a208af068b"
      },
      "source": [
        "part2 = part(df,df.columns[:10],df.columns[[11,15]])\n",
        "part2.train()"
      ],
      "execution_count": 12,
      "outputs": [
        {
          "output_type": "stream",
          "text": [
            "epoch:0 train_loss:0.0293 valid_loss:0.0206\n",
            "save best model\n",
            "save best model\n",
            "save best model\n",
            "save best model\n",
            "save best model\n",
            "save best model\n",
            "save best model\n",
            "save best model\n",
            "save best model\n",
            "save best model\n",
            "save best model\n",
            "save best model\n",
            "save best model\n",
            "save best model\n",
            "save best model\n",
            "save best model\n",
            "save best model\n",
            "save best model\n",
            "save best model\n",
            "save best model\n",
            "save best model\n",
            "save best model\n",
            "save best model\n",
            "save best model\n",
            "save best model\n",
            "save best model\n",
            "save best model\n",
            "save best model\n",
            "save best model\n",
            "save best model\n",
            "save best model\n",
            "save best model\n",
            "save best model\n",
            "epoch:50 train_loss:0.0000 valid_loss:0.0000\n",
            "save best model\n",
            "save best model\n",
            "save best model\n",
            "save best model\n",
            "save best model\n",
            "save best model\n",
            "epoch:100 train_loss:0.0001 valid_loss:0.0001\n",
            "save best model\n",
            "epoch:150 train_loss:0.0000 valid_loss:0.0000\n",
            "save best model\n",
            "save best model\n",
            "save best model\n",
            "save best model\n",
            "epoch:200 train_loss:0.0000 valid_loss:0.0000\n",
            "epoch:250 train_loss:0.0000 valid_loss:0.0000\n",
            "save best model\n",
            "save best model\n",
            "save best model\n",
            "save best model\n",
            "save best model\n",
            "epoch:300 train_loss:0.0000 valid_loss:0.0000\n",
            "save best model\n",
            "epoch:350 train_loss:0.0000 valid_loss:0.0000\n",
            "epoch:400 train_loss:0.0002 valid_loss:0.0004\n",
            "epoch:450 train_loss:0.0000 valid_loss:0.0000\n",
            "save best model\n",
            "save best model\n",
            "save best model\n",
            "save best model\n",
            "save best model\n",
            "save best model\n",
            "save best model\n",
            "save best model\n",
            "save best model\n"
          ],
          "name": "stdout"
        },
        {
          "output_type": "display_data",
          "data": {
            "image/png": "[encoded data removed]",
            "text/plain": [
              "<Figure size 432x288 with 1 Axes>"
            ]
          },
          "metadata": {
            "tags": [],
            "needs_background": "light"
          }
        },
        {
          "output_type": "execute_result",
          "data": {
            "text/plain": [
              "Sequential(\n",
              "  (0): Linear(in_features=10, out_features=256, bias=True)\n",
              "  (1): ReLU()\n",
              "  (2): Linear(in_features=256, out_features=256, bias=True)\n",
              "  (3): ReLU()\n",
              "  (4): Linear(in_features=256, out_features=2, bias=True)\n",
              "  (5): Sigmoid()\n",
              ")"
            ]
          },
          "metadata": {
            "tags": []
          },
          "execution_count": 12
        }
      ]
    },
    {
      "cell_type": "code",
      "metadata": {
        "colab": {
          "base_uri": "https://localhost:8080/",
          "height": 172
        },
        "id": "hI_LVnSuDV9Q",
        "outputId": "fd8633ab-387e-4ef4-b8a7-856683c2035d"
      },
      "source": [
        "part2.test()"
      ],
      "execution_count": 13,
      "outputs": [
        {
          "output_type": "execute_result",
          "data": {
            "text/html": [
              "<div>\n",
              "<style scoped>\n",
              "    .dataframe tbody tr th:only-of-type {\n",
              "        vertical-align: middle;\n",
              "    }\n",
              "\n",
              "    .dataframe tbody tr th {\n",
              "        vertical-align: top;\n",
              "    }\n",
              "\n",
              "    .dataframe thead th {\n",
              "        text-align: right;\n",
              "    }\n",
              "</style>\n",
              "<table border=\"1\" class=\"dataframe\">\n",
              "  <thead>\n",
              "    <tr style=\"text-align: right;\">\n",
              "      <th></th>\n",
              "      <th>R2</th>\n",
              "      <th>MSE</th>\n",
              "      <th>MAPE</th>\n",
              "    </tr>\n",
              "    <tr>\n",
              "      <th>0</th>\n",
              "      <th></th>\n",
              "      <th></th>\n",
              "      <th></th>\n",
              "    </tr>\n",
              "  </thead>\n",
              "  <tbody>\n",
              "    <tr>\n",
              "      <th>Condenser Duty</th>\n",
              "      <td>0.999988</td>\n",
              "      <td>1989.57</td>\n",
              "      <td>0.207341</td>\n",
              "    </tr>\n",
              "    <tr>\n",
              "      <th>Reboiler Duty</th>\n",
              "      <td>0.999957</td>\n",
              "      <td>4527.33</td>\n",
              "      <td>0.989742</td>\n",
              "    </tr>\n",
              "    <tr>\n",
              "      <th>AVG</th>\n",
              "      <td>0.999973</td>\n",
              "      <td>3258.45</td>\n",
              "      <td>0.598541</td>\n",
              "    </tr>\n",
              "  </tbody>\n",
              "</table>\n",
              "</div>"
            ],
            "text/plain": [
              "                      R2      MSE      MAPE\n",
              "0                                          \n",
              "Condenser Duty  0.999988  1989.57  0.207341\n",
              "Reboiler Duty   0.999957  4527.33  0.989742\n",
              "AVG             0.999973  3258.45  0.598541"
            ]
          },
          "metadata": {
            "tags": []
          },
          "execution_count": 13
        }
      ]
    },
    {
      "cell_type": "code",
      "metadata": {
        "id": "1y3Bxonvvguo",
        "outputId": "0aab84c2-d36c-488e-b4f6-7150395d833a",
        "colab": {
          "base_uri": "https://localhost:8080/",
          "height": 203
        }
      },
      "source": [
        "part2.get_predict(part2.data['X_test']).head()"
      ],
      "execution_count": 14,
      "outputs": [
        {
          "output_type": "execute_result",
          "data": {
            "text/html": [
              "<div>\n",
              "<style scoped>\n",
              "    .dataframe tbody tr th:only-of-type {\n",
              "        vertical-align: middle;\n",
              "    }\n",
              "\n",
              "    .dataframe tbody tr th {\n",
              "        vertical-align: top;\n",
              "    }\n",
              "\n",
              "    .dataframe thead th {\n",
              "        text-align: right;\n",
              "    }\n",
              "</style>\n",
              "<table border=\"1\" class=\"dataframe\">\n",
              "  <thead>\n",
              "    <tr style=\"text-align: right;\">\n",
              "      <th></th>\n",
              "      <th>Condenser Duty</th>\n",
              "      <th>Reboiler Duty</th>\n",
              "    </tr>\n",
              "  </thead>\n",
              "  <tbody>\n",
              "    <tr>\n",
              "      <th>Case 20</th>\n",
              "      <td>9068.465820</td>\n",
              "      <td>6344.346191</td>\n",
              "    </tr>\n",
              "    <tr>\n",
              "      <th>Case 926</th>\n",
              "      <td>31008.437500</td>\n",
              "      <td>9700.941406</td>\n",
              "    </tr>\n",
              "    <tr>\n",
              "      <th>Case 122</th>\n",
              "      <td>7483.892090</td>\n",
              "      <td>2148.197021</td>\n",
              "    </tr>\n",
              "    <tr>\n",
              "      <th>Case 267</th>\n",
              "      <td>18503.919922</td>\n",
              "      <td>7817.487305</td>\n",
              "    </tr>\n",
              "    <tr>\n",
              "      <th>Case 627</th>\n",
              "      <td>7906.863770</td>\n",
              "      <td>2396.576660</td>\n",
              "    </tr>\n",
              "  </tbody>\n",
              "</table>\n",
              "</div>"
            ],
            "text/plain": [
              "0         Condenser Duty  Reboiler Duty\n",
              "Case 20      9068.465820    6344.346191\n",
              "Case 926    31008.437500    9700.941406\n",
              "Case 122     7483.892090    2148.197021\n",
              "Case 267    18503.919922    7817.487305\n",
              "Case 627     7906.863770    2396.576660"
            ]
          },
          "metadata": {
            "tags": []
          },
          "execution_count": 14
        }
      ]
    },
    {
      "cell_type": "code",
      "metadata": {
        "id": "B_kM1IQgvlHM",
        "outputId": "536b7233-116b-451b-c82d-fe12d7db45b6",
        "colab": {
          "base_uri": "https://localhost:8080/",
          "height": 203
        }
      },
      "source": [
        "part2.data['Y_test'].head()"
      ],
      "execution_count": 15,
      "outputs": [
        {
          "output_type": "execute_result",
          "data": {
            "text/html": [
              "<div>\n",
              "<style scoped>\n",
              "    .dataframe tbody tr th:only-of-type {\n",
              "        vertical-align: middle;\n",
              "    }\n",
              "\n",
              "    .dataframe tbody tr th {\n",
              "        vertical-align: top;\n",
              "    }\n",
              "\n",
              "    .dataframe thead th {\n",
              "        text-align: right;\n",
              "    }\n",
              "</style>\n",
              "<table border=\"1\" class=\"dataframe\">\n",
              "  <thead>\n",
              "    <tr style=\"text-align: right;\">\n",
              "      <th></th>\n",
              "      <th>Condenser Duty</th>\n",
              "      <th>Reboiler Duty</th>\n",
              "    </tr>\n",
              "  </thead>\n",
              "  <tbody>\n",
              "    <tr>\n",
              "      <th>Case 20</th>\n",
              "      <td>9121.500977</td>\n",
              "      <td>6355.505371</td>\n",
              "    </tr>\n",
              "    <tr>\n",
              "      <th>Case 926</th>\n",
              "      <td>30962.689453</td>\n",
              "      <td>9650.259766</td>\n",
              "    </tr>\n",
              "    <tr>\n",
              "      <th>Case 122</th>\n",
              "      <td>7462.469238</td>\n",
              "      <td>2130.883057</td>\n",
              "    </tr>\n",
              "    <tr>\n",
              "      <th>Case 267</th>\n",
              "      <td>18539.771484</td>\n",
              "      <td>7770.625000</td>\n",
              "    </tr>\n",
              "    <tr>\n",
              "      <th>Case 627</th>\n",
              "      <td>7865.996094</td>\n",
              "      <td>2417.245361</td>\n",
              "    </tr>\n",
              "  </tbody>\n",
              "</table>\n",
              "</div>"
            ],
            "text/plain": [
              "0         Condenser Duty  Reboiler Duty\n",
              "Case 20      9121.500977    6355.505371\n",
              "Case 926    30962.689453    9650.259766\n",
              "Case 122     7462.469238    2130.883057\n",
              "Case 267    18539.771484    7770.625000\n",
              "Case 627     7865.996094    2417.245361"
            ]
          },
          "metadata": {
            "tags": []
          },
          "execution_count": 15
        }
      ]
    },
    {
      "cell_type": "markdown",
      "metadata": {
        "id": "v4lmrQEKWDUw"
      },
      "source": [
        "# Part 3：預測操作條件(temp)"
      ]
    },
    {
      "cell_type": "code",
      "metadata": {
        "colab": {
          "base_uri": "https://localhost:8080/",
          "height": 1000
        },
        "id": "yhGTtrR7TfML",
        "outputId": "6688ff09-697e-47d7-8293-e68d8f52c128"
      },
      "source": [
        "part3 = part(df,df.columns[:10],df.columns[[10,14]])\n",
        "part3.train()"
      ],
      "execution_count": 16,
      "outputs": [
        {
          "output_type": "stream",
          "text": [
            "epoch:0 train_loss:0.0473 valid_loss:0.0110\n",
            "save best model\n",
            "save best model\n",
            "save best model\n",
            "save best model\n",
            "save best model\n",
            "save best model\n",
            "save best model\n",
            "save best model\n",
            "save best model\n",
            "save best model\n",
            "save best model\n",
            "save best model\n",
            "save best model\n",
            "save best model\n",
            "save best model\n",
            "save best model\n",
            "save best model\n",
            "save best model\n",
            "save best model\n",
            "save best model\n",
            "save best model\n",
            "save best model\n",
            "save best model\n",
            "save best model\n",
            "save best model\n",
            "save best model\n",
            "epoch:50 train_loss:0.0001 valid_loss:0.0001\n",
            "save best model\n",
            "save best model\n",
            "save best model\n",
            "save best model\n",
            "save best model\n",
            "save best model\n",
            "save best model\n",
            "save best model\n",
            "save best model\n",
            "save best model\n",
            "save best model\n",
            "save best model\n",
            "save best model\n",
            "save best model\n",
            "save best model\n",
            "save best model\n",
            "save best model\n",
            "save best model\n",
            "save best model\n",
            "save best model\n",
            "epoch:100 train_loss:0.0000 valid_loss:0.0001\n",
            "save best model\n",
            "save best model\n",
            "save best model\n",
            "save best model\n",
            "save best model\n",
            "save best model\n",
            "save best model\n",
            "save best model\n",
            "save best model\n",
            "save best model\n",
            "epoch:150 train_loss:0.0000 valid_loss:0.0000\n",
            "save best model\n",
            "epoch:200 train_loss:0.0000 valid_loss:0.0000\n",
            "epoch:250 train_loss:0.0000 valid_loss:0.0001\n",
            "save best model\n",
            "epoch:300 train_loss:0.0000 valid_loss:0.0000\n",
            "save best model\n",
            "epoch:350 train_loss:0.0000 valid_loss:0.0000\n",
            "epoch:400 train_loss:0.0034 valid_loss:0.0025\n",
            "epoch:450 train_loss:0.0001 valid_loss:0.0002\n"
          ],
          "name": "stdout"
        },
        {
          "output_type": "display_data",
          "data": {
            "image/png": "[encoded data removed]",
            "text/plain": [
              "<Figure size 432x288 with 1 Axes>"
            ]
          },
          "metadata": {
            "tags": [],
            "needs_background": "light"
          }
        },
        {
          "output_type": "execute_result",
          "data": {
            "text/plain": [
              "Sequential(\n",
              "  (0): Linear(in_features=10, out_features=256, bias=True)\n",
              "  (1): ReLU()\n",
              "  (2): Linear(in_features=256, out_features=256, bias=True)\n",
              "  (3): ReLU()\n",
              "  (4): Linear(in_features=256, out_features=2, bias=True)\n",
              "  (5): Sigmoid()\n",
              ")"
            ]
          },
          "metadata": {
            "tags": []
          },
          "execution_count": 16
        }
      ]
    },
    {
      "cell_type": "code",
      "metadata": {
        "colab": {
          "base_uri": "https://localhost:8080/",
          "height": 172
        },
        "id": "eIlqZ-vJTr4D",
        "outputId": "74df8411-d8ac-477c-89d4-694432ea744a"
      },
      "source": [
        "part3.test()"
      ],
      "execution_count": 17,
      "outputs": [
        {
          "output_type": "execute_result",
          "data": {
            "text/html": [
              "<div>\n",
              "<style scoped>\n",
              "    .dataframe tbody tr th:only-of-type {\n",
              "        vertical-align: middle;\n",
              "    }\n",
              "\n",
              "    .dataframe tbody tr th {\n",
              "        vertical-align: top;\n",
              "    }\n",
              "\n",
              "    .dataframe thead th {\n",
              "        text-align: right;\n",
              "    }\n",
              "</style>\n",
              "<table border=\"1\" class=\"dataframe\">\n",
              "  <thead>\n",
              "    <tr style=\"text-align: right;\">\n",
              "      <th></th>\n",
              "      <th>R2</th>\n",
              "      <th>MSE</th>\n",
              "      <th>MAPE</th>\n",
              "    </tr>\n",
              "    <tr>\n",
              "      <th>0</th>\n",
              "      <th></th>\n",
              "      <th></th>\n",
              "      <th></th>\n",
              "    </tr>\n",
              "  </thead>\n",
              "  <tbody>\n",
              "    <tr>\n",
              "      <th>Condenser Temperature</th>\n",
              "      <td>0.999939</td>\n",
              "      <td>0.000114016</td>\n",
              "      <td>0.00833208</td>\n",
              "    </tr>\n",
              "    <tr>\n",
              "      <th>Reboiler Temp</th>\n",
              "      <td>0.999962</td>\n",
              "      <td>0.00133365</td>\n",
              "      <td>0.0234162</td>\n",
              "    </tr>\n",
              "    <tr>\n",
              "      <th>AVG</th>\n",
              "      <td>0.99995</td>\n",
              "      <td>0.000723832</td>\n",
              "      <td>0.0158742</td>\n",
              "    </tr>\n",
              "  </tbody>\n",
              "</table>\n",
              "</div>"
            ],
            "text/plain": [
              "                             R2          MSE        MAPE\n",
              "0                                                       \n",
              "Condenser Temperature  0.999939  0.000114016  0.00833208\n",
              "Reboiler Temp          0.999962   0.00133365   0.0234162\n",
              "AVG                     0.99995  0.000723832   0.0158742"
            ]
          },
          "metadata": {
            "tags": []
          },
          "execution_count": 17
        }
      ]
    },
    {
      "cell_type": "code",
      "metadata": {
        "id": "d0KrxJx4MjpL",
        "outputId": "a2c95b2c-5d89-443d-91ff-f46c9e306491",
        "colab": {
          "base_uri": "https://localhost:8080/",
          "height": 203
        }
      },
      "source": [
        "part3.get_predict(part3.data['X_test']).head()"
      ],
      "execution_count": 18,
      "outputs": [
        {
          "output_type": "execute_result",
          "data": {
            "text/html": [
              "<div>\n",
              "<style scoped>\n",
              "    .dataframe tbody tr th:only-of-type {\n",
              "        vertical-align: middle;\n",
              "    }\n",
              "\n",
              "    .dataframe tbody tr th {\n",
              "        vertical-align: top;\n",
              "    }\n",
              "\n",
              "    .dataframe thead th {\n",
              "        text-align: right;\n",
              "    }\n",
              "</style>\n",
              "<table border=\"1\" class=\"dataframe\">\n",
              "  <thead>\n",
              "    <tr style=\"text-align: right;\">\n",
              "      <th></th>\n",
              "      <th>Condenser Temperature</th>\n",
              "      <th>Reboiler Temp</th>\n",
              "    </tr>\n",
              "  </thead>\n",
              "  <tbody>\n",
              "    <tr>\n",
              "      <th>Case 166</th>\n",
              "      <td>82.838989</td>\n",
              "      <td>112.639175</td>\n",
              "    </tr>\n",
              "    <tr>\n",
              "      <th>Case 71</th>\n",
              "      <td>82.825188</td>\n",
              "      <td>106.967743</td>\n",
              "    </tr>\n",
              "    <tr>\n",
              "      <th>Case 856</th>\n",
              "      <td>82.832237</td>\n",
              "      <td>119.655907</td>\n",
              "    </tr>\n",
              "    <tr>\n",
              "      <th>Case 363</th>\n",
              "      <td>82.861084</td>\n",
              "      <td>102.026108</td>\n",
              "    </tr>\n",
              "    <tr>\n",
              "      <th>Case 1143</th>\n",
              "      <td>82.828979</td>\n",
              "      <td>111.305984</td>\n",
              "    </tr>\n",
              "  </tbody>\n",
              "</table>\n",
              "</div>"
            ],
            "text/plain": [
              "0          Condenser Temperature  Reboiler Temp\n",
              "Case 166               82.838989     112.639175\n",
              "Case 71                82.825188     106.967743\n",
              "Case 856               82.832237     119.655907\n",
              "Case 363               82.861084     102.026108\n",
              "Case 1143              82.828979     111.305984"
            ]
          },
          "metadata": {
            "tags": []
          },
          "execution_count": 18
        }
      ]
    },
    {
      "cell_type": "code",
      "metadata": {
        "id": "au_LPCwXvwEq",
        "outputId": "b5b5cc22-ae9e-4be9-c784-7a78eda1b242",
        "colab": {
          "base_uri": "https://localhost:8080/",
          "height": 203
        }
      },
      "source": [
        "part3.data['Y_test'].head()"
      ],
      "execution_count": 19,
      "outputs": [
        {
          "output_type": "execute_result",
          "data": {
            "text/html": [
              "<div>\n",
              "<style scoped>\n",
              "    .dataframe tbody tr th:only-of-type {\n",
              "        vertical-align: middle;\n",
              "    }\n",
              "\n",
              "    .dataframe tbody tr th {\n",
              "        vertical-align: top;\n",
              "    }\n",
              "\n",
              "    .dataframe thead th {\n",
              "        text-align: right;\n",
              "    }\n",
              "</style>\n",
              "<table border=\"1\" class=\"dataframe\">\n",
              "  <thead>\n",
              "    <tr style=\"text-align: right;\">\n",
              "      <th></th>\n",
              "      <th>Condenser Temperature</th>\n",
              "      <th>Reboiler Temp</th>\n",
              "    </tr>\n",
              "  </thead>\n",
              "  <tbody>\n",
              "    <tr>\n",
              "      <th>Case 166</th>\n",
              "      <td>82.845924</td>\n",
              "      <td>112.594864</td>\n",
              "    </tr>\n",
              "    <tr>\n",
              "      <th>Case 71</th>\n",
              "      <td>82.823410</td>\n",
              "      <td>106.918900</td>\n",
              "    </tr>\n",
              "    <tr>\n",
              "      <th>Case 856</th>\n",
              "      <td>82.827988</td>\n",
              "      <td>119.646606</td>\n",
              "    </tr>\n",
              "    <tr>\n",
              "      <th>Case 363</th>\n",
              "      <td>82.854553</td>\n",
              "      <td>102.048050</td>\n",
              "    </tr>\n",
              "    <tr>\n",
              "      <th>Case 1143</th>\n",
              "      <td>82.825783</td>\n",
              "      <td>111.291298</td>\n",
              "    </tr>\n",
              "  </tbody>\n",
              "</table>\n",
              "</div>"
            ],
            "text/plain": [
              "0          Condenser Temperature  Reboiler Temp\n",
              "Case 166               82.845924     112.594864\n",
              "Case 71                82.823410     106.918900\n",
              "Case 856               82.827988     119.646606\n",
              "Case 363               82.854553     102.048050\n",
              "Case 1143              82.825783     111.291298"
            ]
          },
          "metadata": {
            "tags": []
          },
          "execution_count": 19
        }
      ]
    }
  ]
}